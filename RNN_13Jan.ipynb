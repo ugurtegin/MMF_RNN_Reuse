{
  "nbformat": 4,
  "nbformat_minor": 0,
  "metadata": {
    "colab": {
      "name": "RNN.ipynb",
      "provenance": [],
      "machine_shape": "hm",
      "authorship_tag": "ABX9TyPZAOXOqrWXEg2VVSm2GKdM",
      "include_colab_link": true
    },
    "kernelspec": {
      "name": "python3",
      "display_name": "Python 3"
    },
    "accelerator": "GPU"
  },
  "cells": [
    {
      "cell_type": "markdown",
      "metadata": {
        "id": "view-in-github",
        "colab_type": "text"
      },
      "source": [
        "<a href=\"https://colab.research.google.com/github/ugurtegin/MMF_RNN_Reuse/blob/main/RNN_13Jan.ipynb\" target=\"_parent\"><img src=\"https://colab.research.google.com/assets/colab-badge.svg\" alt=\"Open In Colab\"/></a>"
      ]
    },
    {
      "cell_type": "code",
      "metadata": {
        "colab": {
          "base_uri": "https://localhost:8080/"
        },
        "id": "z31J9DFw6eG_",
        "outputId": "f722214c-e985-4779-93cc-def4b493be0b"
      },
      "source": [
        "from google.colab import drive\n",
        "\n",
        "import numpy as np\n",
        "import matplotlib.pyplot as plt\n",
        "import scipy.io as sio\n",
        "\n",
        "# This will prompt for authorization.\n",
        "drive.mount('/content/drive')"
      ],
      "execution_count": 1,
      "outputs": [
        {
          "output_type": "stream",
          "text": [
            "Mounted at /content/drive\n"
          ],
          "name": "stdout"
        }
      ]
    },
    {
      "cell_type": "code",
      "metadata": {
        "id": "u4mVBtPn6k4N"
      },
      "source": [
        "def load_data(filename, train_evo, test_evo, steps, window_size,\n",
        "              normalization='none'):\n",
        "    \"\"\"\n",
        "    Load data. Add input pulse profile as the first step.\n",
        "    The input for the network is 'window_size' times the input profile.\n",
        "\n",
        "    Parameters\n",
        "    ----------\n",
        "    filename : filename as string\n",
        "    train_evo : number of training evolutions as integer\n",
        "    test_evo : number of test evolutions as integer\n",
        "    steps : number of propagation steps as integer\n",
        "    window_size : RNN window size as integer\n",
        "    normalization : none (default), max, dBm, manual ...\n",
        "\n",
        "    Returns\n",
        "    -------\n",
        "    i_x : number of grid points (spectral/temporal) as integer\n",
        "    X_train : training data input, shape (N, window_size, i_x)\n",
        "    X_test : testing data input, shape (M, window_size, i_x)\n",
        "    Y_train : training data output, shape (N, i_x)\n",
        "    Y_test : testing data output, shape (M, i_x)\n",
        "    \"\"\"\n",
        "\n",
        "    # Load data\n",
        "    mat_contents = sio.loadmat(filename)\n",
        "    data = mat_contents['data_w_all']\n",
        "    print(\"data loaded...\")\n",
        "    print(data.shape)\n",
        "\n",
        "    if normalization == 'none':\n",
        "        pass\n",
        "        \n",
        "    elif normalization == 'max':  # linear scale (normalized)\n",
        "        m_max = np.max(np.fabs(data))\n",
        "        print('max:', m_max)\n",
        "        data = data/m_max\n",
        "\n",
        "    elif normalization == 'dBm':  # logarithmic scale\n",
        "        m_max = np.max(np.fabs(data))\n",
        "        print('max:', m_max)\n",
        "        data=data/m_max  # normalize\n",
        "        data = 10*np.log10(data)  # dB scale\n",
        "        dBlim = 35  # define dynamic range\n",
        "        data[data < -dBlim] = -dBlim  # set spectrum <-55 to -55\n",
        "        data = data/dBlim+1\n",
        "        \n",
        "\n",
        "    elif normalization == 'manual':\n",
        "        m_max = 10369993.175721595 # SC spectral domain\n",
        "        print('max:', m_max)\n",
        "        data = data/m_max\n",
        "\n",
        "\n",
        "    # the number of grid points\n",
        "    i_x = data.shape[1]\n",
        "\n",
        "    # Make the time series\n",
        "    num_evo = train_evo + test_evo\n",
        "    evo_size = steps - 1\n",
        "    num_samples = np.round(num_evo*evo_size).astype(int)\n",
        "    X_data_series = np.zeros((num_samples, window_size, i_x))\n",
        "    Y_data_series = np.zeros((num_samples, i_x))\n",
        "\n",
        "    for evo in range(num_evo):\n",
        "        evo_data = np.transpose(data[evo, :, :])\n",
        "\n",
        "        # tile the beginning of the evolution with 'window_size' input profiles\n",
        "        temp1 = evo_data[0, :]\n",
        "        temp2 = np.tile(temp1, (window_size - 1, 1))\n",
        "        evo_data = np.vstack((temp2, evo_data))\n",
        "\n",
        "        for step in range(evo_size):\n",
        "            input_data = evo_data[step:step + window_size, :]\n",
        "            output_data = evo_data[step + window_size, :]\n",
        "            series_idx = evo*evo_size + step\n",
        "            X_data_series[series_idx, :, :] = input_data\n",
        "            Y_data_series[series_idx, :] = output_data\n",
        "\n",
        "\n",
        "    X_train = X_data_series[:num_samples - test_evo*evo_size]\n",
        "    X_test = X_data_series[num_samples - test_evo*evo_size:]\n",
        "    Y_train = Y_data_series[:num_samples - test_evo*evo_size]\n",
        "    Y_test = Y_data_series[num_samples - test_evo*evo_size:]\n",
        "\n",
        "    return i_x, X_train, X_test, Y_train, Y_test, data"
      ],
      "execution_count": 23,
      "outputs": []
    },
    {
      "cell_type": "code",
      "metadata": {
        "colab": {
          "base_uri": "https://localhost:8080/"
        },
        "id": "yr8D5AEI6olF",
        "outputId": "5d9694cc-071f-4a72-98e6-9d89be358b23"
      },
      "source": [
        "filename = '/content/drive/MyDrive/NatMI_MMFwRNN/Data/SC_Pro_Data3/data_w_all.mat'\n",
        "\n",
        "window_size = 10 # RNN window size\n",
        "num_epoch = 50 # number of epochs\n",
        "#num_epoch = 10 # number of epochs\n",
        "\n",
        "train_evo, test_evo, steps = 950, 50, 300\n",
        "added_params = 0\n",
        "\n",
        "\n",
        "i_x, X_train, X_test, Y_train, Y_test, data = load_data(filename, train_evo,test_evo, steps,window_size,'dBm') # max/dBm"
      ],
      "execution_count": 24,
      "outputs": [
        {
          "output_type": "stream",
          "text": [
            "data loaded...\n",
            "(1000, 256, 300)\n",
            "max: 1.4007260743451251e+26\n"
          ],
          "name": "stdout"
        }
      ]
    },
    {
      "cell_type": "code",
      "metadata": {
        "id": "KsCStUUC-eL5",
        "colab": {
          "base_uri": "https://localhost:8080/",
          "height": 594
        },
        "outputId": "ffef2e5a-7db6-4d03-f2c6-c5c81a1cd015"
      },
      "source": [
        "a = 5\n",
        "plt.figure(figsize=(30, 10))\n",
        "plt.imshow(Y_test[a*300:(a+1)*300-a-1,:])\n",
        "plt.colorbar()\n",
        "plt.show()"
      ],
      "execution_count": 25,
      "outputs": [
        {
          "output_type": "display_data",
          "data": {
            "image/png": "[encoded data removed]",
            "text/plain": [
              "<Figure size 2160x720 with 2 Axes>"
            ]
          },
          "metadata": {
            "tags": [],
            "needs_background": "light"
          }
        }
      ]
    },
    {
      "cell_type": "code",
      "metadata": {
        "id": "8ZidOap_-mq1",
        "colab": {
          "base_uri": "https://localhost:8080/",
          "height": 265
        },
        "outputId": "cecd16b0-806c-406f-99ee-66c349124351"
      },
      "source": [
        "a = 2\n",
        "plt.plot(Y_test[(299*a)-a,:])\n",
        "plt.show()"
      ],
      "execution_count": 27,
      "outputs": [
        {
          "output_type": "display_data",
          "data": {
            "image/png": "[encoded data removed]",
            "text/plain": [
              "<Figure size 432x288 with 1 Axes>"
            ]
          },
          "metadata": {
            "tags": [],
            "needs_background": "light"
          }
        }
      ]
    },
    {
      "cell_type": "code",
      "metadata": {
        "colab": {
          "base_uri": "https://localhost:8080/"
        },
        "id": "ASl_q43y7o7k",
        "outputId": "600f30a4-b188-4ecf-e9f5-c8c2189171e5"
      },
      "source": [
        "print(X_train.shape, X_test.shape, Y_train.shape, Y_test.shape)"
      ],
      "execution_count": 28,
      "outputs": [
        {
          "output_type": "stream",
          "text": [
            "(284050, 10, 256) (14950, 10, 256) (284050, 256) (14950, 256)\n"
          ],
          "name": "stdout"
        }
      ]
    },
    {
      "cell_type": "code",
      "metadata": {
        "id": "eTxDGxn-8ih3"
      },
      "source": [
        "from keras.models import Sequential\n",
        "from keras.layers import Dense, Activation, Flatten, LSTM\n",
        "from keras.utils import np_utils\n",
        "from keras.callbacks import History\n",
        "from keras import optimizers\n",
        "\n",
        "\n",
        "def make_RNN_model(window_size, i_x, added_params=0):\n",
        "    \"\"\"\n",
        "    Create RNN model\n",
        "\n",
        "    Parameters\n",
        "    ----------\n",
        "    window_size : RNN window size as integer\n",
        "    i_x : number of grid points as integer\n",
        "    added_params : number of additional parameters as integer (optional)\n",
        "\n",
        "    Returns\n",
        "    -------\n",
        "    model : keras model\n",
        "    \"\"\"\n",
        "\n",
        "    # Define model architecture\n",
        "    model = Sequential()\n",
        "\n",
        "    a = 'relu'\n",
        "    input_shape = (window_size, i_x+added_params)\n",
        "\n",
        "    model.add(LSTM(250, activation=a, input_shape=input_shape))\n",
        "    model.add(Dense(250, activation=a))\n",
        "    model.add(Dense(250, activation=a))\n",
        "    model.add(Dense(i_x, activation='sigmoid'))\n",
        "\n",
        "    # Compile model\n",
        "    optimizer = optimizers.RMSprop(lr=1e-4, rho=0.9)\n",
        "    loss = 'mean_squared_error'\n",
        "    model.compile(loss=loss,\n",
        "                  optimizer=optimizer,\n",
        "                  metrics=['mse', 'mae'])\n",
        "\n",
        "    return model"
      ],
      "execution_count": 29,
      "outputs": []
    },
    {
      "cell_type": "code",
      "metadata": {
        "colab": {
          "base_uri": "https://localhost:8080/"
        },
        "id": "rZE8asPY7s4B",
        "outputId": "f0ea685c-f313-49b3-8da5-0dd1de9bdad0"
      },
      "source": [
        "model = make_RNN_model(window_size, i_x)"
      ],
      "execution_count": 30,
      "outputs": [
        {
          "output_type": "stream",
          "text": [
            "WARNING:tensorflow:Layer lstm will not use cuDNN kernel since it doesn't meet the cuDNN kernel criteria. It will use generic GPU kernel as fallback when running on GPU\n"
          ],
          "name": "stdout"
        }
      ]
    },
    {
      "cell_type": "code",
      "metadata": {
        "colab": {
          "base_uri": "https://localhost:8080/"
        },
        "id": "qCSIUGI79EVP",
        "outputId": "e426477f-9a44-45ec-b986-a35db9011913"
      },
      "source": [
        "model.summary()"
      ],
      "execution_count": 31,
      "outputs": [
        {
          "output_type": "stream",
          "text": [
            "Model: \"sequential\"\n",
            "_________________________________________________________________\n",
            "Layer (type)                 Output Shape              Param #   \n",
            "=================================================================\n",
            "lstm (LSTM)                  (None, 250)               507000    \n",
            "_________________________________________________________________\n",
            "dense (Dense)                (None, 250)               62750     \n",
            "_________________________________________________________________\n",
            "dense_1 (Dense)              (None, 250)               62750     \n",
            "_________________________________________________________________\n",
            "dense_2 (Dense)              (None, 256)               64256     \n",
            "=================================================================\n",
            "Total params: 696,756\n",
            "Trainable params: 696,756\n",
            "Non-trainable params: 0\n",
            "_________________________________________________________________\n"
          ],
          "name": "stdout"
        }
      ]
    },
    {
      "cell_type": "code",
      "metadata": {
        "colab": {
          "base_uri": "https://localhost:8080/"
        },
        "id": "xkmbTCWv8UQd",
        "outputId": "120630e8-437d-400c-893f-1cbb67fe39e6"
      },
      "source": [
        "### Fit model on training data\n",
        "history = model.fit(X_train, Y_train,epochs=num_epoch,validation_split=0.1,verbose=2)"
      ],
      "execution_count": 32,
      "outputs": [
        {
          "output_type": "stream",
          "text": [
            "Epoch 1/50\n",
            "7989/7989 - 136s - loss: 0.0013 - mse: 0.0013 - mae: 0.0076 - val_loss: 3.4885e-04 - val_mse: 3.4885e-04 - val_mae: 0.0100\n",
            "Epoch 2/50\n",
            "7989/7989 - 133s - loss: 3.7343e-05 - mse: 3.7343e-05 - mae: 0.0023 - val_loss: 2.7184e-04 - val_mse: 2.7184e-04 - val_mae: 0.0083\n",
            "Epoch 3/50\n",
            "7989/7989 - 134s - loss: 2.1277e-05 - mse: 2.1277e-05 - mae: 0.0017 - val_loss: 2.4500e-04 - val_mse: 2.4500e-04 - val_mae: 0.0077\n",
            "Epoch 4/50\n",
            "7989/7989 - 134s - loss: 1.4808e-05 - mse: 1.4808e-05 - mae: 0.0015 - val_loss: 2.3252e-04 - val_mse: 2.3252e-04 - val_mae: 0.0071\n",
            "Epoch 5/50\n",
            "7989/7989 - 129s - loss: 1.1378e-05 - mse: 1.1378e-05 - mae: 0.0013 - val_loss: 2.1963e-04 - val_mse: 2.1963e-04 - val_mae: 0.0068\n",
            "Epoch 6/50\n",
            "7989/7989 - 129s - loss: 9.2233e-06 - mse: 9.2233e-06 - mae: 0.0012 - val_loss: 2.0522e-04 - val_mse: 2.0522e-04 - val_mae: 0.0065\n",
            "Epoch 7/50\n",
            "7989/7989 - 129s - loss: 7.7558e-06 - mse: 7.7558e-06 - mae: 0.0011 - val_loss: 1.9338e-04 - val_mse: 1.9338e-04 - val_mae: 0.0062\n",
            "Epoch 8/50\n",
            "7989/7989 - 126s - loss: 6.7166e-06 - mse: 6.7166e-06 - mae: 0.0010 - val_loss: 1.8275e-04 - val_mse: 1.8275e-04 - val_mae: 0.0061\n",
            "Epoch 9/50\n",
            "7989/7989 - 128s - loss: 5.9306e-06 - mse: 5.9306e-06 - mae: 9.4656e-04 - val_loss: 1.8895e-04 - val_mse: 1.8895e-04 - val_mae: 0.0061\n",
            "Epoch 10/50\n",
            "7989/7989 - 127s - loss: 5.3330e-06 - mse: 5.3330e-06 - mae: 8.9728e-04 - val_loss: 1.8005e-04 - val_mse: 1.8005e-04 - val_mae: 0.0058\n",
            "Epoch 11/50\n",
            "7989/7989 - 130s - loss: 4.8525e-06 - mse: 4.8525e-06 - mae: 8.5528e-04 - val_loss: 1.8530e-04 - val_mse: 1.8530e-04 - val_mae: 0.0060\n",
            "Epoch 12/50\n",
            "7989/7989 - 127s - loss: 4.4436e-06 - mse: 4.4436e-06 - mae: 8.2002e-04 - val_loss: 1.6687e-04 - val_mse: 1.6687e-04 - val_mae: 0.0056\n",
            "Epoch 13/50\n",
            "7989/7989 - 127s - loss: 4.1199e-06 - mse: 4.1199e-06 - mae: 7.8905e-04 - val_loss: 1.6795e-04 - val_mse: 1.6795e-04 - val_mae: 0.0055\n",
            "Epoch 14/50\n",
            "7989/7989 - 126s - loss: 3.8404e-06 - mse: 3.8404e-06 - mae: 7.6228e-04 - val_loss: 1.7147e-04 - val_mse: 1.7147e-04 - val_mae: 0.0056\n",
            "Epoch 15/50\n",
            "7989/7989 - 128s - loss: 3.5969e-06 - mse: 3.5969e-06 - mae: 7.3747e-04 - val_loss: 1.6160e-04 - val_mse: 1.6160e-04 - val_mae: 0.0054\n",
            "Epoch 16/50\n",
            "7989/7989 - 127s - loss: 3.3869e-06 - mse: 3.3869e-06 - mae: 7.1595e-04 - val_loss: 1.6530e-04 - val_mse: 1.6530e-04 - val_mae: 0.0055\n",
            "Epoch 17/50\n",
            "7989/7989 - 126s - loss: 3.2010e-06 - mse: 3.2010e-06 - mae: 6.9569e-04 - val_loss: 1.6349e-04 - val_mse: 1.6349e-04 - val_mae: 0.0053\n",
            "Epoch 18/50\n",
            "7989/7989 - 125s - loss: 3.0377e-06 - mse: 3.0377e-06 - mae: 6.7686e-04 - val_loss: 1.6242e-04 - val_mse: 1.6242e-04 - val_mae: 0.0054\n",
            "Epoch 19/50\n",
            "7989/7989 - 133s - loss: 2.9011e-06 - mse: 2.9011e-06 - mae: 6.6183e-04 - val_loss: 1.6370e-04 - val_mse: 1.6370e-04 - val_mae: 0.0054\n",
            "Epoch 20/50\n",
            "7989/7989 - 128s - loss: 2.7652e-06 - mse: 2.7652e-06 - mae: 6.4562e-04 - val_loss: 1.6241e-04 - val_mse: 1.6241e-04 - val_mae: 0.0052\n",
            "Epoch 21/50\n",
            "7989/7989 - 129s - loss: 2.6527e-06 - mse: 2.6527e-06 - mae: 6.3174e-04 - val_loss: 1.6209e-04 - val_mse: 1.6209e-04 - val_mae: 0.0053\n",
            "Epoch 22/50\n",
            "7989/7989 - 128s - loss: 2.5456e-06 - mse: 2.5456e-06 - mae: 6.1964e-04 - val_loss: 1.5770e-04 - val_mse: 1.5770e-04 - val_mae: 0.0052\n",
            "Epoch 23/50\n",
            "7989/7989 - 131s - loss: 2.4531e-06 - mse: 2.4531e-06 - mae: 6.0722e-04 - val_loss: 1.6015e-04 - val_mse: 1.6015e-04 - val_mae: 0.0052\n",
            "Epoch 24/50\n",
            "7989/7989 - 127s - loss: 2.3607e-06 - mse: 2.3607e-06 - mae: 5.9567e-04 - val_loss: 1.5920e-04 - val_mse: 1.5920e-04 - val_mae: 0.0052\n",
            "Epoch 25/50\n",
            "7989/7989 - 127s - loss: 2.2833e-06 - mse: 2.2833e-06 - mae: 5.8579e-04 - val_loss: 1.5445e-04 - val_mse: 1.5445e-04 - val_mae: 0.0051\n",
            "Epoch 26/50\n",
            "7989/7989 - 128s - loss: 2.2124e-06 - mse: 2.2124e-06 - mae: 5.7657e-04 - val_loss: 1.6572e-04 - val_mse: 1.6572e-04 - val_mae: 0.0053\n",
            "Epoch 27/50\n",
            "7989/7989 - 128s - loss: 2.1417e-06 - mse: 2.1417e-06 - mae: 5.6710e-04 - val_loss: 1.5591e-04 - val_mse: 1.5591e-04 - val_mae: 0.0051\n",
            "Epoch 28/50\n",
            "7989/7989 - 128s - loss: 2.0759e-06 - mse: 2.0759e-06 - mae: 5.5829e-04 - val_loss: 1.5727e-04 - val_mse: 1.5727e-04 - val_mae: 0.0051\n",
            "Epoch 29/50\n",
            "7989/7989 - 127s - loss: 2.0170e-06 - mse: 2.0170e-06 - mae: 5.4974e-04 - val_loss: 1.5678e-04 - val_mse: 1.5678e-04 - val_mae: 0.0052\n",
            "Epoch 30/50\n",
            "7989/7989 - 127s - loss: 1.9582e-06 - mse: 1.9582e-06 - mae: 5.4213e-04 - val_loss: 1.5409e-04 - val_mse: 1.5409e-04 - val_mae: 0.0051\n",
            "Epoch 31/50\n",
            "7989/7989 - 131s - loss: 1.9048e-06 - mse: 1.9048e-06 - mae: 5.3392e-04 - val_loss: 1.5117e-04 - val_mse: 1.5117e-04 - val_mae: 0.0050\n",
            "Epoch 32/50\n",
            "7989/7989 - 129s - loss: 1.8561e-06 - mse: 1.8561e-06 - mae: 5.2689e-04 - val_loss: 1.5160e-04 - val_mse: 1.5160e-04 - val_mae: 0.0050\n",
            "Epoch 33/50\n",
            "7989/7989 - 129s - loss: 1.8033e-06 - mse: 1.8033e-06 - mae: 5.1945e-04 - val_loss: 1.5220e-04 - val_mse: 1.5220e-04 - val_mae: 0.0051\n",
            "Epoch 34/50\n",
            "7989/7989 - 127s - loss: 1.7648e-06 - mse: 1.7648e-06 - mae: 5.1408e-04 - val_loss: 1.4942e-04 - val_mse: 1.4942e-04 - val_mae: 0.0050\n",
            "Epoch 35/50\n",
            "7989/7989 - 128s - loss: 1.7173e-06 - mse: 1.7173e-06 - mae: 5.0620e-04 - val_loss: 1.4910e-04 - val_mse: 1.4910e-04 - val_mae: 0.0049\n",
            "Epoch 36/50\n",
            "7989/7989 - 128s - loss: 1.6788e-06 - mse: 1.6788e-06 - mae: 5.0061e-04 - val_loss: 1.5158e-04 - val_mse: 1.5158e-04 - val_mae: 0.0050\n",
            "Epoch 37/50\n",
            "7989/7989 - 126s - loss: 1.6468e-06 - mse: 1.6468e-06 - mae: 4.9556e-04 - val_loss: 1.4799e-04 - val_mse: 1.4799e-04 - val_mae: 0.0049\n",
            "Epoch 38/50\n",
            "7989/7989 - 128s - loss: 1.6078e-06 - mse: 1.6078e-06 - mae: 4.8947e-04 - val_loss: 1.4732e-04 - val_mse: 1.4732e-04 - val_mae: 0.0049\n",
            "Epoch 39/50\n",
            "7989/7989 - 133s - loss: 1.5738e-06 - mse: 1.5738e-06 - mae: 4.8409e-04 - val_loss: 1.4809e-04 - val_mse: 1.4809e-04 - val_mae: 0.0049\n",
            "Epoch 40/50\n",
            "7989/7989 - 132s - loss: 1.5414e-06 - mse: 1.5414e-06 - mae: 4.7916e-04 - val_loss: 1.4940e-04 - val_mse: 1.4940e-04 - val_mae: 0.0049\n",
            "Epoch 41/50\n",
            "7989/7989 - 130s - loss: 1.5128e-06 - mse: 1.5128e-06 - mae: 4.7474e-04 - val_loss: 1.5273e-04 - val_mse: 1.5273e-04 - val_mae: 0.0050\n",
            "Epoch 42/50\n",
            "7989/7989 - 130s - loss: 1.4813e-06 - mse: 1.4813e-06 - mae: 4.6953e-04 - val_loss: 1.4831e-04 - val_mse: 1.4831e-04 - val_mae: 0.0049\n",
            "Epoch 43/50\n",
            "7989/7989 - 132s - loss: 1.4515e-06 - mse: 1.4515e-06 - mae: 4.6499e-04 - val_loss: 1.4687e-04 - val_mse: 1.4687e-04 - val_mae: 0.0049\n",
            "Epoch 44/50\n",
            "7989/7989 - 131s - loss: 1.4230e-06 - mse: 1.4230e-06 - mae: 4.6066e-04 - val_loss: 1.4831e-04 - val_mse: 1.4831e-04 - val_mae: 0.0049\n",
            "Epoch 45/50\n",
            "7989/7989 - 130s - loss: 1.4026e-06 - mse: 1.4026e-06 - mae: 4.5619e-04 - val_loss: 1.4785e-04 - val_mse: 1.4785e-04 - val_mae: 0.0049\n",
            "Epoch 46/50\n",
            "7989/7989 - 130s - loss: 1.3759e-06 - mse: 1.3759e-06 - mae: 4.5217e-04 - val_loss: 1.4721e-04 - val_mse: 1.4721e-04 - val_mae: 0.0049\n",
            "Epoch 47/50\n",
            "7989/7989 - 131s - loss: 1.3500e-06 - mse: 1.3500e-06 - mae: 4.4788e-04 - val_loss: 1.4609e-04 - val_mse: 1.4609e-04 - val_mae: 0.0049\n",
            "Epoch 48/50\n",
            "7989/7989 - 131s - loss: 1.3275e-06 - mse: 1.3275e-06 - mae: 4.4434e-04 - val_loss: 1.4750e-04 - val_mse: 1.4750e-04 - val_mae: 0.0049\n",
            "Epoch 49/50\n",
            "7989/7989 - 129s - loss: 1.3074e-06 - mse: 1.3074e-06 - mae: 4.4064e-04 - val_loss: 1.4493e-04 - val_mse: 1.4493e-04 - val_mae: 0.0048\n",
            "Epoch 50/50\n",
            "7989/7989 - 130s - loss: 1.2872e-06 - mse: 1.2872e-06 - mae: 4.3697e-04 - val_loss: 1.4550e-04 - val_mse: 1.4550e-04 - val_mae: 0.0049\n"
          ],
          "name": "stdout"
        }
      ]
    },
    {
      "cell_type": "code",
      "metadata": {
        "colab": {
          "base_uri": "https://localhost:8080/",
          "height": 278
        },
        "id": "cx6YnLe19PAs",
        "outputId": "3ce1e88d-30b7-4ffe-a958-2119c19589f2"
      },
      "source": [
        "plt.figure()\n",
        "plt.xlabel('Epoch')\n",
        "plt.plot(history.epoch, np.array(history.history['loss']),label='Train Loss')\n",
        "plt.plot(history.epoch, np.array(history.history['val_loss']),label = 'Val loss')\n",
        "plt.legend()\n",
        "plt.show()"
      ],
      "execution_count": 33,
      "outputs": [
        {
          "output_type": "display_data",
          "data": {
            "image/png": "[encoded data removed]",
            "text/plain": [
              "<Figure size 432x288 with 1 Axes>"
            ]
          },
          "metadata": {
            "tags": [],
            "needs_background": "light"
          }
        }
      ]
    },
    {
      "cell_type": "code",
      "metadata": {
        "id": "yWEnuwniUX0z"
      },
      "source": [
        "model.save('/content/drive/MyDrive/NatMI_MMFwRNN/Data/SC_Pro_Data3/evo.h5')"
      ],
      "execution_count": 34,
      "outputs": []
    },
    {
      "cell_type": "code",
      "metadata": {
        "colab": {
          "base_uri": "https://localhost:8080/"
        },
        "id": "w40S6QCwUzzk",
        "outputId": "6c6c80fe-b085-4a10-c963-a27395ba5938"
      },
      "source": [
        "print(\"TESTING STEP-WISE...\")\n",
        "Y_submit = model.predict_proba(X_test)"
      ],
      "execution_count": 35,
      "outputs": [
        {
          "output_type": "stream",
          "text": [
            "TESTING STEP-WISE...\n"
          ],
          "name": "stdout"
        },
        {
          "output_type": "stream",
          "text": [
            "/usr/local/lib/python3.6/dist-packages/tensorflow/python/keras/engine/sequential.py:425: UserWarning: `model.predict_proba()` is deprecated and will be removed after 2021-01-01. Please use `model.predict()` instead.\n",
            "  warnings.warn('`model.predict_proba()` is deprecated and '\n"
          ],
          "name": "stderr"
        }
      ]
    },
    {
      "cell_type": "code",
      "metadata": {
        "colab": {
          "base_uri": "https://localhost:8080/"
        },
        "id": "Q6_nYhtcU69T",
        "outputId": "c2f7951d-0f6c-42c2-d2ca-4344c3f01224"
      },
      "source": [
        "Y_submit.shape"
      ],
      "execution_count": 36,
      "outputs": [
        {
          "output_type": "execute_result",
          "data": {
            "text/plain": [
              "(14950, 256)"
            ]
          },
          "metadata": {
            "tags": []
          },
          "execution_count": 36
        }
      ]
    },
    {
      "cell_type": "code",
      "metadata": {
        "id": "ZAkJp9X6U8Iv"
      },
      "source": [
        "sio.savemat('/content/drive/MyDrive/NatMI_MMFwRNN/Data/SC_Pro_Data3/test_results.mat', {'Y_submit':Y_submit, 'Y_test':Y_test, 'steps':steps,'window_size':window_size})"
      ],
      "execution_count": 37,
      "outputs": []
    },
    {
      "cell_type": "code",
      "metadata": {
        "id": "xDdwMHT1Wfec"
      },
      "source": [
        "def pred_evo(model, X_test, test_evo, steps, window_size, i_x):\n",
        "    \"\"\"\n",
        "    Predict evolution from a given input step. The input is 'window_size' times\n",
        "    the given input.\n",
        "\n",
        "    Parameters\n",
        "    ----------\n",
        "    model : Keras model\n",
        "    X_test: : test data, size (samples, window_size, i_x)\n",
        "    test_evo : number of test evolutions as integer\n",
        "    steps : steps as integer\n",
        "    window_size : RNN window size as integer\n",
        "    i_x : number of grid points (spectral/temporal) as integer\n",
        "\n",
        "    Returns\n",
        "    -------\n",
        "    Y_submit : results matrix, size (samples, i_x)\n",
        "    \"\"\"\n",
        "\n",
        "    # Make the time series\n",
        "    evo_size = steps - 1\n",
        "    Y_submit = np.zeros((test_evo, evo_size, i_x))\n",
        "    test_data = X_test[::evo_size,:,:]  # select fiber input profiles\n",
        "\n",
        "    for step in range(evo_size):\n",
        "        test_result = model.predict_proba(test_data)\n",
        "        Y_submit[:,step,:] = test_result\n",
        "        test_result = np.expand_dims(test_result, axis=1)\n",
        "        test_data = np.concatenate((test_data,test_result), axis=1)\n",
        "        test_data = test_data[:, 1:, :]\n",
        "\n",
        "    # reshape to the original dimensions\n",
        "    Y_submit = np.reshape(Y_submit,(evo_size*test_evo, i_x))\n",
        "\n",
        "    return Y_submit"
      ],
      "execution_count": 38,
      "outputs": []
    },
    {
      "cell_type": "code",
      "metadata": {
        "colab": {
          "base_uri": "https://localhost:8080/"
        },
        "id": "qP__0c-CVZ14",
        "outputId": "1076de1d-2060-41df-aa6b-e7baef017410"
      },
      "source": [
        "Y_submit = pred_evo(model, X_test, test_evo, steps, window_size, i_x)"
      ],
      "execution_count": 39,
      "outputs": [
        {
          "output_type": "stream",
          "text": [
            "/usr/local/lib/python3.6/dist-packages/tensorflow/python/keras/engine/sequential.py:425: UserWarning: `model.predict_proba()` is deprecated and will be removed after 2021-01-01. Please use `model.predict()` instead.\n",
            "  warnings.warn('`model.predict_proba()` is deprecated and '\n"
          ],
          "name": "stderr"
        }
      ]
    },
    {
      "cell_type": "code",
      "metadata": {
        "id": "m0lfV55039JH",
        "colab": {
          "base_uri": "https://localhost:8080/"
        },
        "outputId": "410f10be-9b71-4ae9-9e2e-8f4e729c140f"
      },
      "source": [
        "Y_submit.shape"
      ],
      "execution_count": 40,
      "outputs": [
        {
          "output_type": "execute_result",
          "data": {
            "text/plain": [
              "(14950, 256)"
            ]
          },
          "metadata": {
            "tags": []
          },
          "execution_count": 40
        }
      ]
    },
    {
      "cell_type": "code",
      "metadata": {
        "id": "ktYVYx4qVcdu"
      },
      "source": [
        "sio.savemat('/content/drive/MyDrive/NatMI_MMFwRNN/Data/SC_Pro_Data3/full_test_results.mat', {'Y_submit':Y_submit, 'Y_test':Y_test, 'steps':steps,'window_size':window_size})"
      ],
      "execution_count": 41,
      "outputs": []
    }
  ]
}