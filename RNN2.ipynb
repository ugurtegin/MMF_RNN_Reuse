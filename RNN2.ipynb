{
  "nbformat": 4,
  "nbformat_minor": 0,
  "metadata": {
    "colab": {
      "name": "RNN.ipynb",
      "provenance": [],
      "machine_shape": "hm",
      "authorship_tag": "ABX9TyM6uprkDH3umoeNWOh/qJBY",
      "include_colab_link": true
    },
    "kernelspec": {
      "name": "python3",
      "display_name": "Python 3"
    },
    "accelerator": "GPU"
  },
  "cells": [
    {
      "cell_type": "markdown",
      "metadata": {
        "id": "view-in-github",
        "colab_type": "text"
      },
      "source": [
        "<a href=\"https://colab.research.google.com/github/ugurtegin/MMF_RNN_Reuse/blob/main/RNN2.ipynb\" target=\"_parent\"><img src=\"https://colab.research.google.com/assets/colab-badge.svg\" alt=\"Open In Colab\"/></a>"
      ]
    },
    {
      "cell_type": "code",
      "metadata": {
        "colab": {
          "base_uri": "https://localhost:8080/"
        },
        "id": "z31J9DFw6eG_",
        "outputId": "27075d99-277e-4b60-cc5c-a9bf8c2fe89b"
      },
      "source": [
        "from google.colab import drive\n",
        "\n",
        "import numpy as np\n",
        "import matplotlib.pyplot as plt\n",
        "import scipy.io as sio\n",
        "\n",
        "# This will prompt for authorization.\n",
        "drive.mount('/content/drive')"
      ],
      "execution_count": 3,
      "outputs": [
        {
          "output_type": "stream",
          "text": [
            "Drive already mounted at /content/drive; to attempt to forcibly remount, call drive.mount(\"/content/drive\", force_remount=True).\n"
          ],
          "name": "stdout"
        }
      ]
    },
    {
      "cell_type": "code",
      "metadata": {
        "id": "u4mVBtPn6k4N"
      },
      "source": [
        "def load_data(filename, train_evo, test_evo, steps, window_size,\n",
        "              normalization='none'):\n",
        "    \"\"\"\n",
        "    Load data. Add input pulse profile as the first step.\n",
        "    The input for the network is 'window_size' times the input profile.\n",
        "\n",
        "    Parameters\n",
        "    ----------\n",
        "    filename : filename as string\n",
        "    train_evo : number of training evolutions as integer\n",
        "    test_evo : number of test evolutions as integer\n",
        "    steps : number of propagation steps as integer\n",
        "    window_size : RNN window size as integer\n",
        "    normalization : none (default), max, dBm, manual ...\n",
        "\n",
        "    Returns\n",
        "    -------\n",
        "    i_x : number of grid points (spectral/temporal) as integer\n",
        "    X_train : training data input, shape (N, window_size, i_x)\n",
        "    X_test : testing data input, shape (M, window_size, i_x)\n",
        "    Y_train : training data output, shape (N, i_x)\n",
        "    Y_test : testing data output, shape (M, i_x)\n",
        "    \"\"\"\n",
        "\n",
        "    # Load data\n",
        "    mat_contents = sio.loadmat(filename)\n",
        "    data = mat_contents['data_w_all']\n",
        "    print(\"data loaded...\")\n",
        "    print(data.shape)\n",
        "\n",
        "    if normalization == 'none':\n",
        "        pass\n",
        "        \n",
        "    elif normalization == 'max':  # linear scale (normalized)\n",
        "        m_max = np.max(np.fabs(data))\n",
        "        print('max:', m_max)\n",
        "        data = data/m_max\n",
        "\n",
        "    elif normalization == 'dBm':  # logarithmic scale\n",
        "        m_max = np.max(np.fabs(data))\n",
        "        print('max:', m_max)\n",
        "        data=data/m_max  # normalize\n",
        "        data = 10*np.log10(data)  # dB scale\n",
        "        dBlim = np.abs(np.min(np.min(data)))  # define dynamic range\n",
        "        data[data < -dBlim] = -dBlim  # set spectrum <-55 to -55\n",
        "        data = data/dBlim + 1.00001\n",
        "        ##### Asagisi karisik\n",
        "        data = 10*np.log10(data)  # dB scale\n",
        "        dBlim = np.abs(np.min(np.min(data)))  # define dynamic range\n",
        "        data[data < -dBlim] = -dBlim  # set spectrum <-55 to -55\n",
        "        print(dBlim)\n",
        "        data = data/dBlim + 1\n",
        "        #####################\n",
        "\n",
        "    elif normalization == 'manual':\n",
        "        m_max = 10369993.175721595 # SC spectral domain\n",
        "        print('max:', m_max)\n",
        "        data = data/m_max\n",
        "\n",
        "\n",
        "    # the number of grid points\n",
        "    i_x = data.shape[1]\n",
        "\n",
        "    # Make the time series\n",
        "    num_evo = train_evo + test_evo\n",
        "    evo_size = steps - 1\n",
        "    num_samples = np.round(num_evo*evo_size).astype(int)\n",
        "    X_data_series = np.zeros((num_samples, window_size, i_x))\n",
        "    Y_data_series = np.zeros((num_samples, i_x))\n",
        "\n",
        "    for evo in range(num_evo):\n",
        "        evo_data = np.transpose(data[evo, :, :])\n",
        "\n",
        "        # tile the beginning of the evolution with 'window_size' input profiles\n",
        "        temp1 = evo_data[0, :]\n",
        "        temp2 = np.tile(temp1, (window_size - 1, 1))\n",
        "        evo_data = np.vstack((temp2, evo_data))\n",
        "\n",
        "        for step in range(evo_size):\n",
        "            input_data = evo_data[step:step + window_size, :]\n",
        "            output_data = evo_data[step + window_size, :]\n",
        "            series_idx = evo*evo_size + step\n",
        "            X_data_series[series_idx, :, :] = input_data\n",
        "            Y_data_series[series_idx, :] = output_data\n",
        "\n",
        "\n",
        "    X_train = X_data_series[:num_samples - test_evo*evo_size]\n",
        "    X_test = X_data_series[num_samples - test_evo*evo_size:]\n",
        "    Y_train = Y_data_series[:num_samples - test_evo*evo_size]\n",
        "    Y_test = Y_data_series[num_samples - test_evo*evo_size:]\n",
        "\n",
        "    return i_x, X_train, X_test, Y_train, Y_test, data"
      ],
      "execution_count": 43,
      "outputs": []
    },
    {
      "cell_type": "code",
      "metadata": {
        "colab": {
          "base_uri": "https://localhost:8080/"
        },
        "id": "yr8D5AEI6olF",
        "outputId": "7a443d45-f10e-43f9-9bbf-8493a95fc673"
      },
      "source": [
        "filename = '/content/drive/MyDrive/NatMI_MMFwRNN/Data/data_w_all.mat'\n",
        "\n",
        "window_size = 10 # RNN window size\n",
        "#num_epoch = 50 # number of epochs\n",
        "num_epoch = 10 # number of epochs\n",
        "\n",
        "train_evo, test_evo, steps = 950, 50, 320\n",
        "added_params = 0\n",
        "\n",
        "\n",
        "i_x, X_train, X_test, Y_train, Y_test, data = load_data(filename, train_evo,test_evo, steps,window_size,'dBm') # max/dBm"
      ],
      "execution_count": 44,
      "outputs": [
        {
          "output_type": "stream",
          "text": [
            "data loaded...\n",
            "(1000, 256, 320)\n",
            "max: 2.3357915880844386e+26\n",
            "49.99999999997155\n"
          ],
          "name": "stdout"
        }
      ]
    },
    {
      "cell_type": "code",
      "metadata": {
        "id": "KsCStUUC-eL5",
        "outputId": "0268d8f8-f4b5-4b8f-981f-6c7338ab30d0",
        "colab": {
          "base_uri": "https://localhost:8080/",
          "height": 269
        }
      },
      "source": [
        "a = 44\n",
        "plt.imshow(Y_test[a*320:(a+1)*320-a-1,:])\n",
        "plt.colorbar()\n",
        "plt.show()"
      ],
      "execution_count": 26,
      "outputs": [
        {
          "output_type": "display_data",
          "data": {
            "image/png": "[encoded data removed]",
            "text/plain": [
              "<Figure size 432x288 with 2 Axes>"
            ]
          },
          "metadata": {
            "tags": [],
            "needs_background": "light"
          }
        }
      ]
    },
    {
      "cell_type": "code",
      "metadata": {
        "id": "Tg7hs5_cHeQw",
        "outputId": "1415988f-c583-4eb5-bb73-7c100d1dbbf8",
        "colab": {
          "base_uri": "https://localhost:8080/"
        }
      },
      "source": [
        "np.min(np.min(X_train))"
      ],
      "execution_count": 27,
      "outputs": [
        {
          "output_type": "execute_result",
          "data": {
            "text/plain": [
              "0.0"
            ]
          },
          "metadata": {
            "tags": []
          },
          "execution_count": 27
        }
      ]
    },
    {
      "cell_type": "code",
      "metadata": {
        "id": "8ZidOap_-mq1",
        "outputId": "f078519e-8b89-4738-a7bf-42e3cf5f7976",
        "colab": {
          "base_uri": "https://localhost:8080/",
          "height": 265
        }
      },
      "source": [
        "a = 40\n",
        "plt.plot(Y_test[(319*a)-a,:])\n",
        "plt.show()"
      ],
      "execution_count": 28,
      "outputs": [
        {
          "output_type": "display_data",
          "data": {
            "image/png": "[encoded data removed]",
            "text/plain": [
              "<Figure size 432x288 with 1 Axes>"
            ]
          },
          "metadata": {
            "tags": [],
            "needs_background": "light"
          }
        }
      ]
    },
    {
      "cell_type": "code",
      "metadata": {
        "colab": {
          "base_uri": "https://localhost:8080/"
        },
        "id": "ASl_q43y7o7k",
        "outputId": "9509292b-fd8f-4dc4-f443-3e9cf847ed7f"
      },
      "source": [
        "print(X_train.shape, X_test.shape, Y_train.shape, Y_test.shape)"
      ],
      "execution_count": 29,
      "outputs": [
        {
          "output_type": "stream",
          "text": [
            "(303050, 10, 256) (15950, 10, 256) (303050, 256) (15950, 256)\n"
          ],
          "name": "stdout"
        }
      ]
    },
    {
      "cell_type": "code",
      "metadata": {
        "id": "eTxDGxn-8ih3"
      },
      "source": [
        "from keras.models import Sequential\n",
        "from keras.layers import Dense, Activation, Flatten, LSTM\n",
        "from keras.utils import np_utils\n",
        "from keras.callbacks import History\n",
        "from keras import optimizers\n",
        "\n",
        "\n",
        "def make_RNN_model(window_size, i_x, added_params=0):\n",
        "    \"\"\"\n",
        "    Create RNN model\n",
        "\n",
        "    Parameters\n",
        "    ----------\n",
        "    window_size : RNN window size as integer\n",
        "    i_x : number of grid points as integer\n",
        "    added_params : number of additional parameters as integer (optional)\n",
        "\n",
        "    Returns\n",
        "    -------\n",
        "    model : keras model\n",
        "    \"\"\"\n",
        "\n",
        "    # Define model architecture\n",
        "    model = Sequential()\n",
        "\n",
        "    a = 'relu'\n",
        "    input_shape = (window_size, i_x+added_params)\n",
        "\n",
        "    model.add(LSTM(250, activation=a, input_shape=input_shape))\n",
        "    model.add(Dense(250, activation=a))\n",
        "    model.add(Dense(250, activation=a))\n",
        "    model.add(Dense(i_x, activation='sigmoid'))\n",
        "\n",
        "    # Compile model\n",
        "    optimizer = optimizers.RMSprop(lr=1e-4, rho=0.9)\n",
        "    loss = 'mean_squared_error'\n",
        "    model.compile(loss=loss,\n",
        "                  optimizer=optimizer,\n",
        "                  metrics=['mse', 'mae'])\n",
        "\n",
        "    return model"
      ],
      "execution_count": 30,
      "outputs": []
    },
    {
      "cell_type": "code",
      "metadata": {
        "colab": {
          "base_uri": "https://localhost:8080/"
        },
        "id": "rZE8asPY7s4B",
        "outputId": "037f3fab-6575-4830-de48-27fcf1418622"
      },
      "source": [
        "model = make_RNN_model(window_size, i_x)"
      ],
      "execution_count": 31,
      "outputs": [
        {
          "output_type": "stream",
          "text": [
            "WARNING:tensorflow:Layer lstm will not use cuDNN kernel since it doesn't meet the cuDNN kernel criteria. It will use generic GPU kernel as fallback when running on GPU\n"
          ],
          "name": "stdout"
        }
      ]
    },
    {
      "cell_type": "code",
      "metadata": {
        "colab": {
          "base_uri": "https://localhost:8080/"
        },
        "id": "qCSIUGI79EVP",
        "outputId": "319aa6d7-c85f-43f1-cacb-7f65940af09e"
      },
      "source": [
        "model.summary()"
      ],
      "execution_count": 32,
      "outputs": [
        {
          "output_type": "stream",
          "text": [
            "Model: \"sequential\"\n",
            "_________________________________________________________________\n",
            "Layer (type)                 Output Shape              Param #   \n",
            "=================================================================\n",
            "lstm (LSTM)                  (None, 250)               507000    \n",
            "_________________________________________________________________\n",
            "dense (Dense)                (None, 250)               62750     \n",
            "_________________________________________________________________\n",
            "dense_1 (Dense)              (None, 250)               62750     \n",
            "_________________________________________________________________\n",
            "dense_2 (Dense)              (None, 256)               64256     \n",
            "=================================================================\n",
            "Total params: 696,756\n",
            "Trainable params: 696,756\n",
            "Non-trainable params: 0\n",
            "_________________________________________________________________\n"
          ],
          "name": "stdout"
        }
      ]
    },
    {
      "cell_type": "code",
      "metadata": {
        "colab": {
          "base_uri": "https://localhost:8080/"
        },
        "id": "xkmbTCWv8UQd",
        "outputId": "69274cb8-5cf4-494c-b47d-19c567fafb72"
      },
      "source": [
        "### Fit model on training data\n",
        "history = model.fit(X_train, Y_train,epochs=num_epoch,validation_split=0.1,verbose=2)"
      ],
      "execution_count": 33,
      "outputs": [
        {
          "output_type": "stream",
          "text": [
            "Epoch 1/10\n",
            "8524/8524 - 153s - loss: 3.8854e-04 - mse: 3.8854e-04 - mae: 0.0106 - val_loss: 7.0461e-05 - val_mse: 7.0461e-05 - val_mae: 0.0058\n",
            "Epoch 2/10\n",
            "8524/8524 - 152s - loss: 8.6187e-05 - mse: 8.6187e-05 - mae: 0.0070 - val_loss: 1.3083e-04 - val_mse: 1.3083e-04 - val_mae: 0.0090\n",
            "Epoch 3/10\n",
            "8524/8524 - 151s - loss: 6.4186e-05 - mse: 6.4186e-05 - mae: 0.0060 - val_loss: 6.2317e-05 - val_mse: 6.2317e-05 - val_mae: 0.0059\n",
            "Epoch 4/10\n",
            "8524/8524 - 151s - loss: 5.3894e-05 - mse: 5.3894e-05 - mae: 0.0055 - val_loss: 5.5861e-05 - val_mse: 5.5861e-05 - val_mae: 0.0053\n",
            "Epoch 5/10\n",
            "8524/8524 - 151s - loss: 4.7651e-05 - mse: 4.7651e-05 - mae: 0.0051 - val_loss: 5.9393e-05 - val_mse: 5.9393e-05 - val_mae: 0.0050\n",
            "Epoch 6/10\n",
            "8524/8524 - 152s - loss: 4.2701e-05 - mse: 4.2701e-05 - mae: 0.0048 - val_loss: 3.6079e-05 - val_mse: 3.6079e-05 - val_mae: 0.0046\n",
            "Epoch 7/10\n",
            "8524/8524 - 150s - loss: 3.9426e-05 - mse: 3.9426e-05 - mae: 0.0046 - val_loss: 3.6425e-05 - val_mse: 3.6425e-05 - val_mae: 0.0044\n",
            "Epoch 8/10\n",
            "8524/8524 - 153s - loss: 3.6550e-05 - mse: 3.6550e-05 - mae: 0.0044 - val_loss: 4.9842e-05 - val_mse: 4.9842e-05 - val_mae: 0.0051\n",
            "Epoch 9/10\n",
            "8524/8524 - 151s - loss: 3.3663e-05 - mse: 3.3663e-05 - mae: 0.0042 - val_loss: 1.5011e-04 - val_mse: 1.5011e-04 - val_mae: 0.0087\n",
            "Epoch 10/10\n",
            "8524/8524 - 151s - loss: 3.1740e-05 - mse: 3.1740e-05 - mae: 0.0040 - val_loss: 2.8034e-05 - val_mse: 2.8034e-05 - val_mae: 0.0037\n"
          ],
          "name": "stdout"
        }
      ]
    },
    {
      "cell_type": "code",
      "metadata": {
        "colab": {
          "base_uri": "https://localhost:8080/",
          "height": 280
        },
        "id": "cx6YnLe19PAs",
        "outputId": "f4bf6ba1-bc1c-4b56-c535-1f72efec73f7"
      },
      "source": [
        "plt.figure()\n",
        "plt.xlabel('Epoch')\n",
        "plt.plot(history.epoch, np.array(history.history['loss']),label='Train Loss')\n",
        "plt.plot(history.epoch, np.array(history.history['val_loss']),label = 'Val loss')\n",
        "plt.legend()\n",
        "plt.show()"
      ],
      "execution_count": 34,
      "outputs": [
        {
          "output_type": "display_data",
          "data": {
            "image/png": "[encoded data removed]",
            "text/plain": [
              "<Figure size 432x288 with 1 Axes>"
            ]
          },
          "metadata": {
            "tags": [],
            "needs_background": "light"
          }
        }
      ]
    },
    {
      "cell_type": "code",
      "metadata": {
        "id": "yWEnuwniUX0z"
      },
      "source": [
        "model.save('evo.h5')"
      ],
      "execution_count": 35,
      "outputs": []
    },
    {
      "cell_type": "code",
      "metadata": {
        "colab": {
          "base_uri": "https://localhost:8080/"
        },
        "id": "w40S6QCwUzzk",
        "outputId": "4ce4b9dc-7371-4193-c2db-9d761a42b32d"
      },
      "source": [
        "print(\"TESTING STEP-WISE...\")\n",
        "Y_submit = model.predict_proba(X_test)"
      ],
      "execution_count": 36,
      "outputs": [
        {
          "output_type": "stream",
          "text": [
            "TESTING STEP-WISE...\n"
          ],
          "name": "stdout"
        },
        {
          "output_type": "stream",
          "text": [
            "/usr/local/lib/python3.6/dist-packages/tensorflow/python/keras/engine/sequential.py:425: UserWarning: `model.predict_proba()` is deprecated and will be removed after 2021-01-01. Please use `model.predict()` instead.\n",
            "  warnings.warn('`model.predict_proba()` is deprecated and '\n"
          ],
          "name": "stderr"
        }
      ]
    },
    {
      "cell_type": "code",
      "metadata": {
        "colab": {
          "base_uri": "https://localhost:8080/"
        },
        "id": "Q6_nYhtcU69T",
        "outputId": "1cbf11eb-220a-482f-a104-d6b5ca38c714"
      },
      "source": [
        "Y_submit.shape"
      ],
      "execution_count": 37,
      "outputs": [
        {
          "output_type": "execute_result",
          "data": {
            "text/plain": [
              "(15950, 256)"
            ]
          },
          "metadata": {
            "tags": []
          },
          "execution_count": 37
        }
      ]
    },
    {
      "cell_type": "code",
      "metadata": {
        "id": "ZAkJp9X6U8Iv"
      },
      "source": [
        "sio.savemat('test_results.mat', {'Y_submit':Y_submit, 'Y_test':Y_test, 'steps':steps,'window_size':window_size})"
      ],
      "execution_count": 38,
      "outputs": []
    },
    {
      "cell_type": "code",
      "metadata": {
        "id": "xDdwMHT1Wfec"
      },
      "source": [
        "def pred_evo(model, X_test, test_evo, steps, window_size, i_x):\n",
        "    \"\"\"\n",
        "    Predict evolution from a given input step. The input is 'window_size' times\n",
        "    the given input.\n",
        "\n",
        "    Parameters\n",
        "    ----------\n",
        "    model : Keras model\n",
        "    X_test: : test data, size (samples, window_size, i_x)\n",
        "    test_evo : number of test evolutions as integer\n",
        "    steps : steps as integer\n",
        "    window_size : RNN window size as integer\n",
        "    i_x : number of grid points (spectral/temporal) as integer\n",
        "\n",
        "    Returns\n",
        "    -------\n",
        "    Y_submit : results matrix, size (samples, i_x)\n",
        "    \"\"\"\n",
        "\n",
        "    # Make the time series\n",
        "    evo_size = steps - 1\n",
        "    Y_submit = np.zeros((test_evo, evo_size, i_x))\n",
        "    test_data = X_test[::evo_size,:,:]  # select fiber input profiles\n",
        "\n",
        "    for step in range(evo_size):\n",
        "        test_result = model.predict_proba(test_data)\n",
        "        Y_submit[:,step,:] = test_result\n",
        "        test_result = np.expand_dims(test_result, axis=1)\n",
        "        test_data = np.concatenate((test_data,test_result), axis=1)\n",
        "        test_data = test_data[:, 1:, :]\n",
        "\n",
        "    # reshape to the original dimensions\n",
        "    Y_submit = np.reshape(Y_submit,(evo_size*test_evo, i_x))\n",
        "\n",
        "    return Y_submit"
      ],
      "execution_count": 39,
      "outputs": []
    },
    {
      "cell_type": "code",
      "metadata": {
        "colab": {
          "base_uri": "https://localhost:8080/"
        },
        "id": "qP__0c-CVZ14",
        "outputId": "e9bfca0d-3496-4fba-a0f7-8d22f1910628"
      },
      "source": [
        "Y_submit = pred_evo(model, X_test, test_evo, steps, window_size, i_x)"
      ],
      "execution_count": 40,
      "outputs": [
        {
          "output_type": "stream",
          "text": [
            "/usr/local/lib/python3.6/dist-packages/tensorflow/python/keras/engine/sequential.py:425: UserWarning: `model.predict_proba()` is deprecated and will be removed after 2021-01-01. Please use `model.predict()` instead.\n",
            "  warnings.warn('`model.predict_proba()` is deprecated and '\n"
          ],
          "name": "stderr"
        }
      ]
    },
    {
      "cell_type": "code",
      "metadata": {
        "id": "m0lfV55039JH",
        "outputId": "4140bd9e-312c-4adc-e1f4-fa6fff448eba",
        "colab": {
          "base_uri": "https://localhost:8080/"
        }
      },
      "source": [
        "Y_submit.shape"
      ],
      "execution_count": 41,
      "outputs": [
        {
          "output_type": "execute_result",
          "data": {
            "text/plain": [
              "(15950, 256)"
            ]
          },
          "metadata": {
            "tags": []
          },
          "execution_count": 41
        }
      ]
    },
    {
      "cell_type": "code",
      "metadata": {
        "id": "ktYVYx4qVcdu"
      },
      "source": [
        "sio.savemat('full_test_results.mat', {'Y_submit':Y_submit, 'Y_test':Y_test, 'steps':steps,'window_size':window_size})"
      ],
      "execution_count": 42,
      "outputs": []
    },
    {
      "cell_type": "code",
      "metadata": {
        "id": "oo1d6WAJKSQu"
      },
      "source": [
        ""
      ],
      "execution_count": null,
      "outputs": []
    }
  ]
}