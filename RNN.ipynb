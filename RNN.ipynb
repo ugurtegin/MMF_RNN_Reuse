{
  "nbformat": 4,
  "nbformat_minor": 0,
  "metadata": {
    "colab": {
      "name": "RNN.ipynb",
      "provenance": [],
      "machine_shape": "hm",
      "authorship_tag": "ABX9TyPbSRZk+xJfroxEQyKqJFur",
      "include_colab_link": true
    },
    "kernelspec": {
      "name": "python3",
      "display_name": "Python 3"
    },
    "accelerator": "GPU"
  },
  "cells": [
    {
      "cell_type": "markdown",
      "metadata": {
        "id": "view-in-github",
        "colab_type": "text"
      },
      "source": [
        "<a href=\"https://colab.research.google.com/github/ugurtegin/MMF_RNN_Reuse/blob/main/RNN.ipynb\" target=\"_parent\"><img src=\"https://colab.research.google.com/assets/colab-badge.svg\" alt=\"Open In Colab\"/></a>"
      ]
    },
    {
      "cell_type": "code",
      "metadata": {
        "colab": {
          "base_uri": "https://localhost:8080/"
        },
        "id": "z31J9DFw6eG_",
        "outputId": "3f5683ff-5095-4012-f10a-9fe672e0f611"
      },
      "source": [
        "from google.colab import drive\n",
        "\n",
        "import numpy as np\n",
        "import matplotlib.pyplot as plt\n",
        "import scipy.io as sio\n",
        "\n",
        "# This will prompt for authorization.\n",
        "drive.mount('/content/drive')"
      ],
      "execution_count": 1,
      "outputs": [
        {
          "output_type": "stream",
          "text": [
            "Mounted at /content/drive\n"
          ],
          "name": "stdout"
        }
      ]
    },
    {
      "cell_type": "code",
      "metadata": {
        "id": "u4mVBtPn6k4N"
      },
      "source": [
        "def load_data(filename, train_evo, test_evo, steps, window_size,\n",
        "              normalization='none'):\n",
        "    \"\"\"\n",
        "    Load data. Add input pulse profile as the first step.\n",
        "    The input for the network is 'window_size' times the input profile.\n",
        "\n",
        "    Parameters\n",
        "    ----------\n",
        "    filename : filename as string\n",
        "    train_evo : number of training evolutions as integer\n",
        "    test_evo : number of test evolutions as integer\n",
        "    steps : number of propagation steps as integer\n",
        "    window_size : RNN window size as integer\n",
        "    normalization : none (default), max, dBm, manual ...\n",
        "\n",
        "    Returns\n",
        "    -------\n",
        "    i_x : number of grid points (spectral/temporal) as integer\n",
        "    X_train : training data input, shape (N, window_size, i_x)\n",
        "    X_test : testing data input, shape (M, window_size, i_x)\n",
        "    Y_train : training data output, shape (N, i_x)\n",
        "    Y_test : testing data output, shape (M, i_x)\n",
        "    \"\"\"\n",
        "\n",
        "    # Load data\n",
        "    mat_contents = sio.loadmat(filename)\n",
        "    data = mat_contents['data_w_all']\n",
        "    print(\"data loaded...\")\n",
        "    print(data.shape)\n",
        "\n",
        "    if normalization == 'none':\n",
        "        pass\n",
        "        \n",
        "    elif normalization == 'max':  # linear scale (normalized)\n",
        "        m_max = np.max(np.fabs(data))\n",
        "        print('max:', m_max)\n",
        "        data = data/m_max\n",
        "\n",
        "    elif normalization == 'dBm':  # logarithmic scale\n",
        "        m_max = np.max(np.fabs(data))\n",
        "        print('max:', m_max)\n",
        "        data=data/m_max  # normalize\n",
        "        data = 10*np.log10(data)  # dB scale\n",
        "        dBlim = 350  # define dynamic range\n",
        "        data[data < -dBlim] = -dBlim  # set spectrum <-55 to -55\n",
        "        data = data/dBlim + 1\n",
        "\n",
        "    elif normalization == 'manual':\n",
        "        m_max = 10369993.175721595 # SC spectral domain\n",
        "        print('max:', m_max)\n",
        "        data = data/m_max\n",
        "\n",
        "\n",
        "    # the number of grid points\n",
        "    i_x = data.shape[1]\n",
        "\n",
        "    # Make the time series\n",
        "    num_evo = train_evo + test_evo\n",
        "    evo_size = steps - 1\n",
        "    num_samples = np.round(num_evo*evo_size).astype(int)\n",
        "    X_data_series = np.zeros((num_samples, window_size, i_x))\n",
        "    Y_data_series = np.zeros((num_samples, i_x))\n",
        "\n",
        "    for evo in range(num_evo):\n",
        "        evo_data = np.transpose(data[evo, :, :])\n",
        "\n",
        "        # tile the beginning of the evolution with 'window_size' input profiles\n",
        "        temp1 = evo_data[0, :]\n",
        "        temp2 = np.tile(temp1, (window_size - 1, 1))\n",
        "        evo_data = np.vstack((temp2, evo_data))\n",
        "\n",
        "        for step in range(evo_size):\n",
        "            input_data = evo_data[step:step + window_size, :]\n",
        "            output_data = evo_data[step + window_size, :]\n",
        "            series_idx = evo*evo_size + step\n",
        "            X_data_series[series_idx, :, :] = input_data\n",
        "            Y_data_series[series_idx, :] = output_data\n",
        "\n",
        "\n",
        "    X_train = X_data_series[:num_samples - test_evo*evo_size]\n",
        "    X_test = X_data_series[num_samples - test_evo*evo_size:]\n",
        "    Y_train = Y_data_series[:num_samples - test_evo*evo_size]\n",
        "    Y_test = Y_data_series[num_samples - test_evo*evo_size:]\n",
        "\n",
        "    return i_x, X_train, X_test, Y_train, Y_test"
      ],
      "execution_count": 2,
      "outputs": []
    },
    {
      "cell_type": "code",
      "metadata": {
        "colab": {
          "base_uri": "https://localhost:8080/"
        },
        "id": "yr8D5AEI6olF",
        "outputId": "df7948a4-5f68-4065-fc8c-3fd51e97b6aa"
      },
      "source": [
        "filename = '/content/drive/MyDrive/NatMI_MMFwRNN/Data/data_w_all.mat'\n",
        "\n",
        "window_size = 10 # RNN window size\n",
        "num_epoch = 50 # number of epochs\n",
        "\n",
        "train_evo, test_evo, steps = 950, 50, 320\n",
        "added_params = 0\n",
        "\n",
        "\n",
        "i_x, X_train, X_test, Y_train, Y_test = load_data(filename, train_evo,test_evo, steps,window_size,'dBm') # max/dBm"
      ],
      "execution_count": 3,
      "outputs": [
        {
          "output_type": "stream",
          "text": [
            "data loaded...\n",
            "(1000, 256, 320)\n",
            "max: 2.3357915880844386e+26\n"
          ],
          "name": "stdout"
        }
      ]
    },
    {
      "cell_type": "code",
      "metadata": {
        "colab": {
          "base_uri": "https://localhost:8080/"
        },
        "id": "ASl_q43y7o7k",
        "outputId": "2d7cf754-e1a7-4045-a9a1-7af91c4148e3"
      },
      "source": [
        "print(X_train.shape, X_test.shape, Y_train.shape, Y_test.shape)"
      ],
      "execution_count": 4,
      "outputs": [
        {
          "output_type": "stream",
          "text": [
            "(303050, 10, 256) (15950, 10, 256) (303050, 256) (15950, 256)\n"
          ],
          "name": "stdout"
        }
      ]
    },
    {
      "cell_type": "code",
      "metadata": {
        "id": "eTxDGxn-8ih3"
      },
      "source": [
        "from keras.models import Sequential\n",
        "from keras.layers import Dense, Activation, Flatten, LSTM\n",
        "from keras.utils import np_utils\n",
        "from keras.callbacks import History\n",
        "from keras import optimizers\n",
        "\n",
        "\n",
        "def make_RNN_model(window_size, i_x, added_params=0):\n",
        "    \"\"\"\n",
        "    Create RNN model\n",
        "\n",
        "    Parameters\n",
        "    ----------\n",
        "    window_size : RNN window size as integer\n",
        "    i_x : number of grid points as integer\n",
        "    added_params : number of additional parameters as integer (optional)\n",
        "\n",
        "    Returns\n",
        "    -------\n",
        "    model : keras model\n",
        "    \"\"\"\n",
        "\n",
        "    # Define model architecture\n",
        "    model = Sequential()\n",
        "\n",
        "    a = 'relu'\n",
        "    input_shape = (window_size, i_x+added_params)\n",
        "\n",
        "    model.add(LSTM(250, activation=a, input_shape=input_shape))\n",
        "    model.add(Dense(250, activation=a))\n",
        "    model.add(Dense(250, activation=a))\n",
        "    model.add(Dense(i_x, activation='sigmoid'))\n",
        "\n",
        "    # Compile model\n",
        "    optimizer = optimizers.RMSprop(lr=1e-4, rho=0.9)\n",
        "    loss = 'mean_squared_error'\n",
        "    model.compile(loss=loss,\n",
        "                  optimizer=optimizer,\n",
        "                  metrics=['mse', 'mae'])\n",
        "\n",
        "    return model"
      ],
      "execution_count": 5,
      "outputs": []
    },
    {
      "cell_type": "code",
      "metadata": {
        "colab": {
          "base_uri": "https://localhost:8080/"
        },
        "id": "rZE8asPY7s4B",
        "outputId": "0368143f-2622-4b32-9e75-e7cc8614eddb"
      },
      "source": [
        "model = make_RNN_model(window_size, i_x)"
      ],
      "execution_count": 6,
      "outputs": [
        {
          "output_type": "stream",
          "text": [
            "WARNING:tensorflow:Layer lstm will not use cuDNN kernel since it doesn't meet the cuDNN kernel criteria. It will use generic GPU kernel as fallback when running on GPU\n"
          ],
          "name": "stdout"
        }
      ]
    },
    {
      "cell_type": "code",
      "metadata": {
        "colab": {
          "base_uri": "https://localhost:8080/"
        },
        "id": "qCSIUGI79EVP",
        "outputId": "3b56e0d5-1aa2-4590-862f-99fae284ca19"
      },
      "source": [
        "model.summary()"
      ],
      "execution_count": 7,
      "outputs": [
        {
          "output_type": "stream",
          "text": [
            "Model: \"sequential\"\n",
            "_________________________________________________________________\n",
            "Layer (type)                 Output Shape              Param #   \n",
            "=================================================================\n",
            "lstm (LSTM)                  (None, 250)               507000    \n",
            "_________________________________________________________________\n",
            "dense (Dense)                (None, 250)               62750     \n",
            "_________________________________________________________________\n",
            "dense_1 (Dense)              (None, 250)               62750     \n",
            "_________________________________________________________________\n",
            "dense_2 (Dense)              (None, 256)               64256     \n",
            "=================================================================\n",
            "Total params: 696,756\n",
            "Trainable params: 696,756\n",
            "Non-trainable params: 0\n",
            "_________________________________________________________________\n"
          ],
          "name": "stdout"
        }
      ]
    },
    {
      "cell_type": "code",
      "metadata": {
        "colab": {
          "base_uri": "https://localhost:8080/"
        },
        "id": "xkmbTCWv8UQd",
        "outputId": "7e28c4a0-6584-4c49-d968-5cd142b9bfff"
      },
      "source": [
        "### Fit model on training data\n",
        "history = model.fit(X_train, Y_train,epochs=num_epoch,validation_split=0.1,verbose=2)"
      ],
      "execution_count": 8,
      "outputs": [
        {
          "output_type": "stream",
          "text": [
            "Epoch 1/50\n",
            "8524/8524 - 135s - loss: 6.2944e-04 - mse: 6.2944e-04 - mae: 0.0095 - val_loss: 9.5599e-05 - val_mse: 9.5599e-05 - val_mae: 0.0072\n",
            "Epoch 2/50\n",
            "8524/8524 - 133s - loss: 3.7804e-05 - mse: 3.7804e-05 - mae: 0.0046 - val_loss: 3.8366e-05 - val_mse: 3.8366e-05 - val_mae: 0.0048\n",
            "Epoch 3/50\n",
            "8524/8524 - 133s - loss: 2.6624e-05 - mse: 2.6624e-05 - mae: 0.0039 - val_loss: 3.0712e-05 - val_mse: 3.0712e-05 - val_mae: 0.0041\n",
            "Epoch 4/50\n",
            "8524/8524 - 134s - loss: 2.1562e-05 - mse: 2.1562e-05 - mae: 0.0035 - val_loss: 2.1495e-05 - val_mse: 2.1495e-05 - val_mae: 0.0032\n",
            "Epoch 5/50\n",
            "8524/8524 - 134s - loss: 1.8348e-05 - mse: 1.8348e-05 - mae: 0.0032 - val_loss: 2.3016e-05 - val_mse: 2.3016e-05 - val_mae: 0.0035\n",
            "Epoch 6/50\n",
            "8524/8524 - 133s - loss: 1.5785e-05 - mse: 1.5785e-05 - mae: 0.0030 - val_loss: 1.8383e-05 - val_mse: 1.8383e-05 - val_mae: 0.0031\n",
            "Epoch 7/50\n",
            "8524/8524 - 133s - loss: 1.3777e-05 - mse: 1.3777e-05 - mae: 0.0028 - val_loss: 1.7778e-05 - val_mse: 1.7778e-05 - val_mae: 0.0030\n",
            "Epoch 8/50\n",
            "8524/8524 - 132s - loss: 1.2386e-05 - mse: 1.2386e-05 - mae: 0.0026 - val_loss: 1.6454e-05 - val_mse: 1.6454e-05 - val_mae: 0.0030\n",
            "Epoch 9/50\n",
            "8524/8524 - 130s - loss: 1.1336e-05 - mse: 1.1336e-05 - mae: 0.0025 - val_loss: 2.2425e-05 - val_mse: 2.2425e-05 - val_mae: 0.0035\n",
            "Epoch 10/50\n",
            "8524/8524 - 131s - loss: 1.0490e-05 - mse: 1.0490e-05 - mae: 0.0024 - val_loss: 1.5196e-05 - val_mse: 1.5196e-05 - val_mae: 0.0028\n",
            "Epoch 11/50\n",
            "8524/8524 - 132s - loss: 9.7426e-06 - mse: 9.7426e-06 - mae: 0.0023 - val_loss: 1.3049e-05 - val_mse: 1.3049e-05 - val_mae: 0.0025\n",
            "Epoch 12/50\n",
            "8524/8524 - 134s - loss: 9.0715e-06 - mse: 9.0715e-06 - mae: 0.0023 - val_loss: 1.3688e-05 - val_mse: 1.3688e-05 - val_mae: 0.0026\n",
            "Epoch 13/50\n",
            "8524/8524 - 131s - loss: 8.4890e-06 - mse: 8.4890e-06 - mae: 0.0022 - val_loss: 1.4614e-05 - val_mse: 1.4614e-05 - val_mae: 0.0026\n",
            "Epoch 14/50\n",
            "8524/8524 - 130s - loss: 8.0191e-06 - mse: 8.0191e-06 - mae: 0.0021 - val_loss: 1.2003e-05 - val_mse: 1.2003e-05 - val_mae: 0.0024\n",
            "Epoch 15/50\n",
            "8524/8524 - 131s - loss: 7.6104e-06 - mse: 7.6104e-06 - mae: 0.0021 - val_loss: 2.3621e-05 - val_mse: 2.3621e-05 - val_mae: 0.0035\n",
            "Epoch 16/50\n",
            "8524/8524 - 129s - loss: 7.2534e-06 - mse: 7.2534e-06 - mae: 0.0020 - val_loss: 1.2801e-05 - val_mse: 1.2801e-05 - val_mae: 0.0026\n",
            "Epoch 17/50\n",
            "8524/8524 - 129s - loss: 6.9274e-06 - mse: 6.9274e-06 - mae: 0.0020 - val_loss: 1.4897e-05 - val_mse: 1.4897e-05 - val_mae: 0.0028\n",
            "Epoch 18/50\n",
            "8524/8524 - 129s - loss: 6.6318e-06 - mse: 6.6318e-06 - mae: 0.0019 - val_loss: 1.0396e-05 - val_mse: 1.0396e-05 - val_mae: 0.0022\n",
            "Epoch 19/50\n",
            "8524/8524 - 133s - loss: 6.3513e-06 - mse: 6.3513e-06 - mae: 0.0019 - val_loss: 1.3122e-05 - val_mse: 1.3122e-05 - val_mae: 0.0025\n",
            "Epoch 20/50\n",
            "8524/8524 - 130s - loss: 6.1035e-06 - mse: 6.1035e-06 - mae: 0.0019 - val_loss: 1.0565e-05 - val_mse: 1.0565e-05 - val_mae: 0.0022\n",
            "Epoch 21/50\n",
            "8524/8524 - 130s - loss: 5.8690e-06 - mse: 5.8690e-06 - mae: 0.0018 - val_loss: 1.1038e-05 - val_mse: 1.1038e-05 - val_mae: 0.0023\n",
            "Epoch 22/50\n",
            "8524/8524 - 134s - loss: 5.6606e-06 - mse: 5.6606e-06 - mae: 0.0018 - val_loss: 1.0569e-05 - val_mse: 1.0569e-05 - val_mae: 0.0024\n",
            "Epoch 23/50\n",
            "8524/8524 - 131s - loss: 5.4573e-06 - mse: 5.4573e-06 - mae: 0.0018 - val_loss: 1.1919e-05 - val_mse: 1.1919e-05 - val_mae: 0.0024\n",
            "Epoch 24/50\n",
            "8524/8524 - 130s - loss: 5.2760e-06 - mse: 5.2760e-06 - mae: 0.0017 - val_loss: 1.0221e-05 - val_mse: 1.0221e-05 - val_mae: 0.0022\n",
            "Epoch 25/50\n",
            "8524/8524 - 130s - loss: 5.0978e-06 - mse: 5.0978e-06 - mae: 0.0017 - val_loss: 9.3288e-06 - val_mse: 9.3288e-06 - val_mae: 0.0021\n",
            "Epoch 26/50\n",
            "8524/8524 - 131s - loss: 4.9395e-06 - mse: 4.9395e-06 - mae: 0.0017 - val_loss: 1.0178e-05 - val_mse: 1.0178e-05 - val_mae: 0.0022\n",
            "Epoch 27/50\n",
            "8524/8524 - 128s - loss: 4.7824e-06 - mse: 4.7824e-06 - mae: 0.0016 - val_loss: 1.3588e-05 - val_mse: 1.3588e-05 - val_mae: 0.0026\n",
            "Epoch 28/50\n",
            "8524/8524 - 128s - loss: 4.6448e-06 - mse: 4.6448e-06 - mae: 0.0016 - val_loss: 9.6996e-06 - val_mse: 9.6996e-06 - val_mae: 0.0021\n",
            "Epoch 29/50\n",
            "8524/8524 - 127s - loss: 4.5122e-06 - mse: 4.5122e-06 - mae: 0.0016 - val_loss: 1.1172e-05 - val_mse: 1.1172e-05 - val_mae: 0.0023\n",
            "Epoch 30/50\n",
            "8524/8524 - 126s - loss: 4.3849e-06 - mse: 4.3849e-06 - mae: 0.0016 - val_loss: 9.0777e-06 - val_mse: 9.0777e-06 - val_mae: 0.0020\n",
            "Epoch 31/50\n",
            "8524/8524 - 126s - loss: 4.2684e-06 - mse: 4.2684e-06 - mae: 0.0015 - val_loss: 9.7583e-06 - val_mse: 9.7583e-06 - val_mae: 0.0021\n",
            "Epoch 32/50\n",
            "8524/8524 - 126s - loss: 4.1560e-06 - mse: 4.1560e-06 - mae: 0.0015 - val_loss: 9.5873e-06 - val_mse: 9.5873e-06 - val_mae: 0.0022\n",
            "Epoch 33/50\n",
            "8524/8524 - 125s - loss: 4.0480e-06 - mse: 4.0480e-06 - mae: 0.0015 - val_loss: 1.0603e-05 - val_mse: 1.0603e-05 - val_mae: 0.0022\n",
            "Epoch 34/50\n",
            "8524/8524 - 127s - loss: 3.9500e-06 - mse: 3.9500e-06 - mae: 0.0015 - val_loss: 9.4110e-06 - val_mse: 9.4110e-06 - val_mae: 0.0021\n",
            "Epoch 35/50\n",
            "8524/8524 - 125s - loss: 3.8569e-06 - mse: 3.8569e-06 - mae: 0.0015 - val_loss: 9.0873e-06 - val_mse: 9.0873e-06 - val_mae: 0.0020\n",
            "Epoch 36/50\n",
            "8524/8524 - 129s - loss: 3.7659e-06 - mse: 3.7659e-06 - mae: 0.0014 - val_loss: 9.8734e-06 - val_mse: 9.8734e-06 - val_mae: 0.0021\n",
            "Epoch 37/50\n",
            "8524/8524 - 125s - loss: 3.6810e-06 - mse: 3.6810e-06 - mae: 0.0014 - val_loss: 8.2751e-06 - val_mse: 8.2751e-06 - val_mae: 0.0019\n",
            "Epoch 38/50\n",
            "8524/8524 - 127s - loss: 3.5999e-06 - mse: 3.5999e-06 - mae: 0.0014 - val_loss: 8.1740e-06 - val_mse: 8.1740e-06 - val_mae: 0.0019\n",
            "Epoch 39/50\n",
            "8524/8524 - 125s - loss: 3.5199e-06 - mse: 3.5199e-06 - mae: 0.0014 - val_loss: 8.8284e-06 - val_mse: 8.8284e-06 - val_mae: 0.0020\n",
            "Epoch 40/50\n",
            "8524/8524 - 125s - loss: 3.4437e-06 - mse: 3.4437e-06 - mae: 0.0014 - val_loss: 8.4730e-06 - val_mse: 8.4730e-06 - val_mae: 0.0019\n",
            "Epoch 41/50\n",
            "8524/8524 - 128s - loss: 3.3760e-06 - mse: 3.3760e-06 - mae: 0.0014 - val_loss: 9.1537e-06 - val_mse: 9.1537e-06 - val_mae: 0.0021\n",
            "Epoch 42/50\n",
            "8524/8524 - 127s - loss: 3.3061e-06 - mse: 3.3061e-06 - mae: 0.0014 - val_loss: 1.0748e-05 - val_mse: 1.0748e-05 - val_mae: 0.0022\n",
            "Epoch 43/50\n",
            "8524/8524 - 126s - loss: 3.2382e-06 - mse: 3.2382e-06 - mae: 0.0013 - val_loss: 8.9421e-06 - val_mse: 8.9421e-06 - val_mae: 0.0021\n",
            "Epoch 44/50\n",
            "8524/8524 - 126s - loss: 3.1762e-06 - mse: 3.1762e-06 - mae: 0.0013 - val_loss: 8.3145e-06 - val_mse: 8.3145e-06 - val_mae: 0.0020\n",
            "Epoch 45/50\n",
            "8524/8524 - 126s - loss: 3.1172e-06 - mse: 3.1172e-06 - mae: 0.0013 - val_loss: 8.3024e-06 - val_mse: 8.3024e-06 - val_mae: 0.0019\n",
            "Epoch 46/50\n",
            "8524/8524 - 126s - loss: 3.0595e-06 - mse: 3.0595e-06 - mae: 0.0013 - val_loss: 8.2153e-06 - val_mse: 8.2153e-06 - val_mae: 0.0019\n",
            "Epoch 47/50\n",
            "8524/8524 - 126s - loss: 3.0035e-06 - mse: 3.0035e-06 - mae: 0.0013 - val_loss: 8.5645e-06 - val_mse: 8.5645e-06 - val_mae: 0.0019\n",
            "Epoch 48/50\n",
            "8524/8524 - 128s - loss: 2.9456e-06 - mse: 2.9456e-06 - mae: 0.0013 - val_loss: 7.7352e-06 - val_mse: 7.7352e-06 - val_mae: 0.0019\n",
            "Epoch 49/50\n",
            "8524/8524 - 126s - loss: 2.8957e-06 - mse: 2.8957e-06 - mae: 0.0013 - val_loss: 8.5049e-06 - val_mse: 8.5049e-06 - val_mae: 0.0020\n",
            "Epoch 50/50\n",
            "8524/8524 - 126s - loss: 2.8448e-06 - mse: 2.8448e-06 - mae: 0.0013 - val_loss: 8.0319e-06 - val_mse: 8.0319e-06 - val_mae: 0.0019\n"
          ],
          "name": "stdout"
        }
      ]
    },
    {
      "cell_type": "code",
      "metadata": {
        "colab": {
          "base_uri": "https://localhost:8080/",
          "height": 278
        },
        "id": "cx6YnLe19PAs",
        "outputId": "811267a9-67ff-4b73-dedc-363bb231574a"
      },
      "source": [
        "plt.figure()\n",
        "plt.xlabel('Epoch')\n",
        "plt.plot(history.epoch, np.array(history.history['loss']),label='Train Loss')\n",
        "plt.plot(history.epoch, np.array(history.history['val_loss']),label = 'Val loss')\n",
        "plt.legend()\n",
        "plt.show()"
      ],
      "execution_count": 9,
      "outputs": [
        {
          "output_type": "display_data",
          "data": {
            "image/png": "[encoded data removed]",
            "text/plain": [
              "<Figure size 432x288 with 1 Axes>"
            ]
          },
          "metadata": {
            "tags": [],
            "needs_background": "light"
          }
        }
      ]
    },
    {
      "cell_type": "code",
      "metadata": {
        "id": "yWEnuwniUX0z"
      },
      "source": [
        "model.save('evo.h5')"
      ],
      "execution_count": 10,
      "outputs": []
    },
    {
      "cell_type": "code",
      "metadata": {
        "colab": {
          "base_uri": "https://localhost:8080/"
        },
        "id": "w40S6QCwUzzk",
        "outputId": "adad0e8f-cd28-4eb3-af8e-82afe643c9b9"
      },
      "source": [
        "print(\"TESTING STEP-WISE...\")\n",
        "Y_submit = model.predict_proba(X_test)"
      ],
      "execution_count": 11,
      "outputs": [
        {
          "output_type": "stream",
          "text": [
            "TESTING STEP-WISE...\n"
          ],
          "name": "stdout"
        },
        {
          "output_type": "stream",
          "text": [
            "/usr/local/lib/python3.6/dist-packages/tensorflow/python/keras/engine/sequential.py:425: UserWarning: `model.predict_proba()` is deprecated and will be removed after 2021-01-01. Please use `model.predict()` instead.\n",
            "  warnings.warn('`model.predict_proba()` is deprecated and '\n"
          ],
          "name": "stderr"
        }
      ]
    },
    {
      "cell_type": "code",
      "metadata": {
        "colab": {
          "base_uri": "https://localhost:8080/"
        },
        "id": "Q6_nYhtcU69T",
        "outputId": "847712bc-67e9-47f3-e6e0-52931a37aad1"
      },
      "source": [
        "Y_submit.shape"
      ],
      "execution_count": 12,
      "outputs": [
        {
          "output_type": "execute_result",
          "data": {
            "text/plain": [
              "(15950, 256)"
            ]
          },
          "metadata": {
            "tags": []
          },
          "execution_count": 12
        }
      ]
    },
    {
      "cell_type": "code",
      "metadata": {
        "id": "ZAkJp9X6U8Iv"
      },
      "source": [
        "sio.savemat('test_results.mat', {'Y_submit':Y_submit, 'Y_test':Y_test, 'steps':steps,'window_size':window_size})"
      ],
      "execution_count": 13,
      "outputs": []
    },
    {
      "cell_type": "code",
      "metadata": {
        "id": "xDdwMHT1Wfec"
      },
      "source": [
        "def pred_evo(model, X_test, test_evo, steps, window_size, i_x):\n",
        "    \"\"\"\n",
        "    Predict evolution from a given input step. The input is 'window_size' times\n",
        "    the given input.\n",
        "\n",
        "    Parameters\n",
        "    ----------\n",
        "    model : Keras model\n",
        "    X_test: : test data, size (samples, window_size, i_x)\n",
        "    test_evo : number of test evolutions as integer\n",
        "    steps : steps as integer\n",
        "    window_size : RNN window size as integer\n",
        "    i_x : number of grid points (spectral/temporal) as integer\n",
        "\n",
        "    Returns\n",
        "    -------\n",
        "    Y_submit : results matrix, size (samples, i_x)\n",
        "    \"\"\"\n",
        "\n",
        "    # Make the time series\n",
        "    evo_size = steps - 1\n",
        "    Y_submit = np.zeros((test_evo, evo_size, i_x))\n",
        "    test_data = X_test[::evo_size,:,:]  # select fiber input profiles\n",
        "\n",
        "    for step in range(evo_size):\n",
        "        test_result = model.predict_proba(test_data)\n",
        "        Y_submit[:,step,:] = test_result\n",
        "        test_result = np.expand_dims(test_result, axis=1)\n",
        "        test_data = np.concatenate((test_data,test_result), axis=1)\n",
        "        test_data = test_data[:, 1:, :]\n",
        "\n",
        "    # reshape to the original dimensions\n",
        "    Y_submit = np.reshape(Y_submit,(evo_size*test_evo, i_x))\n",
        "\n",
        "    return Y_submit"
      ],
      "execution_count": 14,
      "outputs": []
    },
    {
      "cell_type": "code",
      "metadata": {
        "colab": {
          "base_uri": "https://localhost:8080/"
        },
        "id": "qP__0c-CVZ14",
        "outputId": "94cdbd2d-f19e-4f27-bb05-d7adc1f7f27d"
      },
      "source": [
        "Y_submit = pred_evo(model, X_test, test_evo, steps, window_size, i_x)"
      ],
      "execution_count": 15,
      "outputs": [
        {
          "output_type": "stream",
          "text": [
            "/usr/local/lib/python3.6/dist-packages/tensorflow/python/keras/engine/sequential.py:425: UserWarning: `model.predict_proba()` is deprecated and will be removed after 2021-01-01. Please use `model.predict()` instead.\n",
            "  warnings.warn('`model.predict_proba()` is deprecated and '\n"
          ],
          "name": "stderr"
        }
      ]
    },
    {
      "cell_type": "code",
      "metadata": {
        "id": "ktYVYx4qVcdu"
      },
      "source": [
        "sio.savemat('full_test_results.mat', {'Y_submit':Y_submit, 'Y_test':Y_test, 'steps':steps,'window_size':window_size})"
      ],
      "execution_count": 16,
      "outputs": []
    }
  ]
}