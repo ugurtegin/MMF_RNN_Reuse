{
  "nbformat": 4,
  "nbformat_minor": 0,
  "metadata": {
    "colab": {
      "name": "RNN.ipynb",
      "provenance": [],
      "machine_shape": "hm",
      "authorship_tag": "ABX9TyOHYh4czFl3izL0IoVqD2wM",
      "include_colab_link": true
    },
    "kernelspec": {
      "name": "python3",
      "display_name": "Python 3"
    },
    "accelerator": "GPU"
  },
  "cells": [
    {
      "cell_type": "markdown",
      "metadata": {
        "id": "view-in-github",
        "colab_type": "text"
      },
      "source": [
        "<a href=\"https://colab.research.google.com/github/ugurtegin/MMF_RNN_Reuse/blob/main/RNN.ipynb\" target=\"_parent\"><img src=\"https://colab.research.google.com/assets/colab-badge.svg\" alt=\"Open In Colab\"/></a>"
      ]
    },
    {
      "cell_type": "code",
      "metadata": {
        "colab": {
          "base_uri": "https://localhost:8080/"
        },
        "id": "z31J9DFw6eG_",
        "outputId": "c351eec9-ed16-48db-db3b-56b233ac0651"
      },
      "source": [
        "from google.colab import drive\n",
        "\n",
        "import numpy as np\n",
        "import matplotlib.pyplot as plt\n",
        "import scipy.io as sio\n",
        "\n",
        "# This will prompt for authorization.\n",
        "drive.mount('/content/drive')"
      ],
      "execution_count": 1,
      "outputs": [
        {
          "output_type": "stream",
          "text": [
            "Drive already mounted at /content/drive; to attempt to forcibly remount, call drive.mount(\"/content/drive\", force_remount=True).\n"
          ],
          "name": "stdout"
        }
      ]
    },
    {
      "cell_type": "code",
      "metadata": {
        "id": "u4mVBtPn6k4N"
      },
      "source": [
        "def load_data(filename, train_evo, test_evo, steps, window_size,\n",
        "              normalization='none'):\n",
        "    \"\"\"\n",
        "    Load data. Add input pulse profile as the first step.\n",
        "    The input for the network is 'window_size' times the input profile.\n",
        "\n",
        "    Parameters\n",
        "    ----------\n",
        "    filename : filename as string\n",
        "    train_evo : number of training evolutions as integer\n",
        "    test_evo : number of test evolutions as integer\n",
        "    steps : number of propagation steps as integer\n",
        "    window_size : RNN window size as integer\n",
        "    normalization : none (default), max, dBm, manual ...\n",
        "\n",
        "    Returns\n",
        "    -------\n",
        "    i_x : number of grid points (spectral/temporal) as integer\n",
        "    X_train : training data input, shape (N, window_size, i_x)\n",
        "    X_test : testing data input, shape (M, window_size, i_x)\n",
        "    Y_train : training data output, shape (N, i_x)\n",
        "    Y_test : testing data output, shape (M, i_x)\n",
        "    \"\"\"\n",
        "\n",
        "    # Load data\n",
        "    mat_contents = sio.loadmat(filename)\n",
        "    data = mat_contents['data_w_all']\n",
        "    print(\"data loaded...\")\n",
        "    print(data.shape)\n",
        "\n",
        "    if normalization == 'none':\n",
        "        pass\n",
        "        \n",
        "    elif normalization == 'max':  # linear scale (normalized)\n",
        "        m_max = np.max(np.fabs(data))\n",
        "        print('max:', m_max)\n",
        "        data = data/m_max\n",
        "\n",
        "    elif normalization == 'dBm':  # logarithmic scale\n",
        "        m_max = np.max(np.fabs(data))\n",
        "        print('max:', m_max)\n",
        "        data=data/m_max  # normalize\n",
        "        data = 10*np.log10(data)  # dB scale\n",
        "        dBlim = 55  # define dynamic range\n",
        "        data[data < -dBlim] = -dBlim  # set spectrum <-55 to -55\n",
        "        data = data/dBlim + 1\n",
        "\n",
        "    elif normalization == 'manual':\n",
        "        m_max = 10369993.175721595 # SC spectral domain\n",
        "        print('max:', m_max)\n",
        "        data = data/m_max\n",
        "\n",
        "\n",
        "    # the number of grid points\n",
        "    i_x = data.shape[1]\n",
        "\n",
        "    # Make the time series\n",
        "    num_evo = train_evo + test_evo\n",
        "    evo_size = steps - 1\n",
        "    num_samples = np.round(num_evo*evo_size).astype(int)\n",
        "    X_data_series = np.zeros((num_samples, window_size, i_x))\n",
        "    Y_data_series = np.zeros((num_samples, i_x))\n",
        "\n",
        "    for evo in range(num_evo):\n",
        "        evo_data = np.transpose(data[evo, :, :])\n",
        "\n",
        "        # tile the beginning of the evolution with 'window_size' input profiles\n",
        "        temp1 = evo_data[0, :]\n",
        "        temp2 = np.tile(temp1, (window_size - 1, 1))\n",
        "        evo_data = np.vstack((temp2, evo_data))\n",
        "\n",
        "        for step in range(evo_size):\n",
        "            input_data = evo_data[step:step + window_size, :]\n",
        "            output_data = evo_data[step + window_size, :]\n",
        "            series_idx = evo*evo_size + step\n",
        "            X_data_series[series_idx, :, :] = input_data\n",
        "            Y_data_series[series_idx, :] = output_data\n",
        "\n",
        "\n",
        "    X_train = X_data_series[:num_samples - test_evo*evo_size]\n",
        "    X_test = X_data_series[num_samples - test_evo*evo_size:]\n",
        "    Y_train = Y_data_series[:num_samples - test_evo*evo_size]\n",
        "    Y_test = Y_data_series[num_samples - test_evo*evo_size:]\n",
        "\n",
        "    return i_x, X_train, X_test, Y_train, Y_test"
      ],
      "execution_count": 2,
      "outputs": []
    },
    {
      "cell_type": "code",
      "metadata": {
        "colab": {
          "base_uri": "https://localhost:8080/"
        },
        "id": "yr8D5AEI6olF",
        "outputId": "eee201de-9bc7-4554-a8c4-eb847b25196c"
      },
      "source": [
        "filename = '/content/drive/MyDrive/NatMI_MMFwRNN/Data/data_w_all.mat'\n",
        "\n",
        "window_size = 10 # RNN window size\n",
        "num_epoch = 50 # number of epochs\n",
        "\n",
        "train_evo, test_evo, steps = 950, 50, 320\n",
        "added_params = 0\n",
        "\n",
        "\n",
        "i_x, X_train, X_test, Y_train, Y_test = load_data(filename, train_evo,test_evo, steps,window_size,'dBm') # max/dBm"
      ],
      "execution_count": 3,
      "outputs": [
        {
          "output_type": "stream",
          "text": [
            "data loaded...\n",
            "(1000, 256, 320)\n",
            "max: 2.3357915880844386e+26\n"
          ],
          "name": "stdout"
        }
      ]
    },
    {
      "cell_type": "code",
      "metadata": {
        "colab": {
          "base_uri": "https://localhost:8080/"
        },
        "id": "ASl_q43y7o7k",
        "outputId": "1d728892-52f8-4325-8517-b9edc4b89d82"
      },
      "source": [
        "print(X_train.shape, X_test.shape, Y_train.shape, Y_test.shape)"
      ],
      "execution_count": 4,
      "outputs": [
        {
          "output_type": "stream",
          "text": [
            "(303050, 10, 256) (15950, 10, 256) (303050, 256) (15950, 256)\n"
          ],
          "name": "stdout"
        }
      ]
    },
    {
      "cell_type": "code",
      "metadata": {
        "id": "eTxDGxn-8ih3"
      },
      "source": [
        "from keras.models import Sequential\n",
        "from keras.layers import Dense, Activation, Flatten, LSTM\n",
        "from keras.utils import np_utils\n",
        "from keras.callbacks import History\n",
        "from keras import optimizers\n",
        "\n",
        "\n",
        "def make_RNN_model(window_size, i_x, added_params=0):\n",
        "    \"\"\"\n",
        "    Create RNN model\n",
        "\n",
        "    Parameters\n",
        "    ----------\n",
        "    window_size : RNN window size as integer\n",
        "    i_x : number of grid points as integer\n",
        "    added_params : number of additional parameters as integer (optional)\n",
        "\n",
        "    Returns\n",
        "    -------\n",
        "    model : keras model\n",
        "    \"\"\"\n",
        "\n",
        "    # Define model architecture\n",
        "    model = Sequential()\n",
        "\n",
        "    a = 'relu'\n",
        "    input_shape = (window_size, i_x+added_params)\n",
        "\n",
        "    model.add(LSTM(250, activation=a, input_shape=input_shape))\n",
        "    model.add(Dense(250, activation=a))\n",
        "    model.add(Dense(250, activation=a))\n",
        "    model.add(Dense(i_x, activation='sigmoid'))\n",
        "\n",
        "    # Compile model\n",
        "    optimizer = optimizers.RMSprop(lr=1e-4, rho=0.9)\n",
        "    loss = 'mean_squared_error'\n",
        "    model.compile(loss=loss,\n",
        "                  optimizer=optimizer,\n",
        "                  metrics=['mse', 'mae'])\n",
        "\n",
        "    return model"
      ],
      "execution_count": 5,
      "outputs": []
    },
    {
      "cell_type": "code",
      "metadata": {
        "colab": {
          "base_uri": "https://localhost:8080/"
        },
        "id": "rZE8asPY7s4B",
        "outputId": "9946e33c-7899-4203-83a9-4dba8868ae30"
      },
      "source": [
        "model = make_RNN_model(window_size, i_x)"
      ],
      "execution_count": 6,
      "outputs": [
        {
          "output_type": "stream",
          "text": [
            "WARNING:tensorflow:Layer lstm will not use cuDNN kernel since it doesn't meet the cuDNN kernel criteria. It will use generic GPU kernel as fallback when running on GPU\n"
          ],
          "name": "stdout"
        }
      ]
    },
    {
      "cell_type": "code",
      "metadata": {
        "colab": {
          "base_uri": "https://localhost:8080/"
        },
        "id": "qCSIUGI79EVP",
        "outputId": "3a0a2e4a-aa82-4775-f8fe-b18f3f309dfd"
      },
      "source": [
        "model.summary()"
      ],
      "execution_count": 7,
      "outputs": [
        {
          "output_type": "stream",
          "text": [
            "Model: \"sequential\"\n",
            "_________________________________________________________________\n",
            "Layer (type)                 Output Shape              Param #   \n",
            "=================================================================\n",
            "lstm (LSTM)                  (None, 250)               507000    \n",
            "_________________________________________________________________\n",
            "dense (Dense)                (None, 250)               62750     \n",
            "_________________________________________________________________\n",
            "dense_1 (Dense)              (None, 250)               62750     \n",
            "_________________________________________________________________\n",
            "dense_2 (Dense)              (None, 256)               64256     \n",
            "=================================================================\n",
            "Total params: 696,756\n",
            "Trainable params: 696,756\n",
            "Non-trainable params: 0\n",
            "_________________________________________________________________\n"
          ],
          "name": "stdout"
        }
      ]
    },
    {
      "cell_type": "code",
      "metadata": {
        "colab": {
          "base_uri": "https://localhost:8080/"
        },
        "id": "xkmbTCWv8UQd",
        "outputId": "50c268b2-070f-46d1-dca9-3308dfa1bef7"
      },
      "source": [
        "### Fit model on training data\n",
        "history = model.fit(X_train, Y_train,epochs=num_epoch,validation_split=0.1,verbose=2)"
      ],
      "execution_count": 8,
      "outputs": [
        {
          "output_type": "stream",
          "text": [
            "Epoch 1/50\n",
            "8524/8524 - 123s - loss: 0.0014 - mse: 0.0014 - mae: 0.0039 - val_loss: 2.7886e-05 - val_mse: 2.7886e-05 - val_mae: 8.0231e-04\n",
            "Epoch 2/50\n",
            "8524/8524 - 124s - loss: 7.6576e-06 - mse: 7.6576e-06 - mae: 5.2564e-04 - val_loss: 2.9455e-05 - val_mse: 2.9455e-05 - val_mae: 8.3125e-04\n",
            "Epoch 3/50\n",
            "8524/8524 - 122s - loss: 5.1344e-06 - mse: 5.1344e-06 - mae: 4.3022e-04 - val_loss: 2.0609e-05 - val_mse: 2.0609e-05 - val_mae: 5.8706e-04\n",
            "Epoch 4/50\n",
            "8524/8524 - 122s - loss: 3.8681e-06 - mse: 3.8681e-06 - mae: 3.7272e-04 - val_loss: 1.6141e-05 - val_mse: 1.6141e-05 - val_mae: 4.6449e-04\n",
            "Epoch 5/50\n",
            "8524/8524 - 121s - loss: 3.0973e-06 - mse: 3.0973e-06 - mae: 3.3647e-04 - val_loss: 1.6470e-05 - val_mse: 1.6470e-05 - val_mae: 4.9695e-04\n",
            "Epoch 6/50\n",
            "8524/8524 - 122s - loss: 2.5659e-06 - mse: 2.5659e-06 - mae: 3.0592e-04 - val_loss: 1.3897e-05 - val_mse: 1.3897e-05 - val_mae: 4.2720e-04\n",
            "Epoch 7/50\n",
            "8524/8524 - 122s - loss: 2.1960e-06 - mse: 2.1960e-06 - mae: 2.8407e-04 - val_loss: 1.3340e-05 - val_mse: 1.3340e-05 - val_mae: 3.8595e-04\n",
            "Epoch 8/50\n",
            "8524/8524 - 122s - loss: 1.8952e-06 - mse: 1.8952e-06 - mae: 2.6558e-04 - val_loss: 1.2713e-05 - val_mse: 1.2713e-05 - val_mae: 3.6503e-04\n",
            "Epoch 9/50\n",
            "8524/8524 - 122s - loss: 1.6739e-06 - mse: 1.6739e-06 - mae: 2.5030e-04 - val_loss: 1.2221e-05 - val_mse: 1.2221e-05 - val_mae: 4.0914e-04\n",
            "Epoch 10/50\n",
            "8524/8524 - 122s - loss: 1.4919e-06 - mse: 1.4919e-06 - mae: 2.3727e-04 - val_loss: 1.1388e-05 - val_mse: 1.1388e-05 - val_mae: 3.9993e-04\n",
            "Epoch 11/50\n",
            "8524/8524 - 120s - loss: 1.3487e-06 - mse: 1.3487e-06 - mae: 2.2601e-04 - val_loss: 9.7948e-06 - val_mse: 9.7948e-06 - val_mae: 3.7498e-04\n",
            "Epoch 12/50\n",
            "8524/8524 - 120s - loss: 1.2363e-06 - mse: 1.2363e-06 - mae: 2.1577e-04 - val_loss: 1.1095e-05 - val_mse: 1.1095e-05 - val_mae: 4.4450e-04\n",
            "Epoch 13/50\n",
            "8524/8524 - 119s - loss: 1.1413e-06 - mse: 1.1413e-06 - mae: 2.0812e-04 - val_loss: 8.7107e-06 - val_mse: 8.7107e-06 - val_mae: 3.8954e-04\n",
            "Epoch 14/50\n",
            "8524/8524 - 118s - loss: 1.0559e-06 - mse: 1.0559e-06 - mae: 1.9959e-04 - val_loss: 9.1625e-06 - val_mse: 9.1625e-06 - val_mae: 4.4575e-04\n",
            "Epoch 15/50\n",
            "8524/8524 - 118s - loss: 9.9163e-07 - mse: 9.9163e-07 - mae: 1.9345e-04 - val_loss: 6.1597e-06 - val_mse: 6.1597e-06 - val_mae: 3.5545e-04\n",
            "Epoch 16/50\n",
            "8524/8524 - 118s - loss: 9.3173e-07 - mse: 9.3173e-07 - mae: 1.8815e-04 - val_loss: 6.0137e-06 - val_mse: 6.0137e-06 - val_mae: 3.7650e-04\n",
            "Epoch 17/50\n",
            "8524/8524 - 118s - loss: 8.8021e-07 - mse: 8.8021e-07 - mae: 1.8168e-04 - val_loss: 5.3943e-06 - val_mse: 5.3943e-06 - val_mae: 3.2753e-04\n",
            "Epoch 18/50\n",
            "8524/8524 - 117s - loss: 8.3774e-07 - mse: 8.3774e-07 - mae: 1.7643e-04 - val_loss: 5.6045e-06 - val_mse: 5.6045e-06 - val_mae: 3.8287e-04\n",
            "Epoch 19/50\n",
            "8524/8524 - 117s - loss: 8.0091e-07 - mse: 8.0091e-07 - mae: 1.7215e-04 - val_loss: 5.6472e-06 - val_mse: 5.6472e-06 - val_mae: 3.8466e-04\n",
            "Epoch 20/50\n",
            "8524/8524 - 117s - loss: 7.6839e-07 - mse: 7.6839e-07 - mae: 1.6812e-04 - val_loss: 4.3389e-06 - val_mse: 4.3389e-06 - val_mae: 3.0008e-04\n",
            "Epoch 21/50\n",
            "8524/8524 - 115s - loss: 7.3745e-07 - mse: 7.3745e-07 - mae: 1.6577e-04 - val_loss: 4.4200e-06 - val_mse: 4.4200e-06 - val_mae: 3.3768e-04\n",
            "Epoch 22/50\n",
            "8524/8524 - 116s - loss: 7.0680e-07 - mse: 7.0680e-07 - mae: 1.6286e-04 - val_loss: 5.1411e-06 - val_mse: 5.1411e-06 - val_mae: 3.0307e-04\n",
            "Epoch 23/50\n",
            "8524/8524 - 115s - loss: 6.8304e-07 - mse: 6.8304e-07 - mae: 1.5847e-04 - val_loss: 3.5866e-06 - val_mse: 3.5866e-06 - val_mae: 2.6544e-04\n",
            "Epoch 24/50\n",
            "8524/8524 - 114s - loss: 6.5898e-07 - mse: 6.5898e-07 - mae: 1.5722e-04 - val_loss: 4.0598e-06 - val_mse: 4.0598e-06 - val_mae: 3.5413e-04\n",
            "Epoch 25/50\n",
            "8524/8524 - 117s - loss: 6.3590e-07 - mse: 6.3590e-07 - mae: 1.5258e-04 - val_loss: 3.1189e-06 - val_mse: 3.1189e-06 - val_mae: 2.3039e-04\n",
            "Epoch 26/50\n",
            "8524/8524 - 117s - loss: 6.1692e-07 - mse: 6.1692e-07 - mae: 1.5010e-04 - val_loss: 3.1242e-06 - val_mse: 3.1242e-06 - val_mae: 2.4320e-04\n",
            "Epoch 27/50\n",
            "8524/8524 - 115s - loss: 5.9689e-07 - mse: 5.9689e-07 - mae: 1.4817e-04 - val_loss: 3.2914e-06 - val_mse: 3.2914e-06 - val_mae: 2.5529e-04\n",
            "Epoch 28/50\n",
            "8524/8524 - 115s - loss: 5.8050e-07 - mse: 5.8050e-07 - mae: 1.4705e-04 - val_loss: 2.3943e-06 - val_mse: 2.3943e-06 - val_mae: 1.9620e-04\n",
            "Epoch 29/50\n",
            "8524/8524 - 114s - loss: 5.6506e-07 - mse: 5.6506e-07 - mae: 1.4437e-04 - val_loss: 3.1971e-06 - val_mse: 3.1971e-06 - val_mae: 2.6906e-04\n",
            "Epoch 30/50\n",
            "8524/8524 - 114s - loss: 5.4477e-07 - mse: 5.4477e-07 - mae: 1.4207e-04 - val_loss: 2.7472e-06 - val_mse: 2.7472e-06 - val_mae: 2.0515e-04\n",
            "Epoch 31/50\n",
            "8524/8524 - 114s - loss: 5.3208e-07 - mse: 5.3208e-07 - mae: 1.4034e-04 - val_loss: 2.4589e-06 - val_mse: 2.4589e-06 - val_mae: 2.4254e-04\n",
            "Epoch 32/50\n",
            "8524/8524 - 114s - loss: 5.1694e-07 - mse: 5.1694e-07 - mae: 1.3796e-04 - val_loss: 3.6596e-06 - val_mse: 3.6596e-06 - val_mae: 2.9128e-04\n",
            "Epoch 33/50\n",
            "8524/8524 - 113s - loss: 5.0392e-07 - mse: 5.0392e-07 - mae: 1.3635e-04 - val_loss: 2.3222e-06 - val_mse: 2.3222e-06 - val_mae: 1.8199e-04\n",
            "Epoch 34/50\n",
            "8524/8524 - 113s - loss: 4.9392e-07 - mse: 4.9392e-07 - mae: 1.3416e-04 - val_loss: 2.1555e-06 - val_mse: 2.1555e-06 - val_mae: 2.0750e-04\n",
            "Epoch 35/50\n",
            "8524/8524 - 114s - loss: 4.7914e-07 - mse: 4.7914e-07 - mae: 1.3299e-04 - val_loss: 2.9440e-06 - val_mse: 2.9440e-06 - val_mae: 2.9525e-04\n",
            "Epoch 36/50\n",
            "8524/8524 - 114s - loss: 4.6891e-07 - mse: 4.6891e-07 - mae: 1.3160e-04 - val_loss: 2.4403e-06 - val_mse: 2.4403e-06 - val_mae: 2.1383e-04\n",
            "Epoch 37/50\n",
            "8524/8524 - 114s - loss: 4.5861e-07 - mse: 4.5861e-07 - mae: 1.3040e-04 - val_loss: 2.0797e-06 - val_mse: 2.0797e-06 - val_mae: 1.7669e-04\n",
            "Epoch 38/50\n",
            "8524/8524 - 114s - loss: 4.4882e-07 - mse: 4.4882e-07 - mae: 1.2915e-04 - val_loss: 3.0700e-06 - val_mse: 3.0700e-06 - val_mae: 2.8195e-04\n",
            "Epoch 39/50\n",
            "8524/8524 - 114s - loss: 4.4007e-07 - mse: 4.4007e-07 - mae: 1.2666e-04 - val_loss: 3.1470e-06 - val_mse: 3.1470e-06 - val_mae: 2.5142e-04\n",
            "Epoch 40/50\n",
            "8524/8524 - 114s - loss: 4.3123e-07 - mse: 4.3123e-07 - mae: 1.2454e-04 - val_loss: 2.3343e-06 - val_mse: 2.3343e-06 - val_mae: 2.2736e-04\n",
            "Epoch 41/50\n",
            "8524/8524 - 114s - loss: 4.2388e-07 - mse: 4.2388e-07 - mae: 1.2312e-04 - val_loss: 2.6958e-06 - val_mse: 2.6958e-06 - val_mae: 2.3755e-04\n",
            "Epoch 42/50\n",
            "8524/8524 - 114s - loss: 4.1600e-07 - mse: 4.1600e-07 - mae: 1.2228e-04 - val_loss: 1.7744e-06 - val_mse: 1.7744e-06 - val_mae: 2.0541e-04\n",
            "Epoch 43/50\n",
            "8524/8524 - 114s - loss: 4.0785e-07 - mse: 4.0785e-07 - mae: 1.2058e-04 - val_loss: 1.9850e-06 - val_mse: 1.9850e-06 - val_mae: 1.9838e-04\n",
            "Epoch 44/50\n",
            "8524/8524 - 113s - loss: 4.0161e-07 - mse: 4.0161e-07 - mae: 1.1949e-04 - val_loss: 2.7297e-06 - val_mse: 2.7297e-06 - val_mae: 2.7618e-04\n",
            "Epoch 45/50\n",
            "8524/8524 - 114s - loss: 3.9401e-07 - mse: 3.9401e-07 - mae: 1.1874e-04 - val_loss: 2.0515e-06 - val_mse: 2.0515e-06 - val_mae: 2.2780e-04\n",
            "Epoch 46/50\n",
            "8524/8524 - 114s - loss: 3.8874e-07 - mse: 3.8874e-07 - mae: 1.1819e-04 - val_loss: 1.8615e-06 - val_mse: 1.8615e-06 - val_mae: 1.6775e-04\n",
            "Epoch 47/50\n",
            "8524/8524 - 114s - loss: 3.8087e-07 - mse: 3.8087e-07 - mae: 1.1773e-04 - val_loss: 2.1004e-06 - val_mse: 2.1004e-06 - val_mae: 2.0598e-04\n",
            "Epoch 48/50\n",
            "8524/8524 - 113s - loss: 3.7504e-07 - mse: 3.7504e-07 - mae: 1.1653e-04 - val_loss: 2.8263e-06 - val_mse: 2.8263e-06 - val_mae: 2.4079e-04\n",
            "Epoch 49/50\n",
            "8524/8524 - 114s - loss: 3.6785e-07 - mse: 3.6785e-07 - mae: 1.1580e-04 - val_loss: 1.9704e-06 - val_mse: 1.9704e-06 - val_mae: 1.9424e-04\n",
            "Epoch 50/50\n",
            "8524/8524 - 114s - loss: 3.6281e-07 - mse: 3.6281e-07 - mae: 1.1555e-04 - val_loss: 2.3098e-06 - val_mse: 2.3098e-06 - val_mae: 2.1234e-04\n"
          ],
          "name": "stdout"
        }
      ]
    },
    {
      "cell_type": "code",
      "metadata": {
        "colab": {
          "base_uri": "https://localhost:8080/",
          "height": 278
        },
        "id": "cx6YnLe19PAs",
        "outputId": "a2cfdd41-3ee6-4b9a-c10a-c624587e7b52"
      },
      "source": [
        "plt.figure()\n",
        "plt.xlabel('Epoch')\n",
        "plt.plot(history.epoch, np.array(history.history['loss']),label='Train Loss')\n",
        "plt.plot(history.epoch, np.array(history.history['val_loss']),label = 'Val loss')\n",
        "plt.legend()\n",
        "plt.show()"
      ],
      "execution_count": 11,
      "outputs": [
        {
          "output_type": "display_data",
          "data": {
            "image/png": "[encoded data removed]",
            "text/plain": [
              "<Figure size 432x288 with 1 Axes>"
            ]
          },
          "metadata": {
            "tags": [],
            "needs_background": "light"
          }
        }
      ]
    },
    {
      "cell_type": "code",
      "metadata": {
        "id": "yWEnuwniUX0z"
      },
      "source": [
        "model.save('evo.h5')"
      ],
      "execution_count": 12,
      "outputs": []
    },
    {
      "cell_type": "code",
      "metadata": {
        "colab": {
          "base_uri": "https://localhost:8080/"
        },
        "id": "w40S6QCwUzzk",
        "outputId": "e2dbfa46-ad5d-4c8d-8760-132a91cf8d8d"
      },
      "source": [
        "print(\"TESTING STEP-WISE...\")\n",
        "Y_submit = model.predict_proba(X_test)"
      ],
      "execution_count": 13,
      "outputs": [
        {
          "output_type": "stream",
          "text": [
            "TESTING STEP-WISE...\n"
          ],
          "name": "stdout"
        },
        {
          "output_type": "stream",
          "text": [
            "/usr/local/lib/python3.6/dist-packages/tensorflow/python/keras/engine/sequential.py:425: UserWarning: `model.predict_proba()` is deprecated and will be removed after 2021-01-01. Please use `model.predict()` instead.\n",
            "  warnings.warn('`model.predict_proba()` is deprecated and '\n"
          ],
          "name": "stderr"
        }
      ]
    },
    {
      "cell_type": "code",
      "metadata": {
        "colab": {
          "base_uri": "https://localhost:8080/"
        },
        "id": "Q6_nYhtcU69T",
        "outputId": "e5fffa82-920c-4d92-a265-5370512ab5e8"
      },
      "source": [
        "Y_submit.shape"
      ],
      "execution_count": 14,
      "outputs": [
        {
          "output_type": "execute_result",
          "data": {
            "text/plain": [
              "(15950, 256)"
            ]
          },
          "metadata": {
            "tags": []
          },
          "execution_count": 14
        }
      ]
    },
    {
      "cell_type": "code",
      "metadata": {
        "id": "ZAkJp9X6U8Iv"
      },
      "source": [
        "sio.savemat('test_results.mat', {'Y_submit':Y_submit, 'Y_test':Y_test, 'steps':steps,'window_size':window_size})"
      ],
      "execution_count": 15,
      "outputs": []
    },
    {
      "cell_type": "code",
      "metadata": {
        "id": "xDdwMHT1Wfec"
      },
      "source": [
        "def pred_evo(model, X_test, test_evo, steps, window_size, i_x):\n",
        "    \"\"\"\n",
        "    Predict evolution from a given input step. The input is 'window_size' times\n",
        "    the given input.\n",
        "\n",
        "    Parameters\n",
        "    ----------\n",
        "    model : Keras model\n",
        "    X_test: : test data, size (samples, window_size, i_x)\n",
        "    test_evo : number of test evolutions as integer\n",
        "    steps : steps as integer\n",
        "    window_size : RNN window size as integer\n",
        "    i_x : number of grid points (spectral/temporal) as integer\n",
        "\n",
        "    Returns\n",
        "    -------\n",
        "    Y_submit : results matrix, size (samples, i_x)\n",
        "    \"\"\"\n",
        "\n",
        "    # Make the time series\n",
        "    evo_size = steps - 1\n",
        "    Y_submit = np.zeros((test_evo, evo_size, i_x))\n",
        "    test_data = X_test[::evo_size,:,:]  # select fiber input profiles\n",
        "\n",
        "    for step in range(evo_size):\n",
        "        test_result = model.predict_proba(test_data)\n",
        "        Y_submit[:,step,:] = test_result\n",
        "        test_result = np.expand_dims(test_result, axis=1)\n",
        "        test_data = np.concatenate((test_data,test_result), axis=1)\n",
        "        test_data = test_data[:, 1:, :]\n",
        "\n",
        "    # reshape to the original dimensions\n",
        "    Y_submit = np.reshape(Y_submit,(evo_size*test_evo, i_x))\n",
        "\n",
        "    return Y_submit"
      ],
      "execution_count": 17,
      "outputs": []
    },
    {
      "cell_type": "code",
      "metadata": {
        "colab": {
          "base_uri": "https://localhost:8080/"
        },
        "id": "qP__0c-CVZ14",
        "outputId": "7b3dc86b-bfe4-47f5-e227-9787951ba1ee"
      },
      "source": [
        "Y_submit = pred_evo(model, X_test, test_evo, steps, window_size, i_x)"
      ],
      "execution_count": 18,
      "outputs": [
        {
          "output_type": "stream",
          "text": [
            "/usr/local/lib/python3.6/dist-packages/tensorflow/python/keras/engine/sequential.py:425: UserWarning: `model.predict_proba()` is deprecated and will be removed after 2021-01-01. Please use `model.predict()` instead.\n",
            "  warnings.warn('`model.predict_proba()` is deprecated and '\n"
          ],
          "name": "stderr"
        }
      ]
    },
    {
      "cell_type": "code",
      "metadata": {
        "id": "ktYVYx4qVcdu"
      },
      "source": [
        "sio.savemat('full_test_results.mat', {'Y_submit':Y_submit, 'Y_test':Y_test, 'steps':steps,'window_size':window_size})"
      ],
      "execution_count": 19,
      "outputs": []
    }
  ]
}