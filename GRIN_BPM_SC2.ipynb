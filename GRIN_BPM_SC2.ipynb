{
  "nbformat": 4,
  "nbformat_minor": 0,
  "metadata": {
    "colab": {
      "name": "GRIN_BPM_STI.ipynb",
      "provenance": [],
      "collapsed_sections": [],
      "machine_shape": "hm",
      "include_colab_link": true
    },
    "kernelspec": {
      "name": "python3",
      "display_name": "Python 3"
    },
    "accelerator": "GPU"
  },
  "cells": [
    {
      "cell_type": "markdown",
      "metadata": {
        "id": "view-in-github",
        "colab_type": "text"
      },
      "source": [
        "<a href=\"https://colab.research.google.com/github/ugurtegin/MMF_RNN_Reuse/blob/main/GRIN_BPM_SC2.ipynb\" target=\"_parent\"><img src=\"https://colab.research.google.com/assets/colab-badge.svg\" alt=\"Open In Colab\"/></a>"
      ]
    },
    {
      "cell_type": "markdown",
      "metadata": {
        "id": "vPDlJmsvdDTQ"
      },
      "source": [
        "\n",
        "# Load Libraries\n"
      ]
    },
    {
      "cell_type": "code",
      "metadata": {
        "id": "OjRM_HbsHrKw"
      },
      "source": [
        "from google.colab import drive\n",
        "\n",
        "import numpy as np\n",
        "import cupy as cp\n",
        "import matplotlib.pyplot as plt\n",
        "import scipy.io as sio\n",
        "import time\n",
        "\n",
        "# This will prompt for authorization.\n",
        "#drive.mount('/content/drive')"
      ],
      "execution_count": 1,
      "outputs": []
    },
    {
      "cell_type": "markdown",
      "metadata": {
        "id": "CYZ9A7qn-1Ve"
      },
      "source": [
        "# Super Gaussian for boundary"
      ]
    },
    {
      "cell_type": "code",
      "metadata": {
        "id": "n8GIPxbAhOwh",
        "colab": {
          "base_uri": "https://localhost:8080/",
          "height": 530
        },
        "outputId": "6ba28b0e-299e-4893-ceaf-56a878cfe303"
      },
      "source": [
        "def gaus2d(x=0, y=0, mx=0, my=0, sx=1, sy=1,p=60,w=26.5e-6):\n",
        "  \"\"\"define normalized 2D gaussian\"\"\"\n",
        "\n",
        "  return np.exp(-2*((np.sqrt(x**2+y**2)/w)**p))\n",
        "\n",
        "spacewidth=54.1442e-6\n",
        "\n",
        "xres=54.1442e-6/64\n",
        "x = np.linspace(-spacewidth*0.5,spacewidth*0.5,int(spacewidth/xres))\n",
        "\n",
        "x1, y1 = np.meshgrid(x, x) # get 2D variables instead of 1D\n",
        "z = gaus2d(x1, y1)\n",
        "\n",
        "# plt.imshow(z)\n",
        "# plt.colorbar()\n",
        "\n",
        "plt.plot(x,z[32,:])\n",
        "plt.grid()\n",
        "plt.xlim((-27.0721e-6,25e-6))\n",
        "plt.show()\n",
        "\n",
        "cp_super_gauss2d =cp.asarray(z)\n",
        "cp_super_gauss2d = cp.repeat(cp_super_gauss2d[:,:,cp.newaxis], 2**10, axis=2)\n",
        "\n",
        "plt.imshow(z)\n",
        "plt.colorbar()\n",
        "plt.show()\n",
        "\n"
      ],
      "execution_count": 2,
      "outputs": [
        {
          "output_type": "display_data",
          "data": {
            "image/png": "[encoded data removed]",
            "text/plain": [
              "<Figure size 432x288 with 1 Axes>"
            ]
          },
          "metadata": {
            "tags": [],
            "needs_background": "light"
          }
        },
        {
          "output_type": "display_data",
          "data": {
            "image/png": "[encoded data removed]",
            "text/plain": [
              "<Figure size 432x288 with 2 Axes>"
            ]
          },
          "metadata": {
            "tags": [],
            "needs_background": "light"
          }
        }
      ]
    },
    {
      "cell_type": "code",
      "metadata": {
        "id": "egj9ypiTpacA"
      },
      "source": [
        "def average(arr, n):\r\n",
        "    end =  n * int(len(arr)/n)\r\n",
        "    return np.mean(arr[:end].reshape(-1, n), 1)"
      ],
      "execution_count": 3,
      "outputs": []
    },
    {
      "cell_type": "markdown",
      "metadata": {
        "id": "wWtg6GYmHTOr"
      },
      "source": [
        "# BPM \n"
      ]
    },
    {
      "cell_type": "code",
      "metadata": {
        "id": "4hb2j8ukHVD2",
        "colab": {
          "base_uri": "https://localhost:8080/"
        },
        "outputId": "c447e275-ec78-4436-f62c-d8787a040b8a"
      },
      "source": [
        "tt = time.time()\n",
        "c = 299792458 # [m/s]\n",
        "n0 = 1.45                   # Refractive index of medium (1.44 for 1550 nm, 1.45 for 1030 nm)\n",
        "lambda_c = 1030e-9          # Central wavelength of the input pulse in [m]\n",
        "\n",
        "## TIME SPACE DOMAIN\n",
        "timewidth = 1.8e-12          # Width of the time window in [s]\n",
        "tres = timewidth/((2**10))\n",
        "t = cp.arange(-timewidth*0.5,(timewidth*0.5),tres)\n",
        "#t = -timewidth*0.5:tres:timewidth*0.5 # Time in [s]\n",
        "timesteps=len(t)\n",
        "\n",
        "spacewidth=54.1442e-6\n",
        "xres = spacewidth/((2**6))\n",
        "#x = -spacewidth*0.5:xres:spacewidth*0.5 # Time in [s]\n",
        "x = cp.arange(-spacewidth*0.5,(spacewidth*0.5),xres)\n",
        "xsteps=len(x)\n",
        "y = x\n",
        "[X,Y,T] = cp.meshgrid(x,y,t)\n",
        "\n",
        "## FOURIER DOMAIN\n",
        "fs=1/timewidth\n",
        "freq = c/lambda_c+fs*cp.linspace(-timesteps/2,timesteps/2,num = timesteps)\n",
        "#freq=c/lambda_c+fs*linspace(-(timesteps-1)/2,(timesteps-1)/2,timesteps) # [Hz]\n",
        "wave=c/freq # [m]\n",
        "w=2*cp.pi*c/lambda_c # [Hz]\n",
        "omegas=2*cp.pi*freq\n",
        "wt = omegas-w\n",
        "\n",
        "#kx = 2*pi/xsteps/xres*x;\n",
        "#kx = 2*pi/xres*x;\n",
        "\n",
        "#CHECK KX\n",
        "a = cp.pi/xres  # grid points in \"frequency\" domain--> {2*pi*(points/mm)}\n",
        "N = len(x)\n",
        "zbam = cp.arange(-a,(a-2*a/N)+(2*a/N),2*a/N)\n",
        "kx = cp.transpose(zbam) # \"frequency\" domain indexing ky = kx; \n",
        "ky = kx\n",
        "[KX,KY,WT] = cp.meshgrid(kx,ky,wt);\n",
        "\n",
        "## OPERATORS\n",
        "k0 = w*n0/c\n",
        "n2 = 3.2e-20       #Kerr coefficient (m^2/W)\n",
        "R = 25e-6\n",
        "beta2 = 24.8e-27\n",
        "beta3 = 23.3e-42\n",
        "gamma = (2*cp.pi*n2/(lambda_c))\n",
        "delta = 0.01\n",
        "NL1 = -1j*((k0*delta)/(R*R))*((X**2)+(Y**2))\n",
        "\n",
        "D1 = (0.5*1j/k0)*((-1j*(KX))**2+(-1j*(KY))**2)\n",
        "D2 = ((-0.5*1j*beta2)*(-1j*(WT))**2)+((beta3/6)*(-1j*(WT))**3)\n",
        "D = D1 + D2\n",
        "s_imgper = (cp.pi*R)/cp.sqrt(2*delta)\n",
        "dz = s_imgper/24\n",
        "DFR = cp.exp(D*dz/2)\n",
        "\n",
        "## INPUT \n",
        "flength = s_imgper*10\n",
        "fstep = flength/dz\n",
        "x_fwhm = 25e-6\n",
        "t_fwhm = 100e-15\n",
        "#Ppeak = 30e6 # W\n",
        "Ppeak = cp.linspace(3e6, 30e6, num=1000)\n",
        "\n",
        "data_t=np.zeros((240,256))\n",
        "data_w=np.zeros((240,256))\n",
        "\n",
        "for musti in range(1000):\n",
        "  A = cp.sqrt(Ppeak[musti]/(cp.pi*x_fwhm*x_fwhm))*cp.exp( - ((X**2)/(2*(x_fwhm/2.35482)**2)+ (Y**2)/(2*(x_fwhm/2.35482)**2) + (T**2)/(2*(t_fwhm/2.35482)**2)));\n",
        "  ### MAIN FUNCTION\n",
        "  Ain = A\n",
        "  #Asave = cp.zeros((sampesize,64,64,1024), dtype=complex)\n",
        "\n",
        "\n",
        "  for ugur in range(int(fstep)):\n",
        "      #print((ugur*dz)+dz)\n",
        "      Einf=cp.fft.fftshift(cp.fft.fftn(Ain));\n",
        "      Ein2=cp.fft.ifftn(cp.fft.ifftshift(Einf*DFR));\n",
        "      Eout = Ein2;\n",
        "      \n",
        "      NL2 = 1j*gamma*cp.abs(Eout)**2;\n",
        "      NL = NL1+NL2;\n",
        "      Eout = Eout*cp.exp(NL*dz);\n",
        "      \n",
        "      Einf=cp.fft.fftshift(cp.fft.fftn(Eout));\n",
        "      Ein2=cp.fft.ifftn(cp.fft.ifftshift(Einf*DFR));\n",
        "      #Ain = Ein2;\n",
        "      Ain =cp.multiply(cp_super_gauss2d,Ein2);\n",
        "      \n",
        "      Ain_cpu=Ain\n",
        "\n",
        "      Ain_cpu_t=cp.square(cp.abs(Ain_cpu))\n",
        "      Ain_cpu_temp=cp.fft.fftshift(cp.fft.fftn(Ain_cpu))\n",
        "      Ain_cpu_w=cp.square(cp.abs(Ain_cpu_temp))\n",
        "\n",
        "      st =cp.squeeze(cp.sum(cp.squeeze(cp.sum(Ain_cpu_t,axis=0)),axis=0)) \n",
        "      sw =cp.squeeze(cp.sum(cp.squeeze(cp.sum(Ain_cpu_w,axis=0)),axis=0)) \n",
        "\n",
        "      st_down=average(st.get(),4)\n",
        "      sw_down=average(sw.get(),4)\n",
        "\n",
        "      data_t[ugur,:]=st_down\n",
        "      data_w[ugur,:]=sw_down\n",
        "\n",
        "  sio.savemat('/content/drive/MyDrive/NatMI_MMFwRNN/Data/SC_05Jan_Time/data_t'+str(musti)+'.mat', {'data_t':data_t})\n",
        "  sio.savemat('/content/drive/MyDrive/NatMI_MMFwRNN/Data/SC_05Jan_Wave/data_w'+str(musti)+'.mat', {'data_w':data_w}) \n",
        "\n",
        "\n",
        "elapsed = time.time() - tt\n",
        "print(elapsed)"
      ],
      "execution_count": 19,
      "outputs": [
        {
          "output_type": "stream",
          "text": [
            "2.0726327896118164\n"
          ],
          "name": "stdout"
        }
      ]
    },
    {
      "cell_type": "code",
      "metadata": {
        "id": "mzmnzA0KWbPd"
      },
      "source": [
        "wave_d=average(wave.get(),4)"
      ],
      "execution_count": 20,
      "outputs": []
    },
    {
      "cell_type": "code",
      "metadata": {
        "colab": {
          "base_uri": "https://localhost:8080/",
          "height": 269
        },
        "id": "WlQG9yxTVw0v",
        "outputId": "fae87073-92c0-4f61-dc35-38d4627a4a44"
      },
      "source": [
        "plt.imshow(10*np.log10(data_w))\n",
        "plt.colorbar()\n",
        "plt.clim(195,245)  # identical to caxis([-4,4]) in MATLAB\n",
        "plt.show()"
      ],
      "execution_count": 21,
      "outputs": [
        {
          "output_type": "display_data",
          "data": {
            "image/png": "[encoded data removed]",
            "text/plain": [
              "<Figure size 432x288 with 2 Axes>"
            ]
          },
          "metadata": {
            "tags": [],
            "needs_background": "light"
          }
        }
      ]
    },
    {
      "cell_type": "code",
      "metadata": {
        "colab": {
          "base_uri": "https://localhost:8080/"
        },
        "id": "WzV3yMSUWF7C",
        "outputId": "b0634690-b49b-4120-9aaf-2d762fdc7659"
      },
      "source": [
        "data_w.shape"
      ],
      "execution_count": 22,
      "outputs": [
        {
          "output_type": "execute_result",
          "data": {
            "text/plain": [
              "(240, 256)"
            ]
          },
          "metadata": {
            "tags": []
          },
          "execution_count": 22
        }
      ]
    },
    {
      "cell_type": "code",
      "metadata": {
        "colab": {
          "base_uri": "https://localhost:8080/",
          "height": 265
        },
        "id": "xhbCXiNiWJ2C",
        "outputId": "8b748086-68ae-4225-e8b3-19614c61c9b1"
      },
      "source": [
        "plt.plot(wave_d*1e9,10*np.log10(data_w[239,]))\n",
        "plt.xlim([600, 2000])\n",
        "#plt.ylim([195, 245])\n",
        "plt.show()"
      ],
      "execution_count": 28,
      "outputs": [
        {
          "output_type": "display_data",
          "data": {
            "image/png": "[encoded data removed]",
            "text/plain": [
              "<Figure size 432x288 with 1 Axes>"
            ]
          },
          "metadata": {
            "tags": [],
            "needs_background": "light"
          }
        }
      ]
    },
    {
      "cell_type": "code",
      "metadata": {
        "colab": {
          "base_uri": "https://localhost:8080/"
        },
        "id": "bXP34Fq5WOQC",
        "outputId": "fa2e7fc1-2424-4893-dce7-5a0cb91b697c"
      },
      "source": [
        "wave_d*1e9"
      ],
      "execution_count": 41,
      "outputs": [
        {
          "output_type": "execute_result",
          "data": {
            "text/plain": [
              "array([40522.21430531, 31115.98927476, 25263.57641802, 21267.72579168,\n",
              "       18364.85036969, 16160.02379905, 14428.28251904, 13032.0157645 ,\n",
              "       11882.29550059, 10919.08751807, 10100.39336143,  9395.94813158,\n",
              "        8783.38907971,  8245.83387622,  7770.29827072,  7346.63217715,\n",
              "        6966.78624434,  6624.29501689,  6313.90555301,  6031.3058724 ,\n",
              "        5772.92326486,  5535.77235105,  5317.33914102,  5115.49151732,\n",
              "        4928.40937291,  4754.52954626,  4592.50202169,  4441.15479441,\n",
              "        4299.46546432,  4166.5381015 ,  4041.58427611,  3923.90740364,\n",
              "        3812.88974859,  3707.9815743 ,  3608.69203663,  3514.58150287,\n",
              "        3425.25504242,  3340.35688564,  3259.56568715,  3182.59046034,\n",
              "        3109.16707481,  3039.05522782,  2972.03581655,  2907.90865054,\n",
              "        2846.49045421,  2787.6131172 ,  2731.1221576 ,  2676.87536824,\n",
              "        2624.74162128,  2574.59980981,  2526.33790851,  2479.85213799,\n",
              "        2435.04621984,  2391.83071089,  2350.12240721,  2309.84380941,\n",
              "        2270.92264195,  2233.2914203 ,  2196.88706042,  2161.65052581,\n",
              "        2127.52650805,  2094.46313703,  2062.41171789,  2031.32649172,\n",
              "        2001.16441753,  1971.88497344,  1943.44997504,  1915.82340919,\n",
              "        1888.97128192,  1862.86147882,  1837.46363692,  1812.74902691,\n",
              "        1788.6904447 ,  1765.26211155,  1742.43958192,  1720.19965836,\n",
              "        1698.5203129 ,  1677.38061423,  1656.76066031,  1636.64151588,\n",
              "        1617.00515445,  1597.8344044 ,  1579.11289896,  1560.82502955,\n",
              "        1542.95590238,  1525.49129802,  1508.41763366,  1491.72192784,\n",
              "        1475.39176758,  1459.41527756,  1443.78109136,  1428.47832445,\n",
              "        1413.49654895,  1398.82576989,  1384.45640305,  1370.37925398,\n",
              "        1356.58549846,  1343.06666402,  1329.81461258,  1316.82152413,\n",
              "        1304.07988135,  1291.58245505,  1279.32229057,  1267.29269483,\n",
              "        1255.48722414,  1243.89967271,  1232.52406178,  1221.35462929,\n",
              "        1210.3858202 ,  1199.61227725,  1189.02883223,  1178.63049772,\n",
              "        1168.41245927,  1158.37006795,  1148.49883328,  1138.79441657,\n",
              "        1129.25262456,  1119.86940332,  1110.64083259,  1101.56312028,\n",
              "        1092.63259724,  1083.84571239,  1075.19902795,  1066.68921497,\n",
              "        1058.31304908,  1050.06740639,  1041.94925962,  1033.95567439,\n",
              "        1026.08380568,  1018.33089445,  1010.69426445,  1003.17131907,\n",
              "         995.75953848,   988.45647676,   981.2597592 ,   974.16707979,\n",
              "         967.17619869,   960.2849399 ,   953.49118901,   946.792891  ,\n",
              "         940.18804824,   933.6747184 ,   927.25101265,   920.91509377,\n",
              "         914.6651744 ,   908.49951539,   902.41642418,   896.41425322,\n",
              "         890.49139851,   884.64629816,   878.87743105,   873.18331543,\n",
              "         867.56250776,   862.01360139,   856.53522544,   851.12604366,\n",
              "         845.78475336,   840.51008433,   835.30079784,   830.15568571,\n",
              "         825.07356931,   820.05329873,   815.09375187,   810.19383358,\n",
              "         805.35247494,   800.56863238,   795.84128701,   791.16944386,\n",
              "         786.55213117,   781.98839975,   777.47732231,   773.01799282,\n",
              "         768.60952595,   764.25105643,   759.94173849,   755.68074537,\n",
              "         751.46726871,   747.3005181 ,   743.17972056,   739.10412007,\n",
              "         735.07297709,   731.08556815,   727.14118538,   723.23913608,\n",
              "         719.37874239,   715.55934081,   711.78028187,   708.04092974,\n",
              "         704.34066189,   700.67886873,   697.05495328,   693.46833086,\n",
              "         689.91842874,   686.40468588,   682.9265526 ,   679.4834903 ,\n",
              "         676.0749712 ,   672.70047806,   669.35950389,   666.05155175,\n",
              "         662.77613446,   659.53277438,   656.32100319,   653.14036161,\n",
              "         649.99039925,   646.87067437,   643.78075366,   640.72021204,\n",
              "         637.68863248,   634.68560583,   631.71073059,   628.76361273,\n",
              "         625.8438656 ,   622.95110963,   620.08497228,   617.24508783,\n",
              "         614.43109722,   611.6426479 ,   608.8793937 ,   606.14099469,\n",
              "         603.42711701,   600.73743275,   598.07161985,   595.4293619 ,\n",
              "         592.81034809,   590.21427304,   587.6408367 ,   585.08974422,\n",
              "         582.56070586,   580.05343687,   577.56765737,   575.10309226,\n",
              "         572.65947113,   570.23652813,   567.83400189,   565.45163544,\n",
              "         563.08917609,   560.74637536,   558.42298889,   556.11877637,\n",
              "         553.8335014 ,   551.56693148,   549.3188379 ,   547.08899565,\n",
              "         544.87718337,   542.68318327,   540.50678102,   538.34776576,\n",
              "         536.20592997,   534.08106939,   531.97298303,   529.88147304,\n",
              "         527.80634466,   525.74740618,   523.70446887,   521.67734693])"
            ]
          },
          "metadata": {
            "tags": []
          },
          "execution_count": 41
        }
      ]
    }
  ]
}