{
  "nbformat": 4,
  "nbformat_minor": 0,
  "metadata": {
    "colab": {
      "name": "SC2_v2_RNN Time.ipynb",
      "provenance": [],
      "machine_shape": "hm",
      "include_colab_link": true
    },
    "kernelspec": {
      "name": "python3",
      "display_name": "Python 3"
    },
    "accelerator": "GPU"
  },
  "cells": [
    {
      "cell_type": "markdown",
      "metadata": {
        "id": "view-in-github",
        "colab_type": "text"
      },
      "source": [
        "<a href=\"https://colab.research.google.com/github/ugurtegin/MMF_RNN_Reuse/blob/main/Paper%20RNN%20Notebooks/RNN_Time.ipynb\" target=\"_parent\"><img src=\"https://colab.research.google.com/assets/colab-badge.svg\" alt=\"Open In Colab\"/></a>"
      ]
    },
    {
      "cell_type": "code",
      "metadata": {
        "colab": {
          "base_uri": "https://localhost:8080/"
        },
        "id": "z31J9DFw6eG_",
        "outputId": "f7e21a2b-5585-438c-ced8-beba9eb9c00d"
      },
      "source": [
        "from google.colab import drive\n",
        "\n",
        "import numpy as np\n",
        "import matplotlib.pyplot as plt\n",
        "import scipy.io as sio\n",
        "\n",
        "# This will prompt for authorization.\n",
        "drive.mount('/content/drive')"
      ],
      "execution_count": 1,
      "outputs": [
        {
          "output_type": "stream",
          "text": [
            "Drive already mounted at /content/drive; to attempt to forcibly remount, call drive.mount(\"/content/drive\", force_remount=True).\n"
          ],
          "name": "stdout"
        }
      ]
    },
    {
      "cell_type": "code",
      "metadata": {
        "id": "u4mVBtPn6k4N"
      },
      "source": [
        "def load_data(filename, train_evo, test_evo, steps, window_size,\n",
        "              normalization='none'):\n",
        "    \"\"\"\n",
        "    Load data. Add input pulse profile as the first step.\n",
        "    The input for the network is 'window_size' times the input profile.\n",
        "\n",
        "    Parameters\n",
        "    ----------\n",
        "    filename : filename as string\n",
        "    train_evo : number of training evolutions as integer\n",
        "    test_evo : number of test evolutions as integer\n",
        "    steps : number of propagation steps as integer\n",
        "    window_size : RNN window size as integer\n",
        "    normalization : none (default), max, dBm, manual ...\n",
        "\n",
        "    Returns\n",
        "    -------\n",
        "    i_x : number of grid points (spectral/temporal) as integer\n",
        "    X_train : training data input, shape (N, window_size, i_x)\n",
        "    X_test : testing data input, shape (M, window_size, i_x)\n",
        "    Y_train : training data output, shape (N, i_x)\n",
        "    Y_test : testing data output, shape (M, i_x)\n",
        "    \"\"\"\n",
        "\n",
        "    # Load data\n",
        "    mat_contents = sio.loadmat(filename)\n",
        "    data = mat_contents['data_t_all']\n",
        "    print(\"data loaded...\")\n",
        "    print(data.shape)\n",
        "\n",
        "    if normalization == 'none':\n",
        "        pass\n",
        "        \n",
        "    elif normalization == 'max':  # linear scale (normalized)\n",
        "        m_max = np.max(np.fabs(data))\n",
        "        print('max:', m_max)\n",
        "        data = data/m_max\n",
        "\n",
        "    elif normalization == 'dBm':  # logarithmic scale\n",
        "        m_max = np.max(np.fabs(data))\n",
        "        print('max:', m_max)\n",
        "        data=data/m_max  # normalize\n",
        "        data = 10*np.log10(data)  # dB scale\n",
        "        dBlim = 50  # define dynamic range\n",
        "        data[data < -dBlim] = -dBlim  # set spectrum <-55 to -55\n",
        "        data = data/dBlim+1\n",
        "        \n",
        "\n",
        "    elif normalization == 'manual':\n",
        "        m_max = 10369993.175721595 # SC spectral domain\n",
        "        print('max:', m_max)\n",
        "        data = data/m_max\n",
        "\n",
        "\n",
        "    # the number of grid points\n",
        "    i_x = data.shape[1]\n",
        "\n",
        "    # Make the time series\n",
        "    num_evo = train_evo + test_evo\n",
        "    evo_size = steps - 1\n",
        "    num_samples = np.round(num_evo*evo_size).astype(int)\n",
        "    X_data_series = np.zeros((num_samples, window_size, i_x))\n",
        "    Y_data_series = np.zeros((num_samples, i_x))\n",
        "\n",
        "    for evo in range(num_evo):\n",
        "        evo_data = np.transpose(data[evo, :, :])\n",
        "\n",
        "        # tile the beginning of the evolution with 'window_size' input profiles\n",
        "        temp1 = evo_data[0, :]\n",
        "        temp2 = np.tile(temp1, (window_size - 1, 1))\n",
        "        evo_data = np.vstack((temp2, evo_data))\n",
        "\n",
        "        for step in range(evo_size):\n",
        "            input_data = evo_data[step:step + window_size, :]\n",
        "            output_data = evo_data[step + window_size, :]\n",
        "            series_idx = evo*evo_size + step\n",
        "            X_data_series[series_idx, :, :] = input_data\n",
        "            Y_data_series[series_idx, :] = output_data\n",
        "\n",
        "\n",
        "    X_train = X_data_series[:num_samples - test_evo*evo_size]\n",
        "    X_test = X_data_series[num_samples - test_evo*evo_size:]\n",
        "    Y_train = Y_data_series[:num_samples - test_evo*evo_size]\n",
        "    Y_test = Y_data_series[num_samples - test_evo*evo_size:]\n",
        "\n",
        "    return i_x, X_train, X_test, Y_train, Y_test, data"
      ],
      "execution_count": 2,
      "outputs": []
    },
    {
      "cell_type": "code",
      "metadata": {
        "colab": {
          "base_uri": "https://localhost:8080/"
        },
        "id": "yr8D5AEI6olF",
        "outputId": "a96724a2-19e8-42c0-b2f5-b565f174d516"
      },
      "source": [
        "filename = '/content/drive/MyDrive/NatMI_MMFwRNN/PaperData/Temporal/data_t_all_s9.mat'\n",
        "\n",
        "window_size = 10 # RNN window size\n",
        "num_epoch = 50 # number of epochs\n",
        "#num_epoch = 10 # number of epochs\n",
        "\n",
        "train_evo, test_evo, steps = 950, 50, 120\n",
        "added_params = 0\n",
        "\n",
        "\n",
        "i_x, X_train, X_test, Y_train, Y_test, data = load_data(filename, train_evo,test_evo, steps,window_size,'dBm') # max/dBm"
      ],
      "execution_count": 3,
      "outputs": [
        {
          "output_type": "stream",
          "text": [
            "data loaded...\n",
            "(1000, 191, 120)\n",
            "max: 7.438116062169361e+18\n"
          ],
          "name": "stdout"
        },
        {
          "output_type": "stream",
          "text": [
            "/usr/local/lib/python3.6/dist-packages/ipykernel_launcher.py:43: RuntimeWarning: divide by zero encountered in log10\n"
          ],
          "name": "stderr"
        }
      ]
    },
    {
      "cell_type": "code",
      "metadata": {
        "id": "KsCStUUC-eL5",
        "colab": {
          "base_uri": "https://localhost:8080/",
          "height": 466
        },
        "outputId": "bf2129d3-f0fa-462f-824e-d0a4480c7418"
      },
      "source": [
        "a = 2\n",
        "plt.figure(figsize=(30, 10))\n",
        "plt.imshow(Y_test[a*120:(a+1)*120-a-1,:])\n",
        "plt.colorbar()\n",
        "plt.show()"
      ],
      "execution_count": 4,
      "outputs": [
        {
          "output_type": "display_data",
          "data": {
            "image/png": "[encoded data removed]",
            "text/plain": [
              "<Figure size 2160x720 with 2 Axes>"
            ]
          },
          "metadata": {
            "tags": [],
            "needs_background": "light"
          }
        }
      ]
    },
    {
      "cell_type": "code",
      "metadata": {
        "id": "8ZidOap_-mq1",
        "colab": {
          "base_uri": "https://localhost:8080/",
          "height": 265
        },
        "outputId": "6f248a10-aa25-41b8-f08e-3a353ef717ff"
      },
      "source": [
        "a = 10\n",
        "plt.plot(Y_test[(119*a)-a,:])\n",
        "plt.show()"
      ],
      "execution_count": 5,
      "outputs": [
        {
          "output_type": "display_data",
          "data": {
            "image/png": "[encoded data removed]",
            "text/plain": [
              "<Figure size 432x288 with 1 Axes>"
            ]
          },
          "metadata": {
            "tags": [],
            "needs_background": "light"
          }
        }
      ]
    },
    {
      "cell_type": "code",
      "metadata": {
        "colab": {
          "base_uri": "https://localhost:8080/"
        },
        "id": "ASl_q43y7o7k",
        "outputId": "e6b4520c-b861-421a-9384-ceebcb332110"
      },
      "source": [
        "print(X_train.shape, X_test.shape, Y_train.shape, Y_test.shape)"
      ],
      "execution_count": 6,
      "outputs": [
        {
          "output_type": "stream",
          "text": [
            "(113050, 10, 191) (5950, 10, 191) (113050, 191) (5950, 191)\n"
          ],
          "name": "stdout"
        }
      ]
    },
    {
      "cell_type": "code",
      "metadata": {
        "id": "eTxDGxn-8ih3"
      },
      "source": [
        "from keras.models import Sequential\n",
        "from keras.layers import Dense, Activation, Flatten, LSTM\n",
        "from keras.utils import np_utils\n",
        "from keras.callbacks import History\n",
        "from keras import optimizers\n",
        "\n",
        "\n",
        "def make_RNN_model(window_size, i_x, added_params=0):\n",
        "    \"\"\"\n",
        "    Create RNN model\n",
        "\n",
        "    Parameters\n",
        "    ----------\n",
        "    window_size : RNN window size as integer\n",
        "    i_x : number of grid points as integer\n",
        "    added_params : number of additional parameters as integer (optional)\n",
        "\n",
        "    Returns\n",
        "    -------\n",
        "    model : keras model\n",
        "    \"\"\"\n",
        "\n",
        "    # Define model architecture\n",
        "    model = Sequential()\n",
        "\n",
        "    a = 'relu'\n",
        "    input_shape = (window_size, i_x+added_params)\n",
        "\n",
        "    model.add(LSTM(500, activation=a, input_shape=input_shape))\n",
        "    model.add(Dense(500, activation=a))\n",
        "    model.add(Dense(500, activation=a))\n",
        "    model.add(Dense(i_x, activation='sigmoid'))\n",
        "\n",
        "    # Compile model\n",
        "    optimizer = optimizers.RMSprop(lr=1e-4, rho=0.9)\n",
        "    loss = 'mean_squared_error'\n",
        "    model.compile(loss=loss,\n",
        "                  optimizer=optimizer,\n",
        "                  metrics=['mse', 'mae'])\n",
        "\n",
        "    return model"
      ],
      "execution_count": 7,
      "outputs": []
    },
    {
      "cell_type": "code",
      "metadata": {
        "colab": {
          "base_uri": "https://localhost:8080/"
        },
        "id": "rZE8asPY7s4B",
        "outputId": "cd966563-8cef-4c5a-c6ef-bad8f734740b"
      },
      "source": [
        "model = make_RNN_model(window_size, i_x)"
      ],
      "execution_count": 8,
      "outputs": [
        {
          "output_type": "stream",
          "text": [
            "WARNING:tensorflow:Layer lstm will not use cuDNN kernel since it doesn't meet the cuDNN kernel criteria. It will use generic GPU kernel as fallback when running on GPU\n"
          ],
          "name": "stdout"
        }
      ]
    },
    {
      "cell_type": "code",
      "metadata": {
        "colab": {
          "base_uri": "https://localhost:8080/"
        },
        "id": "qCSIUGI79EVP",
        "outputId": "e535ae94-5a56-4dea-9542-5117e786c065"
      },
      "source": [
        "model.summary()"
      ],
      "execution_count": 9,
      "outputs": [
        {
          "output_type": "stream",
          "text": [
            "Model: \"sequential\"\n",
            "_________________________________________________________________\n",
            "Layer (type)                 Output Shape              Param #   \n",
            "=================================================================\n",
            "lstm (LSTM)                  (None, 500)               1384000   \n",
            "_________________________________________________________________\n",
            "dense (Dense)                (None, 500)               250500    \n",
            "_________________________________________________________________\n",
            "dense_1 (Dense)              (None, 500)               250500    \n",
            "_________________________________________________________________\n",
            "dense_2 (Dense)              (None, 191)               95691     \n",
            "=================================================================\n",
            "Total params: 1,980,691\n",
            "Trainable params: 1,980,691\n",
            "Non-trainable params: 0\n",
            "_________________________________________________________________\n"
          ],
          "name": "stdout"
        }
      ]
    },
    {
      "cell_type": "code",
      "metadata": {
        "colab": {
          "base_uri": "https://localhost:8080/"
        },
        "id": "xkmbTCWv8UQd",
        "outputId": "ce7fecf8-52be-4ff6-d83d-78a776cdad31"
      },
      "source": [
        "### Fit model on training data\n",
        "history = model.fit(X_train, Y_train,epochs=num_epoch,validation_split=0.1,verbose=2)"
      ],
      "execution_count": 10,
      "outputs": [
        {
          "output_type": "stream",
          "text": [
            "Epoch 1/50\n",
            "3180/3180 - 61s - loss: 0.0012 - mse: 0.0012 - mae: 0.0075 - val_loss: 4.0041e-05 - val_mse: 4.0041e-05 - val_mae: 0.0026\n",
            "Epoch 2/50\n",
            "3180/3180 - 59s - loss: 2.4393e-05 - mse: 2.4393e-05 - mae: 0.0022 - val_loss: 2.2409e-05 - val_mse: 2.2409e-05 - val_mae: 0.0017\n",
            "Epoch 3/50\n",
            "3180/3180 - 59s - loss: 1.4437e-05 - mse: 1.4437e-05 - mae: 0.0017 - val_loss: 2.5781e-05 - val_mse: 2.5781e-05 - val_mae: 0.0016\n",
            "Epoch 4/50\n",
            "3180/3180 - 59s - loss: 1.0563e-05 - mse: 1.0563e-05 - mae: 0.0015 - val_loss: 2.7219e-05 - val_mse: 2.7219e-05 - val_mae: 0.0019\n",
            "Epoch 5/50\n",
            "3180/3180 - 59s - loss: 8.5580e-06 - mse: 8.5580e-06 - mae: 0.0013 - val_loss: 3.2716e-05 - val_mse: 3.2716e-05 - val_mae: 0.0019\n",
            "Epoch 6/50\n",
            "3180/3180 - 59s - loss: 7.2404e-06 - mse: 7.2404e-06 - mae: 0.0012 - val_loss: 2.0456e-05 - val_mse: 2.0456e-05 - val_mae: 0.0019\n",
            "Epoch 7/50\n",
            "3180/3180 - 59s - loss: 6.3188e-06 - mse: 6.3188e-06 - mae: 0.0011 - val_loss: 1.5437e-05 - val_mse: 1.5437e-05 - val_mae: 0.0012\n",
            "Epoch 8/50\n",
            "3180/3180 - 59s - loss: 5.6219e-06 - mse: 5.6219e-06 - mae: 0.0011 - val_loss: 1.6029e-05 - val_mse: 1.6029e-05 - val_mae: 0.0012\n",
            "Epoch 9/50\n",
            "3180/3180 - 59s - loss: 5.0954e-06 - mse: 5.0954e-06 - mae: 0.0010 - val_loss: 1.4925e-05 - val_mse: 1.4925e-05 - val_mae: 0.0013\n",
            "Epoch 10/50\n",
            "3180/3180 - 59s - loss: 4.6663e-06 - mse: 4.6663e-06 - mae: 9.5660e-04 - val_loss: 1.5921e-05 - val_mse: 1.5921e-05 - val_mae: 0.0012\n",
            "Epoch 11/50\n",
            "3180/3180 - 59s - loss: 4.2955e-06 - mse: 4.2955e-06 - mae: 9.1656e-04 - val_loss: 1.2502e-05 - val_mse: 1.2502e-05 - val_mae: 0.0010\n",
            "Epoch 12/50\n",
            "3180/3180 - 59s - loss: 3.9892e-06 - mse: 3.9892e-06 - mae: 8.8140e-04 - val_loss: 1.6542e-05 - val_mse: 1.6542e-05 - val_mae: 0.0014\n",
            "Epoch 13/50\n",
            "3180/3180 - 59s - loss: 3.7407e-06 - mse: 3.7407e-06 - mae: 8.5787e-04 - val_loss: 1.8283e-05 - val_mse: 1.8283e-05 - val_mae: 0.0015\n",
            "Epoch 14/50\n",
            "3180/3180 - 58s - loss: 3.5155e-06 - mse: 3.5155e-06 - mae: 8.2762e-04 - val_loss: 1.5515e-05 - val_mse: 1.5515e-05 - val_mae: 0.0012\n",
            "Epoch 15/50\n",
            "3180/3180 - 59s - loss: 3.3324e-06 - mse: 3.3324e-06 - mae: 8.0358e-04 - val_loss: 1.1572e-05 - val_mse: 1.1572e-05 - val_mae: 0.0011\n",
            "Epoch 16/50\n",
            "3180/3180 - 59s - loss: 3.1508e-06 - mse: 3.1508e-06 - mae: 7.7903e-04 - val_loss: 1.4860e-05 - val_mse: 1.4860e-05 - val_mae: 0.0013\n",
            "Epoch 17/50\n",
            "3180/3180 - 59s - loss: 2.9934e-06 - mse: 2.9934e-06 - mae: 7.6111e-04 - val_loss: 1.1925e-05 - val_mse: 1.1925e-05 - val_mae: 0.0010\n",
            "Epoch 18/50\n",
            "3180/3180 - 58s - loss: 2.8591e-06 - mse: 2.8591e-06 - mae: 7.4478e-04 - val_loss: 1.0064e-05 - val_mse: 1.0064e-05 - val_mae: 8.0422e-04\n",
            "Epoch 19/50\n",
            "3180/3180 - 58s - loss: 2.7297e-06 - mse: 2.7297e-06 - mae: 7.2652e-04 - val_loss: 1.1463e-05 - val_mse: 1.1463e-05 - val_mae: 9.8118e-04\n",
            "Epoch 20/50\n",
            "3180/3180 - 58s - loss: 2.6129e-06 - mse: 2.6129e-06 - mae: 7.1166e-04 - val_loss: 1.1439e-05 - val_mse: 1.1439e-05 - val_mae: 9.4470e-04\n",
            "Epoch 21/50\n",
            "3180/3180 - 59s - loss: 2.5178e-06 - mse: 2.5178e-06 - mae: 6.9918e-04 - val_loss: 1.0833e-05 - val_mse: 1.0833e-05 - val_mae: 9.0107e-04\n",
            "Epoch 22/50\n",
            "3180/3180 - 59s - loss: 2.4077e-06 - mse: 2.4077e-06 - mae: 6.8072e-04 - val_loss: 1.1803e-05 - val_mse: 1.1803e-05 - val_mae: 0.0011\n",
            "Epoch 23/50\n",
            "3180/3180 - 59s - loss: 2.3269e-06 - mse: 2.3269e-06 - mae: 6.7052e-04 - val_loss: 1.0451e-05 - val_mse: 1.0451e-05 - val_mae: 9.1301e-04\n",
            "Epoch 24/50\n",
            "3180/3180 - 58s - loss: 2.2452e-06 - mse: 2.2452e-06 - mae: 6.5804e-04 - val_loss: 1.6686e-05 - val_mse: 1.6686e-05 - val_mae: 0.0012\n",
            "Epoch 25/50\n",
            "3180/3180 - 58s - loss: 2.1703e-06 - mse: 2.1703e-06 - mae: 6.4876e-04 - val_loss: 1.1520e-05 - val_mse: 1.1520e-05 - val_mae: 0.0010\n",
            "Epoch 26/50\n",
            "3180/3180 - 59s - loss: 2.0899e-06 - mse: 2.0899e-06 - mae: 6.3599e-04 - val_loss: 1.1283e-05 - val_mse: 1.1283e-05 - val_mae: 9.9891e-04\n",
            "Epoch 27/50\n",
            "3180/3180 - 58s - loss: 2.0275e-06 - mse: 2.0275e-06 - mae: 6.2618e-04 - val_loss: 9.1185e-06 - val_mse: 9.1185e-06 - val_mae: 7.9210e-04\n",
            "Epoch 28/50\n",
            "3180/3180 - 59s - loss: 1.9612e-06 - mse: 1.9612e-06 - mae: 6.1564e-04 - val_loss: 1.0606e-05 - val_mse: 1.0606e-05 - val_mae: 9.9386e-04\n",
            "Epoch 29/50\n",
            "3180/3180 - 59s - loss: 1.9079e-06 - mse: 1.9079e-06 - mae: 6.0796e-04 - val_loss: 1.0448e-05 - val_mse: 1.0448e-05 - val_mae: 9.2778e-04\n",
            "Epoch 30/50\n",
            "3180/3180 - 58s - loss: 1.8444e-06 - mse: 1.8444e-06 - mae: 5.9690e-04 - val_loss: 1.0312e-05 - val_mse: 1.0312e-05 - val_mae: 9.0294e-04\n",
            "Epoch 31/50\n",
            "3180/3180 - 59s - loss: 1.8083e-06 - mse: 1.8083e-06 - mae: 5.9063e-04 - val_loss: 1.1029e-05 - val_mse: 1.1029e-05 - val_mae: 0.0010\n",
            "Epoch 32/50\n",
            "3180/3180 - 58s - loss: 1.7543e-06 - mse: 1.7543e-06 - mae: 5.8252e-04 - val_loss: 9.0696e-06 - val_mse: 9.0696e-06 - val_mae: 8.3154e-04\n",
            "Epoch 33/50\n",
            "3180/3180 - 58s - loss: 1.7079e-06 - mse: 1.7079e-06 - mae: 5.7153e-04 - val_loss: 7.6968e-06 - val_mse: 7.6968e-06 - val_mae: 6.5944e-04\n",
            "Epoch 34/50\n",
            "3180/3180 - 58s - loss: 1.6569e-06 - mse: 1.6569e-06 - mae: 5.6554e-04 - val_loss: 9.1839e-06 - val_mse: 9.1839e-06 - val_mae: 8.7281e-04\n",
            "Epoch 35/50\n",
            "3180/3180 - 59s - loss: 1.6260e-06 - mse: 1.6260e-06 - mae: 5.6108e-04 - val_loss: 1.1318e-05 - val_mse: 1.1318e-05 - val_mae: 0.0010\n",
            "Epoch 36/50\n",
            "3180/3180 - 59s - loss: 1.5833e-06 - mse: 1.5833e-06 - mae: 5.5193e-04 - val_loss: 8.9257e-06 - val_mse: 8.9257e-06 - val_mae: 7.1393e-04\n",
            "Epoch 37/50\n",
            "3180/3180 - 59s - loss: 1.5386e-06 - mse: 1.5386e-06 - mae: 5.4527e-04 - val_loss: 1.1785e-05 - val_mse: 1.1785e-05 - val_mae: 0.0010\n",
            "Epoch 38/50\n",
            "3180/3180 - 58s - loss: 1.5091e-06 - mse: 1.5091e-06 - mae: 5.3971e-04 - val_loss: 1.0687e-05 - val_mse: 1.0687e-05 - val_mae: 9.1477e-04\n",
            "Epoch 39/50\n",
            "3180/3180 - 58s - loss: 1.4793e-06 - mse: 1.4793e-06 - mae: 5.3743e-04 - val_loss: 1.1704e-05 - val_mse: 1.1704e-05 - val_mae: 0.0011\n",
            "Epoch 40/50\n",
            "3180/3180 - 59s - loss: 1.4426e-06 - mse: 1.4426e-06 - mae: 5.2976e-04 - val_loss: 1.1457e-05 - val_mse: 1.1457e-05 - val_mae: 9.3666e-04\n",
            "Epoch 41/50\n",
            "3180/3180 - 58s - loss: 1.4130e-06 - mse: 1.4130e-06 - mae: 5.2518e-04 - val_loss: 8.2105e-06 - val_mse: 8.2105e-06 - val_mae: 7.4045e-04\n",
            "Epoch 42/50\n",
            "3180/3180 - 59s - loss: 1.3887e-06 - mse: 1.3887e-06 - mae: 5.1809e-04 - val_loss: 1.1540e-05 - val_mse: 1.1540e-05 - val_mae: 9.3500e-04\n",
            "Epoch 43/50\n",
            "3180/3180 - 58s - loss: 1.3570e-06 - mse: 1.3570e-06 - mae: 5.1271e-04 - val_loss: 8.3195e-06 - val_mse: 8.3195e-06 - val_mae: 6.7791e-04\n",
            "Epoch 44/50\n",
            "3180/3180 - 58s - loss: 1.3261e-06 - mse: 1.3261e-06 - mae: 5.0858e-04 - val_loss: 1.0862e-05 - val_mse: 1.0862e-05 - val_mae: 9.6170e-04\n",
            "Epoch 45/50\n",
            "3180/3180 - 58s - loss: 1.3036e-06 - mse: 1.3036e-06 - mae: 5.0400e-04 - val_loss: 8.6841e-06 - val_mse: 8.6841e-06 - val_mae: 6.8547e-04\n",
            "Epoch 46/50\n",
            "3180/3180 - 58s - loss: 1.2857e-06 - mse: 1.2857e-06 - mae: 5.0067e-04 - val_loss: 1.0350e-05 - val_mse: 1.0350e-05 - val_mae: 8.8299e-04\n",
            "Epoch 47/50\n",
            "3180/3180 - 58s - loss: 1.2611e-06 - mse: 1.2611e-06 - mae: 4.9559e-04 - val_loss: 1.1695e-05 - val_mse: 1.1695e-05 - val_mae: 0.0011\n",
            "Epoch 48/50\n",
            "3180/3180 - 58s - loss: 1.2403e-06 - mse: 1.2403e-06 - mae: 4.8880e-04 - val_loss: 1.2444e-05 - val_mse: 1.2444e-05 - val_mae: 0.0011\n",
            "Epoch 49/50\n",
            "3180/3180 - 58s - loss: 1.2197e-06 - mse: 1.2197e-06 - mae: 4.8700e-04 - val_loss: 8.5840e-06 - val_mse: 8.5840e-06 - val_mae: 7.2311e-04\n",
            "Epoch 50/50\n",
            "3180/3180 - 58s - loss: 1.1942e-06 - mse: 1.1942e-06 - mae: 4.8243e-04 - val_loss: 9.4518e-06 - val_mse: 9.4518e-06 - val_mae: 7.4274e-04\n"
          ],
          "name": "stdout"
        }
      ]
    },
    {
      "cell_type": "code",
      "metadata": {
        "colab": {
          "base_uri": "https://localhost:8080/",
          "height": 278
        },
        "id": "cx6YnLe19PAs",
        "outputId": "c081596d-874f-4a43-a183-d5649656631e"
      },
      "source": [
        "plt.figure()\n",
        "plt.xlabel('Epoch')\n",
        "plt.plot(history.epoch, np.array(history.history['loss']),label='Train Loss')\n",
        "plt.plot(history.epoch, np.array(history.history['val_loss']),label = 'Val loss')\n",
        "plt.legend()\n",
        "plt.show()"
      ],
      "execution_count": 11,
      "outputs": [
        {
          "output_type": "display_data",
          "data": {
            "image/png": "[encoded data removed]",
            "text/plain": [
              "<Figure size 432x288 with 1 Axes>"
            ]
          },
          "metadata": {
            "tags": [],
            "needs_background": "light"
          }
        }
      ]
    },
    {
      "cell_type": "code",
      "metadata": {
        "id": "yWEnuwniUX0z"
      },
      "source": [
        "model.save('/content/drive/MyDrive/NatMI_MMFwRNN/PaperData/Temporal/evo_wave.h5')"
      ],
      "execution_count": 12,
      "outputs": []
    },
    {
      "cell_type": "code",
      "metadata": {
        "colab": {
          "base_uri": "https://localhost:8080/"
        },
        "id": "w40S6QCwUzzk",
        "outputId": "2f511311-bf82-4edc-963f-d22a292c70de"
      },
      "source": [
        "print(\"TESTING STEP-WISE...\")\n",
        "Y_submit = model.predict_proba(X_test)"
      ],
      "execution_count": 13,
      "outputs": [
        {
          "output_type": "stream",
          "text": [
            "TESTING STEP-WISE...\n"
          ],
          "name": "stdout"
        },
        {
          "output_type": "stream",
          "text": [
            "/usr/local/lib/python3.6/dist-packages/tensorflow/python/keras/engine/sequential.py:425: UserWarning: `model.predict_proba()` is deprecated and will be removed after 2021-01-01. Please use `model.predict()` instead.\n",
            "  warnings.warn('`model.predict_proba()` is deprecated and '\n"
          ],
          "name": "stderr"
        }
      ]
    },
    {
      "cell_type": "code",
      "metadata": {
        "colab": {
          "base_uri": "https://localhost:8080/"
        },
        "id": "Q6_nYhtcU69T",
        "outputId": "8ed60d4f-14c8-43b6-d34d-b8f55ab7cc50"
      },
      "source": [
        "Y_submit.shape"
      ],
      "execution_count": 14,
      "outputs": [
        {
          "output_type": "execute_result",
          "data": {
            "text/plain": [
              "(5950, 191)"
            ]
          },
          "metadata": {
            "tags": []
          },
          "execution_count": 14
        }
      ]
    },
    {
      "cell_type": "code",
      "metadata": {
        "id": "ZAkJp9X6U8Iv"
      },
      "source": [
        "sio.savemat('/content/drive/MyDrive/NatMI_MMFwRNN/PaperData/Temporal/test_results_wave.mat', {'Y_submit':Y_submit, 'Y_test':Y_test, 'steps':steps,'window_size':window_size})"
      ],
      "execution_count": 15,
      "outputs": []
    },
    {
      "cell_type": "code",
      "metadata": {
        "id": "xDdwMHT1Wfec"
      },
      "source": [
        "def pred_evo(model, X_test, test_evo, steps, window_size, i_x):\n",
        "    \"\"\"\n",
        "    Predict evolution from a given input step. The input is 'window_size' times\n",
        "    the given input.\n",
        "\n",
        "    Parameters\n",
        "    ----------\n",
        "    model : Keras model\n",
        "    X_test: : test data, size (samples, window_size, i_x)\n",
        "    test_evo : number of test evolutions as integer\n",
        "    steps : steps as integer\n",
        "    window_size : RNN window size as integer\n",
        "    i_x : number of grid points (spectral/temporal) as integer\n",
        "\n",
        "    Returns\n",
        "    -------\n",
        "    Y_submit : results matrix, size (samples, i_x)\n",
        "    \"\"\"\n",
        "\n",
        "    # Make the time series\n",
        "    evo_size = steps - 1\n",
        "    Y_submit = np.zeros((test_evo, evo_size, i_x))\n",
        "    test_data = X_test[::evo_size,:,:]  # select fiber input profiles\n",
        "\n",
        "    for step in range(evo_size):\n",
        "        test_result = model.predict_proba(test_data)\n",
        "        Y_submit[:,step,:] = test_result\n",
        "        test_result = np.expand_dims(test_result, axis=1)\n",
        "        test_data = np.concatenate((test_data,test_result), axis=1)\n",
        "        test_data = test_data[:, 1:, :]\n",
        "\n",
        "    # reshape to the original dimensions\n",
        "    Y_submit = np.reshape(Y_submit,(evo_size*test_evo, i_x))\n",
        "\n",
        "    return Y_submit"
      ],
      "execution_count": 16,
      "outputs": []
    },
    {
      "cell_type": "code",
      "metadata": {
        "colab": {
          "base_uri": "https://localhost:8080/"
        },
        "id": "qP__0c-CVZ14",
        "outputId": "7ab6c176-dfa7-4cfc-a089-b33aacfb7b5c"
      },
      "source": [
        "Y_submit = pred_evo(model, X_test, test_evo, steps, window_size, i_x)"
      ],
      "execution_count": 17,
      "outputs": [
        {
          "output_type": "stream",
          "text": [
            "/usr/local/lib/python3.6/dist-packages/tensorflow/python/keras/engine/sequential.py:425: UserWarning: `model.predict_proba()` is deprecated and will be removed after 2021-01-01. Please use `model.predict()` instead.\n",
            "  warnings.warn('`model.predict_proba()` is deprecated and '\n"
          ],
          "name": "stderr"
        }
      ]
    },
    {
      "cell_type": "code",
      "metadata": {
        "id": "m0lfV55039JH",
        "colab": {
          "base_uri": "https://localhost:8080/"
        },
        "outputId": "38b89a9e-4f7c-471c-b6fc-a80803d244b7"
      },
      "source": [
        "Y_submit.shape"
      ],
      "execution_count": 18,
      "outputs": [
        {
          "output_type": "execute_result",
          "data": {
            "text/plain": [
              "(5950, 191)"
            ]
          },
          "metadata": {
            "tags": []
          },
          "execution_count": 18
        }
      ]
    },
    {
      "cell_type": "code",
      "metadata": {
        "id": "ktYVYx4qVcdu"
      },
      "source": [
        "sio.savemat('/content/drive/MyDrive/NatMI_MMFwRNN/PaperData/Temporal/full_test_results_wave.mat', {'Y_submit':Y_submit, 'Y_test':Y_test, 'steps':steps,'window_size':window_size})"
      ],
      "execution_count": 19,
      "outputs": []
    },
    {
      "cell_type": "code",
      "metadata": {
        "colab": {
          "base_uri": "https://localhost:8080/",
          "height": 253
        },
        "id": "1o4nK6xalofb",
        "outputId": "a932756b-c6e8-499d-bc9e-cc9e8bda08bf"
      },
      "source": [
        "plt.imshow(Y_test[0:119,:])\n",
        "plt.colorbar()\n",
        "plt.show()"
      ],
      "execution_count": 20,
      "outputs": [
        {
          "output_type": "display_data",
          "data": {
            "image/png": "[encoded data removed]",
            "text/plain": [
              "<Figure size 432x288 with 2 Axes>"
            ]
          },
          "metadata": {
            "tags": [],
            "needs_background": "light"
          }
        }
      ]
    },
    {
      "cell_type": "code",
      "metadata": {
        "colab": {
          "base_uri": "https://localhost:8080/",
          "height": 248
        },
        "id": "pAz0a-PazdwU",
        "outputId": "eb0a9753-d620-43ed-c92f-d0ca09a5a3cd"
      },
      "source": [
        "plt.imshow(Y_submit[0:119,:])\n",
        "plt.colorbar()\n",
        "plt.show()"
      ],
      "execution_count": 21,
      "outputs": [
        {
          "output_type": "display_data",
          "data": {
            "image/png": "[encoded data removed]",
            "text/plain": [
              "<Figure size 432x288 with 2 Axes>"
            ]
          },
          "metadata": {
            "tags": [],
            "needs_background": "light"
          }
        }
      ]
    },
    {
      "cell_type": "code",
      "metadata": {
        "colab": {
          "base_uri": "https://localhost:8080/",
          "height": 1000
        },
        "id": "6q_mmtK0zgFf",
        "outputId": "7a182c9a-8711-4025-b44b-99ed56d45476"
      },
      "source": [
        "n = [1,2,3,10,11,49]\n",
        "\n",
        "for i in range(len(n)):\n",
        "    a = int(n[i])\n",
        "    plt.plot(Y_test[(119*a)-a,:])\n",
        "    plt.plot(Y_submit[(119*a)-a,:])\n",
        "    #plt.xlim([110, 140]) \n",
        "    plt.show()"
      ],
      "execution_count": 23,
      "outputs": [
        {
          "output_type": "display_data",
          "data": {
            "image/png": "[encoded data removed]",
            "text/plain": [
              "<Figure size 432x288 with 1 Axes>"
            ]
          },
          "metadata": {
            "tags": [],
            "needs_background": "light"
          }
        },
        {
          "output_type": "display_data",
          "data": {
            "image/png": "[encoded data removed]",
            "text/plain": [
              "<Figure size 432x288 with 1 Axes>"
            ]
          },
          "metadata": {
            "tags": [],
            "needs_background": "light"
          }
        },
        {
          "output_type": "display_data",
          "data": {
            "image/png": "[encoded data removed]",
            "text/plain": [
              "<Figure size 432x288 with 1 Axes>"
            ]
          },
          "metadata": {
            "tags": [],
            "needs_background": "light"
          }
        },
        {
          "output_type": "display_data",
          "data": {
            "image/png": "[encoded data removed]",
            "text/plain": [
              "<Figure size 432x288 with 1 Axes>"
            ]
          },
          "metadata": {
            "tags": [],
            "needs_background": "light"
          }
        },
        {
          "output_type": "display_data",
          "data": {
            "image/png": "[encoded data removed]",
            "text/plain": [
              "<Figure size 432x288 with 1 Axes>"
            ]
          },
          "metadata": {
            "tags": [],
            "needs_background": "light"
          }
        },
        {
          "output_type": "display_data",
          "data": {
            "image/png": "[encoded data removed]",
            "text/plain": [
              "<Figure size 432x288 with 1 Axes>"
            ]
          },
          "metadata": {
            "tags": [],
            "needs_background": "light"
          }
        }
      ]
    },
    {
      "cell_type": "code",
      "metadata": {
        "id": "S0hlj_sWzkZY"
      },
      "source": [
        ""
      ],
      "execution_count": 22,
      "outputs": []
    }
  ]
}