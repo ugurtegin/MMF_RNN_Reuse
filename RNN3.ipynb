{
  "nbformat": 4,
  "nbformat_minor": 0,
  "metadata": {
    "colab": {
      "name": "RNN.ipynb",
      "provenance": [],
      "machine_shape": "hm",
      "authorship_tag": "ABX9TyNqJlFxF+AWRhOVUlKKVVPH",
      "include_colab_link": true
    },
    "kernelspec": {
      "name": "python3",
      "display_name": "Python 3"
    },
    "accelerator": "GPU"
  },
  "cells": [
    {
      "cell_type": "markdown",
      "metadata": {
        "id": "view-in-github",
        "colab_type": "text"
      },
      "source": [
        "<a href=\"https://colab.research.google.com/github/ugurtegin/MMF_RNN_Reuse/blob/main/RNN3.ipynb\" target=\"_parent\"><img src=\"https://colab.research.google.com/assets/colab-badge.svg\" alt=\"Open In Colab\"/></a>"
      ]
    },
    {
      "cell_type": "code",
      "metadata": {
        "colab": {
          "base_uri": "https://localhost:8080/"
        },
        "id": "z31J9DFw6eG_",
        "outputId": "06108478-6325-4276-af3d-b3736307fe90"
      },
      "source": [
        "from google.colab import drive\n",
        "\n",
        "import numpy as np\n",
        "import matplotlib.pyplot as plt\n",
        "import scipy.io as sio\n",
        "\n",
        "# This will prompt for authorization.\n",
        "drive.mount('/content/drive')"
      ],
      "execution_count": 1,
      "outputs": [
        {
          "output_type": "stream",
          "text": [
            "Mounted at /content/drive\n"
          ],
          "name": "stdout"
        }
      ]
    },
    {
      "cell_type": "code",
      "metadata": {
        "id": "u4mVBtPn6k4N"
      },
      "source": [
        "def load_data(filename, train_evo, test_evo, steps, window_size,\n",
        "              normalization='none'):\n",
        "    \"\"\"\n",
        "    Load data. Add input pulse profile as the first step.\n",
        "    The input for the network is 'window_size' times the input profile.\n",
        "\n",
        "    Parameters\n",
        "    ----------\n",
        "    filename : filename as string\n",
        "    train_evo : number of training evolutions as integer\n",
        "    test_evo : number of test evolutions as integer\n",
        "    steps : number of propagation steps as integer\n",
        "    window_size : RNN window size as integer\n",
        "    normalization : none (default), max, dBm, manual ...\n",
        "\n",
        "    Returns\n",
        "    -------\n",
        "    i_x : number of grid points (spectral/temporal) as integer\n",
        "    X_train : training data input, shape (N, window_size, i_x)\n",
        "    X_test : testing data input, shape (M, window_size, i_x)\n",
        "    Y_train : training data output, shape (N, i_x)\n",
        "    Y_test : testing data output, shape (M, i_x)\n",
        "    \"\"\"\n",
        "\n",
        "    # Load data\n",
        "    mat_contents = sio.loadmat(filename)\n",
        "    data = mat_contents['data_w_all']\n",
        "    print(\"data loaded...\")\n",
        "    print(data.shape)\n",
        "\n",
        "    if normalization == 'none':\n",
        "        pass\n",
        "        \n",
        "    elif normalization == 'max':  # linear scale (normalized)\n",
        "        m_max = np.max(np.fabs(data))\n",
        "        print('max:', m_max)\n",
        "        data = data/m_max\n",
        "\n",
        "    elif normalization == 'dBm':  # logarithmic scale\n",
        "        m_max = np.max(np.fabs(data))\n",
        "        print('max:', m_max)\n",
        "        data=data/m_max  # normalize\n",
        "        data = 10*np.log10(data)  # dB scale\n",
        "        dBlim = 30  # define dynamic range\n",
        "        data[data < -dBlim] = -dBlim  # set spectrum <-55 to -55\n",
        "        data = data/dBlim+1\n",
        "        \n",
        "\n",
        "    elif normalization == 'manual':\n",
        "        m_max = 10369993.175721595 # SC spectral domain\n",
        "        print('max:', m_max)\n",
        "        data = data/m_max\n",
        "\n",
        "\n",
        "    # the number of grid points\n",
        "    i_x = data.shape[1]\n",
        "\n",
        "    # Make the time series\n",
        "    num_evo = train_evo + test_evo\n",
        "    evo_size = steps - 1\n",
        "    num_samples = np.round(num_evo*evo_size).astype(int)\n",
        "    X_data_series = np.zeros((num_samples, window_size, i_x))\n",
        "    Y_data_series = np.zeros((num_samples, i_x))\n",
        "\n",
        "    for evo in range(num_evo):\n",
        "        evo_data = np.transpose(data[evo, :, :])\n",
        "\n",
        "        # tile the beginning of the evolution with 'window_size' input profiles\n",
        "        temp1 = evo_data[0, :]\n",
        "        temp2 = np.tile(temp1, (window_size - 1, 1))\n",
        "        evo_data = np.vstack((temp2, evo_data))\n",
        "\n",
        "        for step in range(evo_size):\n",
        "            input_data = evo_data[step:step + window_size, :]\n",
        "            output_data = evo_data[step + window_size, :]\n",
        "            series_idx = evo*evo_size + step\n",
        "            X_data_series[series_idx, :, :] = input_data\n",
        "            Y_data_series[series_idx, :] = output_data\n",
        "\n",
        "\n",
        "    X_train = X_data_series[:num_samples - test_evo*evo_size]\n",
        "    X_test = X_data_series[num_samples - test_evo*evo_size:]\n",
        "    Y_train = Y_data_series[:num_samples - test_evo*evo_size]\n",
        "    Y_test = Y_data_series[num_samples - test_evo*evo_size:]\n",
        "\n",
        "    return i_x, X_train, X_test, Y_train, Y_test, data"
      ],
      "execution_count": 12,
      "outputs": []
    },
    {
      "cell_type": "code",
      "metadata": {
        "colab": {
          "base_uri": "https://localhost:8080/"
        },
        "id": "yr8D5AEI6olF",
        "outputId": "32c445d0-573b-404a-ac97-f72afb425bee"
      },
      "source": [
        "filename = '/content/drive/MyDrive/NatMI_MMFwRNN/Data/SC_Pro_Data2/data_w_all3.mat'\n",
        "\n",
        "window_size = 10 # RNN window size\n",
        "num_epoch = 50 # number of epochs\n",
        "#num_epoch = 10 # number of epochs\n",
        "\n",
        "train_evo, test_evo, steps = 950, 50, 120\n",
        "added_params = 0\n",
        "\n",
        "\n",
        "i_x, X_train, X_test, Y_train, Y_test, data = load_data(filename, train_evo,test_evo, steps,window_size,'dBm') # max/dBm"
      ],
      "execution_count": 13,
      "outputs": [
        {
          "output_type": "stream",
          "text": [
            "data loaded...\n",
            "(1000, 191, 120)\n",
            "max: 1.050660339645011e+26\n"
          ],
          "name": "stdout"
        }
      ]
    },
    {
      "cell_type": "code",
      "metadata": {
        "id": "KsCStUUC-eL5",
        "colab": {
          "base_uri": "https://localhost:8080/",
          "height": 582
        },
        "outputId": "62ab2ce9-cb43-4fea-cc6e-8658cdc6c7da"
      },
      "source": [
        "a = 44\n",
        "plt.figure(figsize=(30, 10))\n",
        "plt.imshow(Y_test[a*120:(a+1)*120-a-1,:])\n",
        "plt.colorbar()\n",
        "plt.show()"
      ],
      "execution_count": 14,
      "outputs": [
        {
          "output_type": "display_data",
          "data": {
            "image/png": "[encoded data removed]",
            "text/plain": [
              "<Figure size 2160x720 with 2 Axes>"
            ]
          },
          "metadata": {
            "tags": [],
            "needs_background": "light"
          }
        }
      ]
    },
    {
      "cell_type": "code",
      "metadata": {
        "id": "8ZidOap_-mq1",
        "colab": {
          "base_uri": "https://localhost:8080/",
          "height": 269
        },
        "outputId": "52502297-ed65-40e7-d66b-8075e5cfda28"
      },
      "source": [
        "a = 40\n",
        "plt.plot(Y_test[(119*a)-a,:])\n",
        "plt.show()"
      ],
      "execution_count": 15,
      "outputs": [
        {
          "output_type": "display_data",
          "data": {
            "image/png": "[encoded data removed]",
            "text/plain": [
              "<Figure size 432x288 with 1 Axes>"
            ]
          },
          "metadata": {
            "tags": [],
            "needs_background": "light"
          }
        }
      ]
    },
    {
      "cell_type": "code",
      "metadata": {
        "colab": {
          "base_uri": "https://localhost:8080/"
        },
        "id": "ASl_q43y7o7k",
        "outputId": "168d4ad6-2f3b-49e7-d53d-3d7b73e903df"
      },
      "source": [
        "print(X_train.shape, X_test.shape, Y_train.shape, Y_test.shape)"
      ],
      "execution_count": 16,
      "outputs": [
        {
          "output_type": "stream",
          "text": [
            "(113050, 10, 191) (5950, 10, 191) (113050, 191) (5950, 191)\n"
          ],
          "name": "stdout"
        }
      ]
    },
    {
      "cell_type": "code",
      "metadata": {
        "id": "eTxDGxn-8ih3"
      },
      "source": [
        "from keras.models import Sequential\n",
        "from keras.layers import Dense, Activation, Flatten, LSTM\n",
        "from keras.utils import np_utils\n",
        "from keras.callbacks import History\n",
        "from keras import optimizers\n",
        "\n",
        "\n",
        "def make_RNN_model(window_size, i_x, added_params=0):\n",
        "    \"\"\"\n",
        "    Create RNN model\n",
        "\n",
        "    Parameters\n",
        "    ----------\n",
        "    window_size : RNN window size as integer\n",
        "    i_x : number of grid points as integer\n",
        "    added_params : number of additional parameters as integer (optional)\n",
        "\n",
        "    Returns\n",
        "    -------\n",
        "    model : keras model\n",
        "    \"\"\"\n",
        "\n",
        "    # Define model architecture\n",
        "    model = Sequential()\n",
        "\n",
        "    a = 'relu'\n",
        "    input_shape = (window_size, i_x+added_params)\n",
        "\n",
        "    model.add(LSTM(250, activation=a, input_shape=input_shape))\n",
        "    model.add(Dense(250, activation=a))\n",
        "    model.add(Dense(250, activation=a))\n",
        "    model.add(Dense(i_x, activation='sigmoid'))\n",
        "\n",
        "    # Compile model\n",
        "    optimizer = optimizers.RMSprop(lr=1e-4, rho=0.9)\n",
        "    loss = 'mean_squared_error'\n",
        "    model.compile(loss=loss,\n",
        "                  optimizer=optimizer,\n",
        "                  metrics=['mse', 'mae'])\n",
        "\n",
        "    return model"
      ],
      "execution_count": 17,
      "outputs": []
    },
    {
      "cell_type": "code",
      "metadata": {
        "colab": {
          "base_uri": "https://localhost:8080/"
        },
        "id": "rZE8asPY7s4B",
        "outputId": "a9008286-bdfb-4f28-93da-14d11bcce3e5"
      },
      "source": [
        "model = make_RNN_model(window_size, i_x)"
      ],
      "execution_count": 18,
      "outputs": [
        {
          "output_type": "stream",
          "text": [
            "WARNING:tensorflow:Layer lstm will not use cuDNN kernel since it doesn't meet the cuDNN kernel criteria. It will use generic GPU kernel as fallback when running on GPU\n"
          ],
          "name": "stdout"
        }
      ]
    },
    {
      "cell_type": "code",
      "metadata": {
        "colab": {
          "base_uri": "https://localhost:8080/"
        },
        "id": "qCSIUGI79EVP",
        "outputId": "e0d2e91f-7add-4a6f-9e5a-f90398725aa7"
      },
      "source": [
        "model.summary()"
      ],
      "execution_count": 19,
      "outputs": [
        {
          "output_type": "stream",
          "text": [
            "Model: \"sequential\"\n",
            "_________________________________________________________________\n",
            "Layer (type)                 Output Shape              Param #   \n",
            "=================================================================\n",
            "lstm (LSTM)                  (None, 250)               442000    \n",
            "_________________________________________________________________\n",
            "dense (Dense)                (None, 250)               62750     \n",
            "_________________________________________________________________\n",
            "dense_1 (Dense)              (None, 250)               62750     \n",
            "_________________________________________________________________\n",
            "dense_2 (Dense)              (None, 191)               47941     \n",
            "=================================================================\n",
            "Total params: 615,441\n",
            "Trainable params: 615,441\n",
            "Non-trainable params: 0\n",
            "_________________________________________________________________\n"
          ],
          "name": "stdout"
        }
      ]
    },
    {
      "cell_type": "code",
      "metadata": {
        "colab": {
          "base_uri": "https://localhost:8080/"
        },
        "id": "xkmbTCWv8UQd",
        "outputId": "b780d68e-8ee7-49de-a6fa-3002d3ab788f"
      },
      "source": [
        "### Fit model on training data\n",
        "history = model.fit(X_train, Y_train,epochs=num_epoch,validation_split=0.1,verbose=2)"
      ],
      "execution_count": 20,
      "outputs": [
        {
          "output_type": "stream",
          "text": [
            "Epoch 1/50\n",
            "3180/3180 - 47s - loss: 0.0028 - mse: 0.0028 - mae: 0.0141 - val_loss: 4.6518e-04 - val_mse: 4.6518e-04 - val_mae: 0.0096\n",
            "Epoch 2/50\n",
            "3180/3180 - 45s - loss: 1.6539e-04 - mse: 1.6539e-04 - mae: 0.0047 - val_loss: 2.2112e-04 - val_mse: 2.2112e-04 - val_mae: 0.0069\n",
            "Epoch 3/50\n",
            "3180/3180 - 45s - loss: 9.7945e-05 - mse: 9.7945e-05 - mae: 0.0037 - val_loss: 1.4679e-04 - val_mse: 1.4679e-04 - val_mae: 0.0054\n",
            "Epoch 4/50\n",
            "3180/3180 - 44s - loss: 6.7629e-05 - mse: 6.7629e-05 - mae: 0.0031 - val_loss: 9.8047e-05 - val_mse: 9.8047e-05 - val_mae: 0.0047\n",
            "Epoch 5/50\n",
            "3180/3180 - 44s - loss: 5.2252e-05 - mse: 5.2252e-05 - mae: 0.0027 - val_loss: 1.2836e-04 - val_mse: 1.2836e-04 - val_mae: 0.0050\n",
            "Epoch 6/50\n",
            "3180/3180 - 44s - loss: 4.2745e-05 - mse: 4.2745e-05 - mae: 0.0025 - val_loss: 1.2782e-04 - val_mse: 1.2782e-04 - val_mae: 0.0053\n",
            "Epoch 7/50\n",
            "3180/3180 - 44s - loss: 3.6184e-05 - mse: 3.6184e-05 - mae: 0.0023 - val_loss: 7.0983e-05 - val_mse: 7.0983e-05 - val_mae: 0.0038\n",
            "Epoch 8/50\n",
            "3180/3180 - 44s - loss: 3.1318e-05 - mse: 3.1318e-05 - mae: 0.0021 - val_loss: 6.8186e-05 - val_mse: 6.8186e-05 - val_mae: 0.0038\n",
            "Epoch 9/50\n",
            "3180/3180 - 45s - loss: 2.7730e-05 - mse: 2.7730e-05 - mae: 0.0020 - val_loss: 6.5864e-05 - val_mse: 6.5864e-05 - val_mae: 0.0037\n",
            "Epoch 10/50\n",
            "3180/3180 - 45s - loss: 2.4581e-05 - mse: 2.4581e-05 - mae: 0.0019 - val_loss: 6.2585e-05 - val_mse: 6.2585e-05 - val_mae: 0.0037\n",
            "Epoch 11/50\n",
            "3180/3180 - 45s - loss: 2.2146e-05 - mse: 2.2146e-05 - mae: 0.0018 - val_loss: 5.1766e-05 - val_mse: 5.1766e-05 - val_mae: 0.0034\n",
            "Epoch 12/50\n",
            "3180/3180 - 45s - loss: 2.0033e-05 - mse: 2.0033e-05 - mae: 0.0017 - val_loss: 6.5636e-05 - val_mse: 6.5636e-05 - val_mae: 0.0038\n",
            "Epoch 13/50\n",
            "3180/3180 - 46s - loss: 1.8291e-05 - mse: 1.8291e-05 - mae: 0.0017 - val_loss: 6.3003e-05 - val_mse: 6.3003e-05 - val_mae: 0.0038\n",
            "Epoch 14/50\n",
            "3180/3180 - 46s - loss: 1.6650e-05 - mse: 1.6650e-05 - mae: 0.0016 - val_loss: 4.5780e-05 - val_mse: 4.5780e-05 - val_mae: 0.0032\n",
            "Epoch 15/50\n",
            "3180/3180 - 45s - loss: 1.5403e-05 - mse: 1.5403e-05 - mae: 0.0015 - val_loss: 4.7466e-05 - val_mse: 4.7466e-05 - val_mae: 0.0031\n",
            "Epoch 16/50\n",
            "3180/3180 - 45s - loss: 1.4166e-05 - mse: 1.4166e-05 - mae: 0.0015 - val_loss: 4.7082e-05 - val_mse: 4.7082e-05 - val_mae: 0.0032\n",
            "Epoch 17/50\n",
            "3180/3180 - 45s - loss: 1.3100e-05 - mse: 1.3100e-05 - mae: 0.0014 - val_loss: 4.8869e-05 - val_mse: 4.8869e-05 - val_mae: 0.0032\n",
            "Epoch 18/50\n",
            "3180/3180 - 45s - loss: 1.2213e-05 - mse: 1.2213e-05 - mae: 0.0014 - val_loss: 4.2739e-05 - val_mse: 4.2739e-05 - val_mae: 0.0030\n",
            "Epoch 19/50\n",
            "3180/3180 - 45s - loss: 1.1280e-05 - mse: 1.1280e-05 - mae: 0.0013 - val_loss: 4.4957e-05 - val_mse: 4.4957e-05 - val_mae: 0.0031\n",
            "Epoch 20/50\n",
            "3180/3180 - 45s - loss: 1.0557e-05 - mse: 1.0557e-05 - mae: 0.0013 - val_loss: 4.4770e-05 - val_mse: 4.4770e-05 - val_mae: 0.0031\n",
            "Epoch 21/50\n",
            "3180/3180 - 45s - loss: 9.9178e-06 - mse: 9.9178e-06 - mae: 0.0013 - val_loss: 3.6734e-05 - val_mse: 3.6734e-05 - val_mae: 0.0028\n",
            "Epoch 22/50\n",
            "3180/3180 - 45s - loss: 9.3134e-06 - mse: 9.3134e-06 - mae: 0.0012 - val_loss: 4.1703e-05 - val_mse: 4.1703e-05 - val_mae: 0.0030\n",
            "Epoch 23/50\n",
            "3180/3180 - 45s - loss: 8.7898e-06 - mse: 8.7898e-06 - mae: 0.0012 - val_loss: 3.7451e-05 - val_mse: 3.7451e-05 - val_mae: 0.0029\n",
            "Epoch 24/50\n",
            "3180/3180 - 45s - loss: 8.2727e-06 - mse: 8.2727e-06 - mae: 0.0012 - val_loss: 3.6294e-05 - val_mse: 3.6294e-05 - val_mae: 0.0028\n",
            "Epoch 25/50\n",
            "3180/3180 - 45s - loss: 7.8583e-06 - mse: 7.8583e-06 - mae: 0.0011 - val_loss: 3.2146e-05 - val_mse: 3.2146e-05 - val_mae: 0.0026\n",
            "Epoch 26/50\n",
            "3180/3180 - 45s - loss: 7.4827e-06 - mse: 7.4827e-06 - mae: 0.0011 - val_loss: 3.5177e-05 - val_mse: 3.5177e-05 - val_mae: 0.0027\n",
            "Epoch 27/50\n",
            "3180/3180 - 45s - loss: 7.0932e-06 - mse: 7.0932e-06 - mae: 0.0011 - val_loss: 3.0192e-05 - val_mse: 3.0192e-05 - val_mae: 0.0026\n",
            "Epoch 28/50\n",
            "3180/3180 - 45s - loss: 6.7631e-06 - mse: 6.7631e-06 - mae: 0.0011 - val_loss: 3.0972e-05 - val_mse: 3.0972e-05 - val_mae: 0.0026\n",
            "Epoch 29/50\n",
            "3180/3180 - 46s - loss: 6.4839e-06 - mse: 6.4839e-06 - mae: 0.0010 - val_loss: 3.2934e-05 - val_mse: 3.2934e-05 - val_mae: 0.0026\n",
            "Epoch 30/50\n",
            "3180/3180 - 46s - loss: 6.2153e-06 - mse: 6.2153e-06 - mae: 0.0010 - val_loss: 4.2407e-05 - val_mse: 4.2407e-05 - val_mae: 0.0031\n",
            "Epoch 31/50\n",
            "3180/3180 - 45s - loss: 5.9607e-06 - mse: 5.9607e-06 - mae: 9.9275e-04 - val_loss: 3.1561e-05 - val_mse: 3.1561e-05 - val_mae: 0.0026\n",
            "Epoch 32/50\n",
            "3180/3180 - 46s - loss: 5.7358e-06 - mse: 5.7358e-06 - mae: 9.7525e-04 - val_loss: 3.4802e-05 - val_mse: 3.4802e-05 - val_mae: 0.0028\n",
            "Epoch 33/50\n",
            "3180/3180 - 45s - loss: 5.5116e-06 - mse: 5.5116e-06 - mae: 9.5472e-04 - val_loss: 2.8762e-05 - val_mse: 2.8762e-05 - val_mae: 0.0025\n",
            "Epoch 34/50\n",
            "3180/3180 - 46s - loss: 5.3504e-06 - mse: 5.3504e-06 - mae: 9.4049e-04 - val_loss: 2.9925e-05 - val_mse: 2.9925e-05 - val_mae: 0.0025\n",
            "Epoch 35/50\n",
            "3180/3180 - 46s - loss: 5.1363e-06 - mse: 5.1363e-06 - mae: 9.2236e-04 - val_loss: 3.0593e-05 - val_mse: 3.0593e-05 - val_mae: 0.0025\n",
            "Epoch 36/50\n",
            "3180/3180 - 46s - loss: 4.9594e-06 - mse: 4.9594e-06 - mae: 9.0566e-04 - val_loss: 2.9808e-05 - val_mse: 2.9808e-05 - val_mae: 0.0025\n",
            "Epoch 37/50\n",
            "3180/3180 - 45s - loss: 4.8005e-06 - mse: 4.8005e-06 - mae: 8.9154e-04 - val_loss: 4.3120e-05 - val_mse: 4.3120e-05 - val_mae: 0.0027\n",
            "Epoch 38/50\n",
            "3180/3180 - 45s - loss: 4.6476e-06 - mse: 4.6476e-06 - mae: 8.7647e-04 - val_loss: 2.8623e-05 - val_mse: 2.8623e-05 - val_mae: 0.0024\n",
            "Epoch 39/50\n",
            "3180/3180 - 45s - loss: 4.5068e-06 - mse: 4.5068e-06 - mae: 8.6466e-04 - val_loss: 3.4088e-05 - val_mse: 3.4088e-05 - val_mae: 0.0026\n",
            "Epoch 40/50\n",
            "3180/3180 - 46s - loss: 4.3769e-06 - mse: 4.3769e-06 - mae: 8.4937e-04 - val_loss: 2.8034e-05 - val_mse: 2.8034e-05 - val_mae: 0.0024\n",
            "Epoch 41/50\n",
            "3180/3180 - 46s - loss: 4.2531e-06 - mse: 4.2531e-06 - mae: 8.3892e-04 - val_loss: 2.8140e-05 - val_mse: 2.8140e-05 - val_mae: 0.0024\n",
            "Epoch 42/50\n",
            "3180/3180 - 45s - loss: 4.1285e-06 - mse: 4.1285e-06 - mae: 8.2674e-04 - val_loss: 3.5300e-05 - val_mse: 3.5300e-05 - val_mae: 0.0027\n",
            "Epoch 43/50\n",
            "3180/3180 - 46s - loss: 4.0237e-06 - mse: 4.0237e-06 - mae: 8.1664e-04 - val_loss: 2.9299e-05 - val_mse: 2.9299e-05 - val_mae: 0.0023\n",
            "Epoch 44/50\n",
            "3180/3180 - 45s - loss: 3.9145e-06 - mse: 3.9145e-06 - mae: 8.0475e-04 - val_loss: 3.1445e-05 - val_mse: 3.1445e-05 - val_mae: 0.0024\n",
            "Epoch 45/50\n",
            "3180/3180 - 45s - loss: 3.8077e-06 - mse: 3.8077e-06 - mae: 7.9260e-04 - val_loss: 3.0381e-05 - val_mse: 3.0381e-05 - val_mae: 0.0025\n",
            "Epoch 46/50\n",
            "3180/3180 - 45s - loss: 3.7035e-06 - mse: 3.7035e-06 - mae: 7.8422e-04 - val_loss: 3.0460e-05 - val_mse: 3.0460e-05 - val_mae: 0.0025\n",
            "Epoch 47/50\n",
            "3180/3180 - 45s - loss: 3.6241e-06 - mse: 3.6241e-06 - mae: 7.7374e-04 - val_loss: 2.9225e-05 - val_mse: 2.9225e-05 - val_mae: 0.0024\n",
            "Epoch 48/50\n",
            "3180/3180 - 45s - loss: 3.5191e-06 - mse: 3.5191e-06 - mae: 7.6458e-04 - val_loss: 3.0172e-05 - val_mse: 3.0172e-05 - val_mae: 0.0024\n",
            "Epoch 49/50\n",
            "3180/3180 - 45s - loss: 3.4322e-06 - mse: 3.4322e-06 - mae: 7.5383e-04 - val_loss: 3.0112e-05 - val_mse: 3.0112e-05 - val_mae: 0.0024\n",
            "Epoch 50/50\n",
            "3180/3180 - 46s - loss: 3.3496e-06 - mse: 3.3496e-06 - mae: 7.4525e-04 - val_loss: 2.9758e-05 - val_mse: 2.9758e-05 - val_mae: 0.0024\n"
          ],
          "name": "stdout"
        }
      ]
    },
    {
      "cell_type": "code",
      "metadata": {
        "colab": {
          "base_uri": "https://localhost:8080/",
          "height": 278
        },
        "id": "cx6YnLe19PAs",
        "outputId": "f3444788-9774-47f4-f6bb-e15d7be68ad7"
      },
      "source": [
        "plt.figure()\n",
        "plt.xlabel('Epoch')\n",
        "plt.plot(history.epoch, np.array(history.history['loss']),label='Train Loss')\n",
        "plt.plot(history.epoch, np.array(history.history['val_loss']),label = 'Val loss')\n",
        "plt.legend()\n",
        "plt.show()"
      ],
      "execution_count": 21,
      "outputs": [
        {
          "output_type": "display_data",
          "data": {
            "image/png": "[encoded data removed]",
            "text/plain": [
              "<Figure size 432x288 with 1 Axes>"
            ]
          },
          "metadata": {
            "tags": [],
            "needs_background": "light"
          }
        }
      ]
    },
    {
      "cell_type": "code",
      "metadata": {
        "id": "yWEnuwniUX0z"
      },
      "source": [
        "model.save('/content/drive/MyDrive/NatMI_MMFwRNN/Data/SC_Pro_Data2/evo.h5')"
      ],
      "execution_count": 22,
      "outputs": []
    },
    {
      "cell_type": "code",
      "metadata": {
        "colab": {
          "base_uri": "https://localhost:8080/"
        },
        "id": "w40S6QCwUzzk",
        "outputId": "f39ff2f7-0375-4a41-93d9-abe3570e978b"
      },
      "source": [
        "print(\"TESTING STEP-WISE...\")\n",
        "Y_submit = model.predict_proba(X_test)"
      ],
      "execution_count": 23,
      "outputs": [
        {
          "output_type": "stream",
          "text": [
            "TESTING STEP-WISE...\n"
          ],
          "name": "stdout"
        },
        {
          "output_type": "stream",
          "text": [
            "/usr/local/lib/python3.6/dist-packages/tensorflow/python/keras/engine/sequential.py:425: UserWarning: `model.predict_proba()` is deprecated and will be removed after 2021-01-01. Please use `model.predict()` instead.\n",
            "  warnings.warn('`model.predict_proba()` is deprecated and '\n"
          ],
          "name": "stderr"
        }
      ]
    },
    {
      "cell_type": "code",
      "metadata": {
        "colab": {
          "base_uri": "https://localhost:8080/"
        },
        "id": "Q6_nYhtcU69T",
        "outputId": "6ca96552-5087-4c90-f833-8429afbf6926"
      },
      "source": [
        "Y_submit.shape"
      ],
      "execution_count": 24,
      "outputs": [
        {
          "output_type": "execute_result",
          "data": {
            "text/plain": [
              "(5950, 191)"
            ]
          },
          "metadata": {
            "tags": []
          },
          "execution_count": 24
        }
      ]
    },
    {
      "cell_type": "code",
      "metadata": {
        "id": "ZAkJp9X6U8Iv"
      },
      "source": [
        "sio.savemat('/content/drive/MyDrive/NatMI_MMFwRNN/Data/SC_Pro_Data2/test_results.mat', {'Y_submit':Y_submit, 'Y_test':Y_test, 'steps':steps,'window_size':window_size})"
      ],
      "execution_count": 25,
      "outputs": []
    },
    {
      "cell_type": "code",
      "metadata": {
        "id": "xDdwMHT1Wfec"
      },
      "source": [
        "def pred_evo(model, X_test, test_evo, steps, window_size, i_x):\n",
        "    \"\"\"\n",
        "    Predict evolution from a given input step. The input is 'window_size' times\n",
        "    the given input.\n",
        "\n",
        "    Parameters\n",
        "    ----------\n",
        "    model : Keras model\n",
        "    X_test: : test data, size (samples, window_size, i_x)\n",
        "    test_evo : number of test evolutions as integer\n",
        "    steps : steps as integer\n",
        "    window_size : RNN window size as integer\n",
        "    i_x : number of grid points (spectral/temporal) as integer\n",
        "\n",
        "    Returns\n",
        "    -------\n",
        "    Y_submit : results matrix, size (samples, i_x)\n",
        "    \"\"\"\n",
        "\n",
        "    # Make the time series\n",
        "    evo_size = steps - 1\n",
        "    Y_submit = np.zeros((test_evo, evo_size, i_x))\n",
        "    test_data = X_test[::evo_size,:,:]  # select fiber input profiles\n",
        "\n",
        "    for step in range(evo_size):\n",
        "        test_result = model.predict_proba(test_data)\n",
        "        Y_submit[:,step,:] = test_result\n",
        "        test_result = np.expand_dims(test_result, axis=1)\n",
        "        test_data = np.concatenate((test_data,test_result), axis=1)\n",
        "        test_data = test_data[:, 1:, :]\n",
        "\n",
        "    # reshape to the original dimensions\n",
        "    Y_submit = np.reshape(Y_submit,(evo_size*test_evo, i_x))\n",
        "\n",
        "    return Y_submit"
      ],
      "execution_count": 26,
      "outputs": []
    },
    {
      "cell_type": "code",
      "metadata": {
        "colab": {
          "base_uri": "https://localhost:8080/"
        },
        "id": "qP__0c-CVZ14",
        "outputId": "af141a3d-1e2c-4b8a-c3de-098bc76d469a"
      },
      "source": [
        "Y_submit = pred_evo(model, X_test, test_evo, steps, window_size, i_x)"
      ],
      "execution_count": 27,
      "outputs": [
        {
          "output_type": "stream",
          "text": [
            "/usr/local/lib/python3.6/dist-packages/tensorflow/python/keras/engine/sequential.py:425: UserWarning: `model.predict_proba()` is deprecated and will be removed after 2021-01-01. Please use `model.predict()` instead.\n",
            "  warnings.warn('`model.predict_proba()` is deprecated and '\n"
          ],
          "name": "stderr"
        }
      ]
    },
    {
      "cell_type": "code",
      "metadata": {
        "id": "m0lfV55039JH",
        "colab": {
          "base_uri": "https://localhost:8080/"
        },
        "outputId": "79f840de-1af4-4446-e36a-9ca1e7c93718"
      },
      "source": [
        "Y_submit.shape"
      ],
      "execution_count": 28,
      "outputs": [
        {
          "output_type": "execute_result",
          "data": {
            "text/plain": [
              "(5950, 191)"
            ]
          },
          "metadata": {
            "tags": []
          },
          "execution_count": 28
        }
      ]
    },
    {
      "cell_type": "code",
      "metadata": {
        "id": "ktYVYx4qVcdu"
      },
      "source": [
        "sio.savemat('/content/drive/MyDrive/NatMI_MMFwRNN/Data/SC_Pro_Data2/full_test_results.mat', {'Y_submit':Y_submit, 'Y_test':Y_test, 'steps':steps,'window_size':window_size})"
      ],
      "execution_count": 29,
      "outputs": []
    }
  ]
}