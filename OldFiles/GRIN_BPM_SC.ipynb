{
  "nbformat": 4,
  "nbformat_minor": 0,
  "metadata": {
    "colab": {
      "name": "GRIN_BPM_STI.ipynb",
      "provenance": [],
      "collapsed_sections": [],
      "machine_shape": "hm",
      "include_colab_link": true
    },
    "kernelspec": {
      "name": "python3",
      "display_name": "Python 3"
    },
    "accelerator": "GPU"
  },
  "cells": [
    {
      "cell_type": "markdown",
      "metadata": {
        "id": "view-in-github",
        "colab_type": "text"
      },
      "source": [
        "<a href=\"https://colab.research.google.com/github/ugurtegin/MMF_RNN_Reuse/blob/main/GRIN_BPM_SC.ipynb\" target=\"_parent\"><img src=\"https://colab.research.google.com/assets/colab-badge.svg\" alt=\"Open In Colab\"/></a>"
      ]
    },
    {
      "cell_type": "markdown",
      "metadata": {
        "id": "vPDlJmsvdDTQ"
      },
      "source": [
        "\n",
        "# Load Libraries\n"
      ]
    },
    {
      "cell_type": "code",
      "metadata": {
        "id": "OjRM_HbsHrKw",
        "colab": {
          "base_uri": "https://localhost:8080/"
        },
        "outputId": "8337c3ea-5fd6-4ad8-e90d-99e35c647fb2"
      },
      "source": [
        "from google.colab import drive\n",
        "\n",
        "import numpy as np\n",
        "import cupy as cp\n",
        "import matplotlib.pyplot as plt\n",
        "import scipy.io as sio\n",
        "import time\n",
        "\n",
        "# This will prompt for authorization.\n",
        "drive.mount('/content/drive')"
      ],
      "execution_count": 1,
      "outputs": [
        {
          "output_type": "stream",
          "text": [
            "Mounted at /content/drive\n"
          ],
          "name": "stdout"
        }
      ]
    },
    {
      "cell_type": "markdown",
      "metadata": {
        "id": "CYZ9A7qn-1Ve"
      },
      "source": [
        "# Super Gaussian for boundary"
      ]
    },
    {
      "cell_type": "code",
      "metadata": {
        "id": "n8GIPxbAhOwh",
        "colab": {
          "base_uri": "https://localhost:8080/",
          "height": 530
        },
        "outputId": "19ee4ac8-c1d2-4bf4-9ea3-fd62d476b7ee"
      },
      "source": [
        "def gaus2d(x=0, y=0, mx=0, my=0, sx=1, sy=1,p=60,w=26.5e-6):\n",
        "  \"\"\"define normalized 2D gaussian\"\"\"\n",
        "\n",
        "  return np.exp(-2*((np.sqrt(x**2+y**2)/w)**p))\n",
        "\n",
        "spacewidth=54.1442e-6\n",
        "\n",
        "xres=54.1442e-6/64\n",
        "x = np.linspace(-spacewidth*0.5,spacewidth*0.5,int(spacewidth/xres))\n",
        "\n",
        "x1, y1 = np.meshgrid(x, x) # get 2D variables instead of 1D\n",
        "z = gaus2d(x1, y1)\n",
        "\n",
        "# plt.imshow(z)\n",
        "# plt.colorbar()\n",
        "\n",
        "plt.plot(x,z[32,:])\n",
        "plt.grid()\n",
        "plt.xlim((-27.0721e-6,25e-6))\n",
        "plt.show()\n",
        "\n",
        "cp_super_gauss2d =cp.asarray(z)\n",
        "cp_super_gauss2d = cp.repeat(cp_super_gauss2d[:,:,cp.newaxis], 2**10, axis=2)\n",
        "\n",
        "plt.imshow(z)\n",
        "plt.colorbar()\n",
        "plt.show()\n",
        "\n"
      ],
      "execution_count": 4,
      "outputs": [
        {
          "output_type": "display_data",
          "data": {
            "image/png": "[encoded data removed]",
            "text/plain": [
              "<Figure size 432x288 with 1 Axes>"
            ]
          },
          "metadata": {
            "tags": [],
            "needs_background": "light"
          }
        },
        {
          "output_type": "display_data",
          "data": {
            "image/png": "[encoded data removed]",
            "text/plain": [
              "<Figure size 432x288 with 2 Axes>"
            ]
          },
          "metadata": {
            "tags": [],
            "needs_background": "light"
          }
        }
      ]
    },
    {
      "cell_type": "code",
      "metadata": {
        "id": "egj9ypiTpacA"
      },
      "source": [
        "def average(arr, n):\r\n",
        "    end =  n * int(len(arr)/n)\r\n",
        "    return np.mean(arr[:end].reshape(-1, n), 1)"
      ],
      "execution_count": 5,
      "outputs": []
    },
    {
      "cell_type": "markdown",
      "metadata": {
        "id": "wWtg6GYmHTOr"
      },
      "source": [
        "# BPM \n"
      ]
    },
    {
      "cell_type": "code",
      "metadata": {
        "id": "4hb2j8ukHVD2",
        "colab": {
          "base_uri": "https://localhost:8080/"
        },
        "outputId": "35ad9d9e-2aa0-4337-c5d8-73ea9c245afc"
      },
      "source": [
        "tt = time.time()\n",
        "c = 299792458 # [m/s]\n",
        "n0 = 1.45                   # Refractive index of medium (1.44 for 1550 nm, 1.45 for 1030 nm)\n",
        "lambda_c = 1030e-9          # Central wavelength of the input pulse in [m]\n",
        "\n",
        "## TIME SPACE DOMAIN\n",
        "timewidth = 1.8e-12          # Width of the time window in [s]\n",
        "tres = timewidth/((2**10))\n",
        "t = cp.arange(-timewidth*0.5,(timewidth*0.5),tres)\n",
        "#t = -timewidth*0.5:tres:timewidth*0.5 # Time in [s]\n",
        "timesteps=len(t)\n",
        "\n",
        "spacewidth=54.1442e-6\n",
        "xres = spacewidth/((2**6))\n",
        "#x = -spacewidth*0.5:xres:spacewidth*0.5 # Time in [s]\n",
        "x = cp.arange(-spacewidth*0.5,(spacewidth*0.5),xres)\n",
        "xsteps=len(x)\n",
        "y = x\n",
        "[X,Y,T] = cp.meshgrid(x,y,t)\n",
        "\n",
        "## FOURIER DOMAIN\n",
        "fs=1/timewidth\n",
        "freq = c/lambda_c+fs*cp.linspace(-timesteps/2,timesteps/2,num = timesteps)\n",
        "#freq=c/lambda_c+fs*linspace(-(timesteps-1)/2,(timesteps-1)/2,timesteps) # [Hz]\n",
        "wave=c/freq # [m]\n",
        "w=2*cp.pi*c/lambda_c # [Hz]\n",
        "omegas=2*cp.pi*freq\n",
        "wt = omegas-w\n",
        "\n",
        "#kx = 2*pi/xsteps/xres*x;\n",
        "#kx = 2*pi/xres*x;\n",
        "\n",
        "#CHECK KX\n",
        "a = cp.pi/xres  # grid points in \"frequency\" domain--> {2*pi*(points/mm)}\n",
        "N = len(x)\n",
        "zbam = cp.arange(-a,(a-2*a/N)+(2*a/N),2*a/N)\n",
        "kx = cp.transpose(zbam) # \"frequency\" domain indexing ky = kx; \n",
        "ky = kx\n",
        "[KX,KY,WT] = cp.meshgrid(kx,ky,wt);\n",
        "\n",
        "## OPERATORS\n",
        "k0 = w*n0/c\n",
        "n2 = 3.2e-20       #Kerr coefficient (m^2/W)\n",
        "R = 25e-6\n",
        "beta2 = 24.8e-27\n",
        "beta3 = 23.3e-42\n",
        "gamma = (2*cp.pi*n2/(lambda_c))\n",
        "delta = 0.01\n",
        "NL1 = -1j*((k0*delta)/(R*R))*((X**2)+(Y**2))\n",
        "\n",
        "D1 = (0.5*1j/k0)*((-1j*(KX))**2+(-1j*(KY))**2)\n",
        "D2 = ((-0.5*1j*beta2)*(-1j*(WT))**2)+((beta3/6)*(-1j*(WT))**3)\n",
        "D = D1 + D2\n",
        "s_imgper = (cp.pi*R)/cp.sqrt(2*delta)\n",
        "dz = s_imgper/16\n",
        "DFR = cp.exp(D*dz/2)\n",
        "\n",
        "## INPUT \n",
        "flength = s_imgper*20\n",
        "fstep = flength/dz\n",
        "x_fwhm = 25e-6\n",
        "t_fwhm = 100e-15\n",
        "#Ppeak = 25e6 # W\n",
        "Ppeak = cp.linspace(5e6, 25e6, num=1000)\n",
        "\n",
        "data_t=np.zeros((320,256))\n",
        "data_w=np.zeros((320,256))\n",
        "\n",
        "for musti in range(1000):\n",
        "  A = cp.sqrt(Ppeak[musti]/(cp.pi*x_fwhm*x_fwhm))*cp.exp( - ((X**2)/(2*(x_fwhm/2.35482)**2)+ (Y**2)/(2*(x_fwhm/2.35482)**2) + (T**2)/(2*(t_fwhm/2.35482)**2)));\n",
        "  ### MAIN FUNCTION\n",
        "  Ain = A\n",
        "  #Asave = cp.zeros((sampesize,64,64,1024), dtype=complex)\n",
        "\n",
        "\n",
        "  for ugur in range(int(fstep)):\n",
        "      #print((ugur*dz)+dz)\n",
        "      Einf=cp.fft.fftshift(cp.fft.fftn(Ain));\n",
        "      Ein2=cp.fft.ifftn(cp.fft.ifftshift(Einf*DFR));\n",
        "      Eout = Ein2;\n",
        "      \n",
        "      NL2 = 1j*gamma*cp.abs(Eout)**2;\n",
        "      NL = NL1+NL2;\n",
        "      Eout = Eout*cp.exp(NL*dz);\n",
        "      \n",
        "      Einf=cp.fft.fftshift(cp.fft.fftn(Eout));\n",
        "      Ein2=cp.fft.ifftn(cp.fft.ifftshift(Einf*DFR));\n",
        "      #Ain = Ein2;\n",
        "      Ain =cp.multiply(cp_super_gauss2d,Ein2);\n",
        "      \n",
        "      Ain_cpu=Ain\n",
        "\n",
        "      Ain_cpu_t=cp.square(cp.abs(Ain_cpu))\n",
        "      Ain_cpu_temp=cp.fft.fftshift(cp.fft.fftn(Ain_cpu))\n",
        "      Ain_cpu_w=cp.square(cp.abs(Ain_cpu_temp))\n",
        "\n",
        "      st =cp.squeeze(cp.sum(cp.squeeze(cp.sum(Ain_cpu_t,axis=0)),axis=0)) \n",
        "      sw =cp.squeeze(cp.sum(cp.squeeze(cp.sum(Ain_cpu_w,axis=0)),axis=0)) \n",
        "\n",
        "      st_down=average(st.get(),4)\n",
        "      sw_down=average(sw.get(),4)\n",
        "\n",
        "      data_t[ugur,:]=st_down\n",
        "      data_w[ugur,:]=sw_down\n",
        "\n",
        "  sio.savemat('/content/drive/MyDrive/NatMI_MMFwRNN/Data/SC_04Jan_Time/data_t'+str(musti)+'.mat', {'data_t':data_t})\n",
        "  sio.savemat('/content/drive/MyDrive/NatMI_MMFwRNN/Data/SC_04Jan_Wave/data_w'+str(musti)+'.mat', {'data_w':data_w}) \n",
        "\n",
        "\n",
        "elapsed = time.time() - tt\n",
        "print(elapsed)"
      ],
      "execution_count": 63,
      "outputs": [
        {
          "output_type": "stream",
          "text": [
            "2.7568113803863525\n"
          ],
          "name": "stdout"
        }
      ]
    },
    {
      "cell_type": "code",
      "metadata": {
        "id": "WlQG9yxTVw0v",
        "outputId": "d32f4880-6928-4b17-a76d-32f0bc7cbd42",
        "colab": {
          "base_uri": "https://localhost:8080/",
          "height": 269
        }
      },
      "source": [
        "plt.imshow(10*np.log10(data_w))\n",
        "plt.colorbar()\n",
        "plt.clim(195,245)  # identical to caxis([-4,4]) in MATLAB\n",
        "plt.show()"
      ],
      "execution_count": 64,
      "outputs": [
        {
          "output_type": "display_data",
          "data": {
            "image/png": "[encoded data removed]",
            "text/plain": [
              "<Figure size 432x288 with 2 Axes>"
            ]
          },
          "metadata": {
            "tags": [],
            "needs_background": "light"
          }
        }
      ]
    },
    {
      "cell_type": "code",
      "metadata": {
        "id": "WzV3yMSUWF7C",
        "outputId": "32618ba4-0cb4-40f5-d44f-ee77d4d25d9a",
        "colab": {
          "base_uri": "https://localhost:8080/"
        }
      },
      "source": [
        "data_w.shape"
      ],
      "execution_count": 65,
      "outputs": [
        {
          "output_type": "execute_result",
          "data": {
            "text/plain": [
              "(320, 256)"
            ]
          },
          "metadata": {
            "tags": []
          },
          "execution_count": 65
        }
      ]
    },
    {
      "cell_type": "code",
      "metadata": {
        "id": "mzmnzA0KWbPd"
      },
      "source": [
        "wave_d=average(wave.get(),4)"
      ],
      "execution_count": 66,
      "outputs": []
    },
    {
      "cell_type": "code",
      "metadata": {
        "id": "xhbCXiNiWJ2C",
        "outputId": "d88a436e-4b0a-4a95-f24a-81897cb8d81e",
        "colab": {
          "base_uri": "https://localhost:8080/",
          "height": 265
        }
      },
      "source": [
        "plt.plot(wave_d*1e9,10*np.log10(data_w[319,]))\n",
        "plt.xlim([600, 2000])\n",
        "plt.ylim([195, 245])\n",
        "plt.show()"
      ],
      "execution_count": 67,
      "outputs": [
        {
          "output_type": "display_data",
          "data": {
            "image/png": "[encoded data removed]",
            "text/plain": [
              "<Figure size 432x288 with 1 Axes>"
            ]
          },
          "metadata": {
            "tags": [],
            "needs_background": "light"
          }
        }
      ]
    },
    {
      "cell_type": "code",
      "metadata": {
        "id": "bXP34Fq5WOQC"
      },
      "source": [
        ""
      ],
      "execution_count": null,
      "outputs": []
    }
  ]
}