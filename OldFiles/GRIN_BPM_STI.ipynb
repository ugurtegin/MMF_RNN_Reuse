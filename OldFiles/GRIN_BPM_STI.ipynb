{
  "nbformat": 4,
  "nbformat_minor": 0,
  "metadata": {
    "colab": {
      "name": "GRIN_BPM_STI.ipynb",
      "provenance": [],
      "collapsed_sections": [],
      "machine_shape": "hm",
      "include_colab_link": true
    },
    "kernelspec": {
      "name": "python3",
      "display_name": "Python 3"
    },
    "accelerator": "GPU"
  },
  "cells": [
    {
      "cell_type": "markdown",
      "metadata": {
        "id": "view-in-github",
        "colab_type": "text"
      },
      "source": [
        "<a href=\"https://colab.research.google.com/github/ugurtegin/MMF_RNN_Reuse/blob/main/GRIN_BPM_STI.ipynb\" target=\"_parent\"><img src=\"https://colab.research.google.com/assets/colab-badge.svg\" alt=\"Open In Colab\"/></a>"
      ]
    },
    {
      "cell_type": "markdown",
      "metadata": {
        "id": "vPDlJmsvdDTQ"
      },
      "source": [
        "\n",
        "# Load Libraries\n"
      ]
    },
    {
      "cell_type": "code",
      "metadata": {
        "id": "OjRM_HbsHrKw",
        "colab": {
          "base_uri": "https://localhost:8080/"
        },
        "outputId": "4872c077-d096-4e79-baaf-cdfb94c518ad"
      },
      "source": [
        "from google.colab import drive\n",
        "\n",
        "import numpy as np\n",
        "import cupy as cp\n",
        "import matplotlib.pyplot as plt\n",
        "import scipy.io as sio\n",
        "import time\n",
        "\n",
        "# This will prompt for authorization.\n",
        "drive.mount('/content/drive')"
      ],
      "execution_count": 15,
      "outputs": [
        {
          "output_type": "stream",
          "text": [
            "Drive already mounted at /content/drive; to attempt to forcibly remount, call drive.mount(\"/content/drive\", force_remount=True).\n"
          ],
          "name": "stdout"
        }
      ]
    },
    {
      "cell_type": "markdown",
      "metadata": {
        "id": "CYZ9A7qn-1Ve"
      },
      "source": [
        "# Super Gaussian for boundary"
      ]
    },
    {
      "cell_type": "code",
      "metadata": {
        "id": "n8GIPxbAhOwh",
        "colab": {
          "base_uri": "https://localhost:8080/",
          "height": 530
        },
        "outputId": "ad08e0c1-006e-41a6-c0c2-78dcd07fcdd9"
      },
      "source": [
        "def gaus2d(x=0, y=0, mx=0, my=0, sx=1, sy=1,p=60,w=26.5e-6):\n",
        "  \"\"\"define normalized 2D gaussian\"\"\"\n",
        "\n",
        "  return np.exp(-2*((np.sqrt(x**2+y**2)/w)**p))\n",
        "\n",
        "spacewidth=54.1442e-6\n",
        "\n",
        "xres=54.1442e-6/64\n",
        "x = np.linspace(-spacewidth*0.5,spacewidth*0.5,int(spacewidth/xres))\n",
        "\n",
        "x1, y1 = np.meshgrid(x, x) # get 2D variables instead of 1D\n",
        "z = gaus2d(x1, y1)\n",
        "\n",
        "# plt.imshow(z)\n",
        "# plt.colorbar()\n",
        "\n",
        "plt.plot(x,z[32,:])\n",
        "plt.grid()\n",
        "plt.xlim((-27.0721e-6,25e-6))\n",
        "plt.show()\n",
        "\n",
        "cp_super_gauss2d =cp.asarray(z)\n",
        "cp_super_gauss2d = cp.repeat(cp_super_gauss2d[:,:,cp.newaxis], 2*2048, axis=2)\n",
        "\n",
        "plt.imshow(z)\n",
        "plt.colorbar()\n",
        "plt.show()\n",
        "\n"
      ],
      "execution_count": 16,
      "outputs": [
        {
          "output_type": "display_data",
          "data": {
            "image/png": "[encoded data removed]",
            "text/plain": [
              "<Figure size 432x288 with 1 Axes>"
            ]
          },
          "metadata": {
            "tags": [],
            "needs_background": "light"
          }
        },
        {
          "output_type": "display_data",
          "data": {
            "image/png": "[encoded data removed]",
            "text/plain": [
              "<Figure size 432x288 with 2 Axes>"
            ]
          },
          "metadata": {
            "tags": [],
            "needs_background": "light"
          }
        }
      ]
    },
    {
      "cell_type": "code",
      "metadata": {
        "id": "egj9ypiTpacA"
      },
      "source": [
        "def average(arr, n):\r\n",
        "    end =  n * int(len(arr)/n)\r\n",
        "    return np.mean(arr[:end].reshape(-1, n), 1)"
      ],
      "execution_count": 17,
      "outputs": []
    },
    {
      "cell_type": "markdown",
      "metadata": {
        "id": "wWtg6GYmHTOr"
      },
      "source": [
        "# BPM \n"
      ]
    },
    {
      "cell_type": "code",
      "metadata": {
        "id": "4hb2j8ukHVD2",
        "colab": {
          "base_uri": "https://localhost:8080/"
        },
        "outputId": "dd69bfba-4cfa-4a13-a67f-044cd61617a6"
      },
      "source": [
        "tt = time.time()\n",
        "c = 299792458 # [m/s]\n",
        "n0 = 1.45                   # Refractive index of medium (1.44 for 1550 nm, 1.45 for 1030 nm)\n",
        "lambda_c = 1030e-9          # Central wavelength of the input pulse in [m]\n",
        "\n",
        "## TIME SPACE DOMAIN\n",
        "timewidth = 10e-12          # Width of the time window in [s]\n",
        "tres = timewidth/((2**12))\n",
        "t = cp.arange(-timewidth*0.5,(timewidth*0.5),tres)\n",
        "#t = -timewidth*0.5:tres:timewidth*0.5 # Time in [s]\n",
        "timesteps=len(t)\n",
        "\n",
        "spacewidth=54.1442e-6\n",
        "xres = spacewidth/((2**6))\n",
        "#x = -spacewidth*0.5:xres:spacewidth*0.5 # Time in [s]\n",
        "x = cp.arange(-spacewidth*0.5,(spacewidth*0.5),xres)\n",
        "xsteps=len(x)\n",
        "y = x\n",
        "[X,Y,T] = cp.meshgrid(x,y,t)\n",
        "\n",
        "## FOURIER DOMAIN\n",
        "fs=1/timewidth\n",
        "freq = c/lambda_c+fs*cp.linspace(-timesteps/2,timesteps/2,num = timesteps)\n",
        "#freq=c/lambda_c+fs*linspace(-(timesteps-1)/2,(timesteps-1)/2,timesteps) # [Hz]\n",
        "wave=c/freq # [m]\n",
        "w=2*cp.pi*c/lambda_c # [Hz]\n",
        "omegas=2*cp.pi*freq\n",
        "wt = omegas-w\n",
        "\n",
        "#kx = 2*pi/xsteps/xres*x;\n",
        "#kx = 2*pi/xres*x;\n",
        "\n",
        "#CHECK KX\n",
        "a = cp.pi/xres  # grid points in \"frequency\" domain--> {2*pi*(points/mm)}\n",
        "N = len(x)\n",
        "zbam = cp.arange(-a,(a-2*a/N)+(2*a/N),2*a/N)\n",
        "kx = cp.transpose(zbam) # \"frequency\" domain indexing ky = kx; \n",
        "ky = kx\n",
        "[KX,KY,WT] = cp.meshgrid(kx,ky,wt);\n",
        "\n",
        "## OPERATORS\n",
        "k0 = w*n0/c\n",
        "n2 = 3.2e-20       #Kerr coefficient (m^2/W)\n",
        "R = 25e-6\n",
        "beta2 = 24.8e-27\n",
        "beta3 = 23.3e-42\n",
        "gamma = (2*cp.pi*n2/(lambda_c))\n",
        "delta = 0.01\n",
        "NL1 = -1j*((k0*delta)/(R*R))*((X**2)+(Y**2))\n",
        "\n",
        "D1 = (0.5*1j/k0)*((-1j*(KX))**2+(-1j*(KY))**2)\n",
        "D2 = ((-0.5*1j*beta2)*(-1j*(WT))**2)+((beta3/6)*(-1j*(WT))**3)\n",
        "D = D1 + D2\n",
        "s_imgper = (cp.pi*R)/cp.sqrt(2*delta)\n",
        "dz = s_imgper/16\n",
        "DFR = cp.exp(D*dz/2)\n",
        "\n",
        "## INPUT \n",
        "flength = s_imgper*20\n",
        "fstep = flength/dz\n",
        "x_fwhm = 25e-6\n",
        "t_fwhm = 1e-12\n",
        "#Ppeak = 4e6 # W\n",
        "Ppeak = cp.linspace(0.5e6, 5e6, num=1000)\n",
        "\n",
        "data_t=np.zeros((320,256))\n",
        "data_w=np.zeros((320,256))\n",
        "\n",
        "for musti in range(1000):\n",
        "  A = cp.sqrt(Ppeak[musti]/(cp.pi*x_fwhm*x_fwhm))*cp.exp( - ((X**2)/(2*(x_fwhm/2.35482)**2)+ (Y**2)/(2*(x_fwhm/2.35482)**2) + (T**2)/(2*(t_fwhm/2.35482)**2)));\n",
        "  ### MAIN FUNCTION\n",
        "  Ain = A\n",
        "  #Asave = cp.zeros((sampesize,64,64,1024), dtype=complex)\n",
        "\n",
        "\n",
        "  for ugur in range(int(fstep)):\n",
        "      #print((ugur*dz)+dz)\n",
        "      Einf=cp.fft.fftshift(cp.fft.fftn(Ain));\n",
        "      Ein2=cp.fft.ifftn(cp.fft.ifftshift(Einf*DFR));\n",
        "      Eout = Ein2;\n",
        "      \n",
        "      NL2 = 1j*gamma*cp.abs(Eout)**2;\n",
        "      NL = NL1+NL2;\n",
        "      Eout = Eout*cp.exp(NL*dz);\n",
        "      \n",
        "      Einf=cp.fft.fftshift(cp.fft.fftn(Eout));\n",
        "      Ein2=cp.fft.ifftn(cp.fft.ifftshift(Einf*DFR));\n",
        "      #Ain = Ein2;\n",
        "      Ain =cp.multiply(cp_super_gauss2d,Ein2);\n",
        "      \n",
        "      Ain_cpu=Ain\n",
        "\n",
        "      Ain_cpu_t=cp.square(cp.abs(Ain_cpu))\n",
        "      Ain_cpu_temp=cp.fft.fftshift(cp.fft.fftn(Ain_cpu))\n",
        "      Ain_cpu_w=cp.square(cp.abs(Ain_cpu_temp))\n",
        "\n",
        "      st =cp.squeeze(cp.sum(cp.squeeze(cp.sum(Ain_cpu_t,axis=0)),axis=0)) \n",
        "      sw =cp.squeeze(cp.sum(cp.squeeze(cp.sum(Ain_cpu_w,axis=0)),axis=0)) \n",
        "\n",
        "      st_down=average(st.get(),16)\n",
        "      sw_down=average(sw.get(),16)\n",
        "\n",
        "      data_t[ugur,:]=st_down\n",
        "      data_w[ugur,:]=sw_down\n",
        "\n",
        "  sio.savemat('/content/drive/MyDrive/NatMI_MMFwRNN/Data/STI_28Dec_Time/data_t'+str(musti)+'.mat', {'data_t':data_t})\n",
        "  sio.savemat('/content/drive/MyDrive/NatMI_MMFwRNN/Data/STI_28Dec_Wave/data_w'+str(musti)+'.mat', {'data_w':data_w}) \n",
        "\n",
        "\n",
        "elapsed = time.time() - tt\n",
        "print(elapsed)"
      ],
      "execution_count": 19,
      "outputs": [
        {
          "output_type": "stream",
          "text": [
            "30.915260314941406\n"
          ],
          "name": "stdout"
        }
      ]
    }
  ]
}