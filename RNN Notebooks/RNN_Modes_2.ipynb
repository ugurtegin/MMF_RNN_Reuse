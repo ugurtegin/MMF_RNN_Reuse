{
  "nbformat": 4,
  "nbformat_minor": 0,
  "metadata": {
    "colab": {
      "name": "SC2_v2_RNN.ipynb",
      "provenance": [],
      "machine_shape": "hm"
    },
    "kernelspec": {
      "name": "python3",
      "display_name": "Python 3"
    },
    "accelerator": "GPU"
  },
  "cells": [
    {
      "cell_type": "code",
      "metadata": {
        "colab": {
          "base_uri": "https://localhost:8080/"
        },
        "id": "z31J9DFw6eG_",
        "outputId": "d8b24837-da94-4110-afee-8428a57399e3"
      },
      "source": [
        "from google.colab import drive\n",
        "\n",
        "import numpy as np\n",
        "import matplotlib.pyplot as plt\n",
        "import scipy.io as sio\n",
        "\n",
        "# This will prompt for authorization.\n",
        "drive.mount('/content/drive')"
      ],
      "execution_count": 1,
      "outputs": [
        {
          "output_type": "stream",
          "text": [
            "Drive already mounted at /content/drive; to attempt to forcibly remount, call drive.mount(\"/content/drive\", force_remount=True).\n"
          ],
          "name": "stdout"
        }
      ]
    },
    {
      "cell_type": "code",
      "metadata": {
        "id": "u4mVBtPn6k4N"
      },
      "source": [
        "def load_data(filename, train_evo, test_evo, steps, window_size,\n",
        "              normalization='none'):\n",
        "    \"\"\"\n",
        "    Load data. Add input pulse profile as the first step.\n",
        "    The input for the network is 'window_size' times the input profile.\n",
        "\n",
        "    Parameters\n",
        "    ----------\n",
        "    filename : filename as string\n",
        "    train_evo : number of training evolutions as integer\n",
        "    test_evo : number of test evolutions as integer\n",
        "    steps : number of propagation steps as integer\n",
        "    window_size : RNN window size as integer\n",
        "    normalization : none (default), max, dBm, manual ...\n",
        "\n",
        "    Returns\n",
        "    -------\n",
        "    i_x : number of grid points (spectral/temporal) as integer\n",
        "    X_train : training data input, shape (N, window_size, i_x)\n",
        "    X_test : testing data input, shape (M, window_size, i_x)\n",
        "    Y_train : training data output, shape (N, i_x)\n",
        "    Y_test : testing data output, shape (M, i_x)\n",
        "    \"\"\"\n",
        "\n",
        "    # Load data\n",
        "    mat_contents = sio.loadmat(filename)\n",
        "    data = mat_contents['data_s_all']\n",
        "    print(\"data loaded...\")\n",
        "    print(data.shape)\n",
        "\n",
        "    if normalization == 'none':\n",
        "        pass\n",
        "        \n",
        "    elif normalization == 'max':  # linear scale (normalized)\n",
        "        m_max = np.max(np.fabs(data))\n",
        "        print('max:', m_max)\n",
        "        data = data/m_max\n",
        "\n",
        "    elif normalization == 'dBm':  # logarithmic scale\n",
        "        m_max = np.max(np.fabs(data))\n",
        "        print('max:', m_max)\n",
        "        data=data/m_max  # normalize\n",
        "        data = 10*np.log10(data)  # dB scale\n",
        "        dBlim = 50  # define dynamic range\n",
        "        data[data < -dBlim] = -dBlim  # set spectrum <-55 to -55\n",
        "        data = data/dBlim+1\n",
        "        \n",
        "\n",
        "    elif normalization == 'manual':\n",
        "        m_max = 10369993.175721595 # SC spectral domain\n",
        "        print('max:', m_max)\n",
        "        data = data/m_max\n",
        "\n",
        "\n",
        "    # the number of grid points\n",
        "    i_x = data.shape[1]\n",
        "\n",
        "    # Make the time series\n",
        "    num_evo = train_evo + test_evo\n",
        "    evo_size = steps - 1\n",
        "    num_samples = np.round(num_evo*evo_size).astype(int)\n",
        "    X_data_series = np.zeros((num_samples, window_size, i_x))\n",
        "    Y_data_series = np.zeros((num_samples, i_x))\n",
        "\n",
        "    for evo in range(num_evo):\n",
        "        evo_data = np.transpose(data[evo, :, :])\n",
        "\n",
        "        # tile the beginning of the evolution with 'window_size' input profiles\n",
        "        temp1 = evo_data[0, :]\n",
        "        temp2 = np.tile(temp1, (window_size - 1, 1))\n",
        "        evo_data = np.vstack((temp2, evo_data))\n",
        "\n",
        "        for step in range(evo_size):\n",
        "            input_data = evo_data[step:step + window_size, :]\n",
        "            output_data = evo_data[step + window_size, :]\n",
        "            series_idx = evo*evo_size + step\n",
        "            X_data_series[series_idx, :, :] = input_data\n",
        "            Y_data_series[series_idx, :] = output_data\n",
        "\n",
        "\n",
        "    X_train = X_data_series[:num_samples - test_evo*evo_size]\n",
        "    X_test = X_data_series[num_samples - test_evo*evo_size:]\n",
        "    Y_train = Y_data_series[:num_samples - test_evo*evo_size]\n",
        "    Y_test = Y_data_series[num_samples - test_evo*evo_size:]\n",
        "\n",
        "    return i_x, X_train, X_test, Y_train, Y_test, data"
      ],
      "execution_count": 2,
      "outputs": []
    },
    {
      "cell_type": "code",
      "metadata": {
        "colab": {
          "base_uri": "https://localhost:8080/"
        },
        "id": "yr8D5AEI6olF",
        "outputId": "c47720aa-0635-498a-d723-36a10c874047"
      },
      "source": [
        "filename = '/content/drive/MyDrive/NatMI_MMFwRNN/Data/data_s_all.mat'\n",
        "\n",
        "window_size = 10 # RNN window size\n",
        "num_epoch = 50 # number of epochs\n",
        "#num_epoch = 10 # number of epochs\n",
        "\n",
        "train_evo, test_evo, steps = 1150, 50, 120\n",
        "added_params = 0\n",
        "\n",
        "\n",
        "i_x, X_train, X_test, Y_train, Y_test, data = load_data(filename, train_evo,test_evo, steps,window_size,'max') # max/dBm"
      ],
      "execution_count": 3,
      "outputs": [
        {
          "output_type": "stream",
          "text": [
            "data loaded...\n",
            "(1500, 1024, 120)\n",
            "max: 6.94835185801477e+18\n"
          ],
          "name": "stdout"
        }
      ]
    },
    {
      "cell_type": "code",
      "metadata": {
        "id": "KsCStUUC-eL5",
        "colab": {
          "base_uri": "https://localhost:8080/",
          "height": 543
        },
        "outputId": "4390a2b8-de19-49e8-9c1a-5eb60133432e"
      },
      "source": [
        "a = 2\n",
        "plt.figure(figsize=(30, 10))\n",
        "plt.imshow(Y_test[a*120:(a+1)*120-a-1,:])\n",
        "plt.colorbar()\n",
        "plt.show()"
      ],
      "execution_count": 4,
      "outputs": [
        {
          "output_type": "display_data",
          "data": {
            "image/png": "[encoded data removed]",
            "text/plain": [
              "<Figure size 2160x720 with 2 Axes>"
            ]
          },
          "metadata": {
            "tags": [],
            "needs_background": "light"
          }
        }
      ]
    },
    {
      "cell_type": "code",
      "metadata": {
        "id": "8ZidOap_-mq1",
        "colab": {
          "base_uri": "https://localhost:8080/",
          "height": 265
        },
        "outputId": "82182bfa-c104-4584-b695-39ff33816676"
      },
      "source": [
        "a = 10\n",
        "plt.plot(Y_test[(119*a)-a,:])\n",
        "plt.show()"
      ],
      "execution_count": 5,
      "outputs": [
        {
          "output_type": "display_data",
          "data": {
            "image/png": "[encoded data removed]",
            "text/plain": [
              "<Figure size 432x288 with 1 Axes>"
            ]
          },
          "metadata": {
            "tags": [],
            "needs_background": "light"
          }
        }
      ]
    },
    {
      "cell_type": "code",
      "metadata": {
        "colab": {
          "base_uri": "https://localhost:8080/"
        },
        "id": "ASl_q43y7o7k",
        "outputId": "139871a2-9bf2-4771-d3e7-cb0b6777e4f9"
      },
      "source": [
        "print(X_train.shape, X_test.shape, Y_train.shape, Y_test.shape)"
      ],
      "execution_count": 6,
      "outputs": [
        {
          "output_type": "stream",
          "text": [
            "(172550, 10, 1024) (5950, 10, 1024) (172550, 1024) (5950, 1024)\n"
          ],
          "name": "stdout"
        }
      ]
    },
    {
      "cell_type": "code",
      "metadata": {
        "id": "eTxDGxn-8ih3"
      },
      "source": [
        "from keras.models import Sequential\n",
        "from keras.layers import Dense, Activation, Flatten, LSTM\n",
        "from keras.utils import np_utils\n",
        "from keras.callbacks import History\n",
        "from keras import optimizers\n",
        "\n",
        "\n",
        "def make_RNN_model(window_size, i_x, added_params=0):\n",
        "    \"\"\"\n",
        "    Create RNN model\n",
        "\n",
        "    Parameters\n",
        "    ----------\n",
        "    window_size : RNN window size as integer\n",
        "    i_x : number of grid points as integer\n",
        "    added_params : number of additional parameters as integer (optional)\n",
        "\n",
        "    Returns\n",
        "    -------\n",
        "    model : keras model\n",
        "    \"\"\"\n",
        "\n",
        "    # Define model architecture\n",
        "    model = Sequential()\n",
        "\n",
        "    a = 'relu'\n",
        "    input_shape = (window_size, i_x+added_params)\n",
        "\n",
        "    model.add(LSTM(1000, activation=a, input_shape=input_shape))\n",
        "    model.add(Dense(1000, activation=a))\n",
        "    model.add(Dense(1000, activation=a))\n",
        "    model.add(Dense(i_x, activation='sigmoid'))\n",
        "\n",
        "    # Compile model\n",
        "    optimizer = optimizers.RMSprop(lr=1e-4, rho=0.9)\n",
        "    loss = 'mean_squared_error'\n",
        "    model.compile(loss=loss,\n",
        "                  optimizer=optimizer,\n",
        "                  metrics=['mse', 'mae'])\n",
        "\n",
        "    return model"
      ],
      "execution_count": 7,
      "outputs": []
    },
    {
      "cell_type": "code",
      "metadata": {
        "colab": {
          "base_uri": "https://localhost:8080/"
        },
        "id": "rZE8asPY7s4B",
        "outputId": "35079c40-4570-48cd-f174-9b1ff75bb984"
      },
      "source": [
        "model = make_RNN_model(window_size, i_x)"
      ],
      "execution_count": 8,
      "outputs": [
        {
          "output_type": "stream",
          "text": [
            "WARNING:tensorflow:Layer lstm will not use cuDNN kernel since it doesn't meet the cuDNN kernel criteria. It will use generic GPU kernel as fallback when running on GPU\n"
          ],
          "name": "stdout"
        }
      ]
    },
    {
      "cell_type": "code",
      "metadata": {
        "colab": {
          "base_uri": "https://localhost:8080/"
        },
        "id": "qCSIUGI79EVP",
        "outputId": "5e6440ce-786d-4693-d5b1-2f1dd67433d3"
      },
      "source": [
        "model.summary()"
      ],
      "execution_count": 9,
      "outputs": [
        {
          "output_type": "stream",
          "text": [
            "Model: \"sequential\"\n",
            "_________________________________________________________________\n",
            "Layer (type)                 Output Shape              Param #   \n",
            "=================================================================\n",
            "lstm (LSTM)                  (None, 1000)              8100000   \n",
            "_________________________________________________________________\n",
            "dense (Dense)                (None, 1000)              1001000   \n",
            "_________________________________________________________________\n",
            "dense_1 (Dense)              (None, 1000)              1001000   \n",
            "_________________________________________________________________\n",
            "dense_2 (Dense)              (None, 1024)              1025024   \n",
            "=================================================================\n",
            "Total params: 11,127,024\n",
            "Trainable params: 11,127,024\n",
            "Non-trainable params: 0\n",
            "_________________________________________________________________\n"
          ],
          "name": "stdout"
        }
      ]
    },
    {
      "cell_type": "code",
      "metadata": {
        "colab": {
          "base_uri": "https://localhost:8080/"
        },
        "id": "xkmbTCWv8UQd",
        "outputId": "754c3d3f-29b3-42df-d871-3f642a3a729f"
      },
      "source": [
        "### Fit model on training data\n",
        "history = model.fit(X_train, Y_train,epochs=num_epoch,validation_split=0.1,verbose=2)"
      ],
      "execution_count": null,
      "outputs": [
        {
          "output_type": "stream",
          "text": [
            "Epoch 1/50\n"
          ],
          "name": "stdout"
        }
      ]
    },
    {
      "cell_type": "code",
      "metadata": {
        "id": "cx6YnLe19PAs"
      },
      "source": [
        "plt.figure()\n",
        "plt.xlabel('Epoch')\n",
        "plt.plot(history.epoch, np.array(history.history['loss']),label='Train Loss')\n",
        "plt.plot(history.epoch, np.array(history.history['val_loss']),label = 'Val loss')\n",
        "plt.legend()\n",
        "plt.show()"
      ],
      "execution_count": null,
      "outputs": []
    },
    {
      "cell_type": "code",
      "metadata": {
        "id": "yWEnuwniUX0z"
      },
      "source": [
        "model.save('/content/drive/MyDrive/NatMI_MMFwRNN/Data/evo_wave.h5')"
      ],
      "execution_count": null,
      "outputs": []
    },
    {
      "cell_type": "code",
      "metadata": {
        "id": "w40S6QCwUzzk"
      },
      "source": [
        "print(\"TESTING STEP-WISE...\")\n",
        "Y_submit = model.predict_proba(X_test)"
      ],
      "execution_count": null,
      "outputs": []
    },
    {
      "cell_type": "code",
      "metadata": {
        "id": "Q6_nYhtcU69T"
      },
      "source": [
        "Y_submit.shape"
      ],
      "execution_count": null,
      "outputs": []
    },
    {
      "cell_type": "code",
      "metadata": {
        "id": "ZAkJp9X6U8Iv"
      },
      "source": [
        "sio.savemat('/content/drive/MyDrive/NatMI_MMFwRNN/Data/test_results_wave.mat', {'Y_submit':Y_submit, 'Y_test':Y_test, 'steps':steps,'window_size':window_size})"
      ],
      "execution_count": null,
      "outputs": []
    },
    {
      "cell_type": "code",
      "metadata": {
        "id": "xDdwMHT1Wfec"
      },
      "source": [
        "def pred_evo(model, X_test, test_evo, steps, window_size, i_x):\n",
        "    \"\"\"\n",
        "    Predict evolution from a given input step. The input is 'window_size' times\n",
        "    the given input.\n",
        "\n",
        "    Parameters\n",
        "    ----------\n",
        "    model : Keras model\n",
        "    X_test: : test data, size (samples, window_size, i_x)\n",
        "    test_evo : number of test evolutions as integer\n",
        "    steps : steps as integer\n",
        "    window_size : RNN window size as integer\n",
        "    i_x : number of grid points (spectral/temporal) as integer\n",
        "\n",
        "    Returns\n",
        "    -------\n",
        "    Y_submit : results matrix, size (samples, i_x)\n",
        "    \"\"\"\n",
        "\n",
        "    # Make the time series\n",
        "    evo_size = steps - 1\n",
        "    Y_submit = np.zeros((test_evo, evo_size, i_x))\n",
        "    test_data = X_test[::evo_size,:,:]  # select fiber input profiles\n",
        "\n",
        "    for step in range(evo_size):\n",
        "        test_result = model.predict_proba(test_data)\n",
        "        Y_submit[:,step,:] = test_result\n",
        "        test_result = np.expand_dims(test_result, axis=1)\n",
        "        test_data = np.concatenate((test_data,test_result), axis=1)\n",
        "        test_data = test_data[:, 1:, :]\n",
        "\n",
        "    # reshape to the original dimensions\n",
        "    Y_submit = np.reshape(Y_submit,(evo_size*test_evo, i_x))\n",
        "\n",
        "    return Y_submit"
      ],
      "execution_count": null,
      "outputs": []
    },
    {
      "cell_type": "code",
      "metadata": {
        "id": "qP__0c-CVZ14"
      },
      "source": [
        "Y_submit = pred_evo(model, X_test, test_evo, steps, window_size, i_x)"
      ],
      "execution_count": null,
      "outputs": []
    },
    {
      "cell_type": "code",
      "metadata": {
        "id": "m0lfV55039JH"
      },
      "source": [
        "Y_submit.shape"
      ],
      "execution_count": null,
      "outputs": []
    },
    {
      "cell_type": "code",
      "metadata": {
        "id": "ktYVYx4qVcdu"
      },
      "source": [
        "sio.savemat('/content/drive/MyDrive/NatMI_MMFwRNN/Data/full_test_results_wave.mat', {'Y_submit':Y_submit, 'Y_test':Y_test, 'steps':steps,'window_size':window_size})"
      ],
      "execution_count": null,
      "outputs": []
    },
    {
      "cell_type": "code",
      "metadata": {
        "id": "1o4nK6xalofb"
      },
      "source": [
        "plt.imshow(Y_test[0:119,:])\n",
        "plt.colorbar()\n",
        "plt.show()"
      ],
      "execution_count": null,
      "outputs": []
    },
    {
      "cell_type": "code",
      "metadata": {
        "id": "pAz0a-PazdwU"
      },
      "source": [
        "#plt.figure(figsize=(30, 10))\n",
        "plt.imshow(Y_submit[0:119,:])\n",
        "plt.colorbar()\n",
        "plt.show()"
      ],
      "execution_count": null,
      "outputs": []
    },
    {
      "cell_type": "code",
      "metadata": {
        "id": "6q_mmtK0zgFf"
      },
      "source": [
        "n = [1,2,3,10,11,50]\n",
        "\n",
        "for i in range(len(n)):\n",
        "    a = int(n[i])\n",
        "    plt.plot(Y_test[(119*a)-a,:])\n",
        "    plt.plot(Y_submit[(119*a)-a,:])\n",
        "    #plt.xlim([110, 140]) \n",
        "    plt.show()"
      ],
      "execution_count": null,
      "outputs": []
    },
    {
      "cell_type": "code",
      "metadata": {
        "id": "S0hlj_sWzkZY"
      },
      "source": [
        ""
      ],
      "execution_count": null,
      "outputs": []
    }
  ]
}